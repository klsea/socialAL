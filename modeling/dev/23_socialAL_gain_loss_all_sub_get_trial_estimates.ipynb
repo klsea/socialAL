{
 "cells": [
  {
   "cell_type": "markdown",
   "metadata": {},
   "source": [
    "# SocialAL Model\n",
    "# Fit model to data - multiple subjects\n",
    "KLS 5.31.22 \n",
    "Project info: https://osf.io/b48n2/\n",
    "\n",
    "Model modified from :\n",
    "Fareri, D. S., Chang, L. J., & Delgado, M. R. (2012). Effects of direct social experience on trust decisions and neural reward circuitry. Frontiers in Neuroscience, 6, 1–17. https://doi.org/10.3389/fnins.2012.00148\n",
    "\n",
    "Collins, A. G. E., & Frank, M. J. (2012). How much of reinforcement learning is working memory, not reinforcement learning? A behavioral, computational, and neurogenetic analysis. European Journal of Neuroscience, 35(7), 1024–1035. https://doi.org/10.1111/j.1460-9568.2011.07980.x"
   ]
  },
  {
   "cell_type": "markdown",
   "metadata": {},
   "source": [
    "### Python Version"
   ]
  },
  {
   "cell_type": "code",
   "execution_count": 1,
   "metadata": {},
   "outputs": [
    {
     "name": "stdout",
     "output_type": "stream",
     "text": [
      "3.7.3 (default, Mar 27 2019, 16:54:48) \n",
      "[Clang 4.0.1 (tags/RELEASE_401/final)]\n"
     ]
    }
   ],
   "source": [
    "import sys\n",
    "print(sys.version)  "
   ]
  },
  {
   "cell_type": "markdown",
   "metadata": {},
   "source": [
    "### Load modules"
   ]
  },
  {
   "cell_type": "code",
   "execution_count": 2,
   "metadata": {},
   "outputs": [],
   "source": [
    "import numpy as np\n",
    "import random\n",
    "import math\n",
    "import pandas as pd\n",
    "from scipy.optimize import minimize\n",
    "import os\n",
    "from decimal import *\n",
    "getcontext().prec = 1000 # increases the precision of data representation "
   ]
  },
  {
   "cell_type": "markdown",
   "metadata": {},
   "source": [
    "### Define functions"
   ]
  },
  {
   "cell_type": "code",
   "execution_count": 3,
   "metadata": {},
   "outputs": [],
   "source": [
    "def update_value(Prob):\n",
    "    invest = [0,3,6,9]\n",
    "    retain = [9-x for x in invest] #print (\"Retain list is: \", retain)\n",
    "    shared = [2*x for x in invest] #print (\"Shared list is: \", shared)\n",
    "    EV = [(retain[x] + Prob*shared[x]) for x in range(0,4)]\n",
    "    return EV\n",
    "\n",
    "def update_prob(recip, Prob, a_gain, a_loss):\n",
    "    gain = max(recip - Prob, 0)\n",
    "    loss = min(recip - Prob, 0)\n",
    "    Prob = Prob + a_gain * gain + a_loss * loss\n",
    "    return Prob\n",
    "\n",
    "def get_action_selection_prob(beta, EV, choice):\n",
    "    actionProb = Decimal(np.exp(beta*EV[choice-1])/np.sum([np.exp(beta*x) for x in EV]))\n",
    "    return actionProb\n",
    "\n",
    "def get_action_selection_probs(beta, EV):\n",
    "    actionProbs = [get_action_selection_prob(beta, EV, x) for x in range(1,5)]\n",
    "    return actionProbs\n",
    "\n",
    "def get_trial_estimates(params, data):\n",
    "    sub = params[0]\n",
    "    a_gain = params[1]\n",
    "    a_loss = params[2]\n",
    "    beta = params[3]\n",
    "    \n",
    "    # initialize variables\n",
    "    prob = [0.5, 0.5, 0.5]\n",
    "    ev = [[9,9,9,9],[9,9,9,9],[9,9,9,9]]\n",
    "    tletters = [\"A\", \"B\", \"C\"]\n",
    "    \n",
    "    trial_data = []\n",
    "    for trial in range(0, len(data)):\n",
    "        \n",
    "        trustee = data['Stim_Sequence'][trial] # get trustee type\n",
    "        choice = data['Choice'][trial] # get choice made by participant\n",
    "        response = data['Trustee_Response'][trial] # get response from trustee\n",
    "        \n",
    "        # record prob of reciprocation at beginning of trial\n",
    "        prob_recip = prob[trustee]\n",
    "        \n",
    "        # calculate prediction error for the trial\n",
    "        pe = response - prob[trustee]\n",
    "        \n",
    "        # compute the probability of selecting each option for that trustee\n",
    "        probs = get_action_selection_probs(beta, ev[trustee])\n",
    "        \n",
    "        if choice != 0:\n",
    "            # use the probability of the selection (choice-probability) to update log likelihood\n",
    "            cprob = probs[choice-1] #print(cprob, isinstance(cprob, float))\n",
    "\n",
    "            # update prob and value for trustee \n",
    "            if choice != 1:\n",
    "                prob[trustee] = update_prob(response, prob[trustee], a_gain, a_loss)         \n",
    "            ev[trustee] = update_value(prob[trustee])\n",
    "            \n",
    "        trial_data.append([sub, trial+1, prob_recip, pe])\n",
    "        \n",
    "    return trial_data"
   ]
  },
  {
   "cell_type": "markdown",
   "metadata": {},
   "source": [
    "### Load and clean data"
   ]
  },
  {
   "cell_type": "code",
   "execution_count": 6,
   "metadata": {},
   "outputs": [
    {
     "data": {
      "text/html": [
       "<div>\n",
       "<style scoped>\n",
       "    .dataframe tbody tr th:only-of-type {\n",
       "        vertical-align: middle;\n",
       "    }\n",
       "\n",
       "    .dataframe tbody tr th {\n",
       "        vertical-align: top;\n",
       "    }\n",
       "\n",
       "    .dataframe thead th {\n",
       "        text-align: right;\n",
       "    }\n",
       "</style>\n",
       "<table border=\"1\" class=\"dataframe\">\n",
       "  <thead>\n",
       "    <tr style=\"text-align: right;\">\n",
       "      <th></th>\n",
       "      <th>id</th>\n",
       "      <th>alpha_gain</th>\n",
       "      <th>alpha_loss</th>\n",
       "      <th>beta</th>\n",
       "      <th>-LLH</th>\n",
       "    </tr>\n",
       "  </thead>\n",
       "  <tbody>\n",
       "    <tr>\n",
       "      <th>68</th>\n",
       "      <td>sub-2009</td>\n",
       "      <td>0.000000</td>\n",
       "      <td>1.000000</td>\n",
       "      <td>0.071504</td>\n",
       "      <td>61.424165</td>\n",
       "    </tr>\n",
       "    <tr>\n",
       "      <th>69</th>\n",
       "      <td>sub-2037</td>\n",
       "      <td>0.001407</td>\n",
       "      <td>0.005477</td>\n",
       "      <td>20.000000</td>\n",
       "      <td>48.727043</td>\n",
       "    </tr>\n",
       "    <tr>\n",
       "      <th>70</th>\n",
       "      <td>sub-2023</td>\n",
       "      <td>0.007018</td>\n",
       "      <td>0.016642</td>\n",
       "      <td>20.000000</td>\n",
       "      <td>31.610172</td>\n",
       "    </tr>\n",
       "    <tr>\n",
       "      <th>71</th>\n",
       "      <td>sub-2022</td>\n",
       "      <td>0.000000</td>\n",
       "      <td>0.332208</td>\n",
       "      <td>0.034781</td>\n",
       "      <td>60.909432</td>\n",
       "    </tr>\n",
       "    <tr>\n",
       "      <th>72</th>\n",
       "      <td>sub-2036</td>\n",
       "      <td>0.734792</td>\n",
       "      <td>0.000000</td>\n",
       "      <td>0.097911</td>\n",
       "      <td>61.106887</td>\n",
       "    </tr>\n",
       "  </tbody>\n",
       "</table>\n",
       "</div>"
      ],
      "text/plain": [
       "          id  alpha_gain  alpha_loss       beta       -LLH\n",
       "68  sub-2009    0.000000    1.000000   0.071504  61.424165\n",
       "69  sub-2037    0.001407    0.005477  20.000000  48.727043\n",
       "70  sub-2023    0.007018    0.016642  20.000000  31.610172\n",
       "71  sub-2022    0.000000    0.332208   0.034781  60.909432\n",
       "72  sub-2036    0.734792    0.000000   0.097911  61.106887"
      ]
     },
     "execution_count": 6,
     "metadata": {},
     "output_type": "execute_result"
    }
   ],
   "source": [
    "bestparams = pd.read_csv('../../output/two_alpha_model_params.csv')\n",
    "#bestparams.head(5)\n",
    "#bestparams.shape[0]\n",
    "bestparams.tail(5)"
   ]
  },
  {
   "cell_type": "code",
   "execution_count": 10,
   "metadata": {},
   "outputs": [],
   "source": [
    "files = os.listdir('../../data/modeling')\n",
    "#files = bestparams['id'] # don't use this\n",
    "files = [file.replace('.csv', '') for file in files]"
   ]
  },
  {
   "cell_type": "code",
   "execution_count": 13,
   "metadata": {},
   "outputs": [],
   "source": [
    "def load_and_clean(file):\n",
    "    filename = file + '.csv'\n",
    "    path = os.path.join('../../data/modeling', filename)\n",
    "    dt = pd.read_csv(path)\n",
    "    # recode trial type into numbers for model\n",
    "    def stims(trial_type):\n",
    "        if trial_type == \"Trustworthy\":\n",
    "            return 0\n",
    "        elif trial_type == \"Neutral\":\n",
    "            return 1\n",
    "        elif trial_type == \"Untrustworthy\":\n",
    "            return 2\n",
    "    dt['Stim_Sequence'] = dt['trial_type'].apply(stims)\n",
    "    # rename response_key to choice\n",
    "    def choices(response_key):\n",
    "        if response_key == 'None':\n",
    "            return 0 \n",
    "        else:\n",
    "            return response_key  \n",
    "    dt['Choice'] = dt['response_key'].apply(choices)\n",
    "    dt['Choice'] = pd.to_numeric(dt['Choice'])\n",
    "    # calculte the trustee response\n",
    "    def resp(trial_earnings):\n",
    "        if trial_earnings >= 12:\n",
    "            return 1\n",
    "        else:\n",
    "            return 0\n",
    "    dt['Trustee_Response'] = dt['trial_earnings'].apply(resp)\n",
    "    \n",
    "    data = dt[['Stim_Sequence','Choice', 'Trustee_Response']]\n",
    "    return(data)"
   ]
  },
  {
   "cell_type": "code",
   "execution_count": 106,
   "metadata": {},
   "outputs": [],
   "source": [
    "#load_and_clean(files[1])"
   ]
  },
  {
   "cell_type": "code",
   "execution_count": 117,
   "metadata": {},
   "outputs": [],
   "source": [
    "def get_parameters(file):\n",
    "    params = bestparams.loc[bestparams['id'] == file].values.flatten().tolist()\n",
    "    #params = params.values.tolist()\n",
    "    return(params)"
   ]
  },
  {
   "cell_type": "code",
   "execution_count": 118,
   "metadata": {},
   "outputs": [
    {
     "data": {
      "text/plain": [
       "['sub-2007',\n",
       " 0.28995466100622297,\n",
       " 0.20680113228565547,\n",
       " 0.3030442466820028,\n",
       " 51.566509425195704]"
      ]
     },
     "execution_count": 118,
     "metadata": {},
     "output_type": "execute_result"
    }
   ],
   "source": [
    "get_parameters(files[1])"
   ]
  },
  {
   "cell_type": "code",
   "execution_count": 120,
   "metadata": {},
   "outputs": [],
   "source": [
    "#trialest = [get_trial_estimates(bplist[x], load_and_clean(files[x])) for x in range(len(files))]\n",
    "trialest = [get_trial_estimates(get_parameters(files[x]), load_and_clean(files[x])) for x in range(len(files))]"
   ]
  },
  {
   "cell_type": "code",
   "execution_count": 127,
   "metadata": {},
   "outputs": [],
   "source": [
    "# add a loop here to save a separate file for each participant\n",
    "for x in range(len(files)):\n",
    "    filepath = '../../output/gain_loss_trial_estimates/' + files[x] + '.csv'\n",
    "    #print(filepath)\n",
    "    sub = pd.DataFrame(trialest[x], columns = ['id', 'trial', 'prob_recip', 'pe'])\n",
    "    #print(sub.head(5))\n",
    "    sub.to_csv(path_or_buf = filepath, index = False)"
   ]
  },
  {
   "cell_type": "code",
   "execution_count": null,
   "metadata": {},
   "outputs": [],
   "source": []
  }
 ],
 "metadata": {
  "kernelspec": {
   "display_name": "Python 3",
   "language": "python",
   "name": "python3"
  },
  "language_info": {
   "codemirror_mode": {
    "name": "ipython",
    "version": 3
   },
   "file_extension": ".py",
   "mimetype": "text/x-python",
   "name": "python",
   "nbconvert_exporter": "python",
   "pygments_lexer": "ipython3",
   "version": "3.7.3"
  }
 },
 "nbformat": 4,
 "nbformat_minor": 2
}
