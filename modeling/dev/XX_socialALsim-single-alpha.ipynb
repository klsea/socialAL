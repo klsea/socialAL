{
 "cells": [
  {
   "cell_type": "markdown",
   "metadata": {},
   "source": [
    "### SocialAL Models\n",
    "# Data simulation and parameter recovery - multiple subjects\n",
    "KLS 8.30.19; update 3.5.22  \n",
    "Project info: https://osf.io/b48n2/\n",
    "\n",
    "Model modified from :\n",
    "Fareri, D. S., Chang, L. J., & Delgado, M. R. (2012). Effects of direct social experience on trust decisions and neural reward circuitry. Frontiers in Neuroscience, 6, 1–17. https://doi.org/10.3389/fnins.2012.00148"
   ]
  },
  {
   "cell_type": "markdown",
   "metadata": {},
   "source": [
    "### Python version"
   ]
  },
  {
   "cell_type": "code",
   "execution_count": 1,
   "metadata": {},
   "outputs": [
    {
     "name": "stdout",
     "output_type": "stream",
     "text": [
      "3.7.3 (default, Mar 27 2019, 16:54:48) \n",
      "[Clang 4.0.1 (tags/RELEASE_401/final)]\n"
     ]
    }
   ],
   "source": [
    "import sys\n",
    "print(sys.version)  "
   ]
  },
  {
   "cell_type": "markdown",
   "metadata": {},
   "source": [
    "### Load modules"
   ]
  },
  {
   "cell_type": "code",
   "execution_count": 2,
   "metadata": {},
   "outputs": [],
   "source": [
    "import numpy as np\n",
    "import random\n",
    "import math\n",
    "import pandas as pd\n",
    "from scipy.optimize import minimize\n",
    "import matplotlib.pyplot as plt\n",
    "import itertools"
   ]
  },
  {
   "cell_type": "markdown",
   "metadata": {},
   "source": [
    "## Pull in functions"
   ]
  },
  {
   "cell_type": "code",
   "execution_count": 3,
   "metadata": {},
   "outputs": [],
   "source": [
    "run common_functions.ipynb"
   ]
  },
  {
   "cell_type": "code",
   "execution_count": 4,
   "metadata": {},
   "outputs": [],
   "source": [
    "run single_alpha_functions.ipynb"
   ]
  },
  {
   "cell_type": "markdown",
   "metadata": {},
   "source": [
    "## Functions to simulate data"
   ]
  },
  {
   "cell_type": "code",
   "execution_count": 5,
   "metadata": {},
   "outputs": [],
   "source": [
    "def select_response(prob):     \n",
    "    n = random.uniform(0,1)\n",
    "    if n > prob:\n",
    "        response = 0\n",
    "    else:\n",
    "        response = 1\n",
    "    return response"
   ]
  },
  {
   "cell_type": "markdown",
   "metadata": {},
   "source": [
    "### Set constants"
   ]
  },
  {
   "cell_type": "code",
   "execution_count": 6,
   "metadata": {},
   "outputs": [],
   "source": [
    "recip_rates = {0: 0.93, 1:0.6, 2:0.07}"
   ]
  },
  {
   "cell_type": "markdown",
   "metadata": {},
   "source": [
    "### New function to simulate data for one sub"
   ]
  },
  {
   "cell_type": "code",
   "execution_count": 7,
   "metadata": {},
   "outputs": [],
   "source": [
    "def sim_data(tn, params):\n",
    "    # tn: number of trials desired\n",
    "    # params: ground truth of parameters\n",
    "    \n",
    "    alpha = params[0]\n",
    "    beta = params[1]\n",
    "\n",
    "    \n",
    "    # initialize variables\n",
    "    Probs = [0.5, 0.5, 0.5]\n",
    "    EVs = [[9,9,9,9],[9,9,9,9],[9,9,9,9]]\n",
    "    param1=[]\n",
    "    param2=[]\n",
    "    \n",
    "    # generate trial sequence\n",
    "    trial_sequence = np.repeat([0,1,2], tn)\n",
    "    random.shuffle(trial_sequence) #print(trial_sequence)\n",
    "    \n",
    "    trial = []\n",
    "    choices = []\n",
    "    responses = []\n",
    "    \n",
    "    for x in range(0,len(trial_sequence)):\n",
    "        t = trial_sequence[x] \n",
    "        \n",
    "        # Trial\n",
    "        trial.append(x+1)\n",
    "        \n",
    "        # Make a choice\n",
    "        choice = action_selection(get_action_selection_probs(beta, EVs[t]))\n",
    "        choices.append(choice) \n",
    "    \n",
    "        # Get a response\n",
    "        recip_rate = recip_rates.get(t) \n",
    "        \n",
    "        response = select_response(recip_rate) \n",
    "        responses.append(response)\n",
    "    \n",
    "        # after choice, update probability\n",
    "        if choice != 1:\n",
    "            #Probs[t] = update_prob(response, Probs[t], a_gain, a_loss) \n",
    "            Probs[t] = update_prob(response, Probs[t], alpha)\n",
    "        # then update value\n",
    "        EVs[t] = update_value(Probs[t]) \n",
    "\n",
    "    data = {'Trial': trial, 'Stim_Sequence': trial_sequence, 'Choice' : choices, 'Trustee_Response': responses}    \n",
    "    return data"
   ]
  },
  {
   "cell_type": "code",
   "execution_count": 8,
   "metadata": {},
   "outputs": [],
   "source": [
    "#sim_data(15,[.2,2])"
   ]
  },
  {
   "cell_type": "markdown",
   "metadata": {},
   "source": [
    "### New function to sim data for multiple subjects"
   ]
  },
  {
   "cell_type": "code",
   "execution_count": 9,
   "metadata": {},
   "outputs": [],
   "source": [
    "def sim_mult_subject_data(n, tn, params):\n",
    "    data = pd.DataFrame(columns= ['Trial', 'Stim_Sequence', 'Choice', 'Trustee_Response', 'Subject', 'Alpha', 'Beta'])\n",
    "    for x in range(1, n+1):\n",
    "        sdt = sim_data(tn, params)\n",
    "        sdt = pd.DataFrame.from_dict(sdt)\n",
    "        sdt['Subject'] = [x for t in range(0,tn*3)]\n",
    "        sdt['Alpha'] = params[0]\n",
    "        sdt['Beta'] = params[1]\n",
    "        data = pd.concat([data,sdt])\n",
    "    return data"
   ]
  },
  {
   "cell_type": "markdown",
   "metadata": {},
   "source": [
    "### Create param space"
   ]
  },
  {
   "cell_type": "code",
   "execution_count": 10,
   "metadata": {},
   "outputs": [],
   "source": [
    "# create parameter space\n",
    "alphas = [round(x * 0.1,1) for x in range(0,11)]\n",
    "betas = [x * 2 for x in range(0,11)]\n",
    "combos = list(itertools.product(alphas, betas))\n",
    "#for r in combos: print(r)"
   ]
  },
  {
   "cell_type": "markdown",
   "metadata": {},
   "source": [
    "### Simulate data"
   ]
  },
  {
   "cell_type": "code",
   "execution_count": 11,
   "metadata": {},
   "outputs": [],
   "source": [
    "data = pd.DataFrame(columns= ['Trial', 'Stim_Sequence', 'Choice', 'Trustee_Response', 'Subject', 'Alpha', 'Beta'])\n",
    "for p in range(len(combos)):\n",
    "    dt = sim_mult_subject_data(10, 15, combos[p])\n",
    "    dt['Subject'] = dt['Subject'] + p*10\n",
    "    data = pd.concat([data, dt])\n",
    "    \n",
    "#data = sim_mult_subject_data(10, 15, [.2, 2])\n",
    "#data\n",
    "data.to_csv(path_or_buf = '../../output/simulation/sim_1alpha_model_data.csv', index = False)"
   ]
  },
  {
   "cell_type": "markdown",
   "metadata": {},
   "source": [
    "### New function to fit model to multiple subjects"
   ]
  },
  {
   "cell_type": "code",
   "execution_count": 18,
   "metadata": {},
   "outputs": [],
   "source": [
    "def model_fit_mult_subject(data):\n",
    "    pdt = pd.DataFrame(columns = ['Subject', 'alpha', 'beta'])\n",
    "    a = pd.unique(data['Subject'])\n",
    "    for sub in range(1,len(a)+1):\n",
    "        df = data[data['Subject']==(sub)]\n",
    "        dt = df.to_dict()\n",
    "        params = model_fit(dt)\n",
    "        #print(params)\n",
    "        line = {'Subject': sub, 'alpha': params.x[0], 'beta': params.x[1]}\n",
    "        pdt = pdt.append(line, ignore_index=True)   \n",
    "    return(pdt)\n"
   ]
  },
  {
   "cell_type": "code",
   "execution_count": 19,
   "metadata": {},
   "outputs": [],
   "source": [
    "precover = model_fit_mult_subject(data)\n",
    "precover.to_csv(path_or_buf = '../../output/simulation/sim_1alpha_model_fits.csv', index = False)"
   ]
  },
  {
   "cell_type": "code",
   "execution_count": 20,
   "metadata": {},
   "outputs": [
    {
     "name": "stdout",
     "output_type": "stream",
     "text": [
      "      Subject     alpha          beta\n",
      "0         1.0  1.000000  2.578735e-01\n",
      "1         2.0  0.004510  2.000000e+01\n",
      "2         3.0  0.000000  1.000000e-10\n",
      "3         4.0  0.073109  6.110100e-01\n",
      "4         5.0  0.000000  1.000000e-10\n",
      "5         6.0  0.000000  1.000000e-10\n",
      "6         7.0  1.000000  6.743667e-02\n",
      "7         8.0  0.000000  1.000000e-10\n",
      "8         9.0  0.000000  1.000000e-10\n",
      "9        10.0  0.000000  1.000000e-10\n",
      "10       11.0  0.000000  1.000000e-10\n",
      "11       12.0  0.000000  1.000000e-10\n",
      "12       13.0  0.007571  2.000000e+01\n",
      "13       14.0  0.000000  1.000000e-10\n",
      "14       15.0  0.007765  2.000000e+01\n",
      "15       16.0  0.000000  1.000000e-10\n",
      "16       17.0  0.000000  1.000000e-10\n",
      "17       18.0  0.937567  1.636574e+01\n",
      "18       19.0  0.000000  1.000000e-10\n",
      "19       20.0  0.305456  4.579132e-01\n",
      "20       21.0  0.000000  1.000000e-10\n",
      "21       22.0  0.019951  2.000000e+01\n",
      "22       23.0  0.000000  1.000000e-10\n",
      "23       24.0  0.010899  2.000000e+01\n",
      "24       25.0  0.006958  2.000000e+01\n",
      "25       26.0  1.000000  6.743666e-02\n",
      "26       27.0  0.000000  1.000000e-10\n",
      "27       28.0  0.008026  2.000000e+01\n",
      "28       29.0  0.000000  1.000000e-10\n",
      "29       30.0  0.000000  1.000000e-10\n",
      "...       ...       ...           ...\n",
      "1180   1181.0  1.000000  1.338895e+01\n",
      "1181   1182.0  1.000000  1.698566e+01\n",
      "1182   1183.0  1.000000  1.268131e+01\n",
      "1183   1184.0  1.000000  2.000000e+01\n",
      "1184   1185.0  1.000000  1.243151e+01\n",
      "1185   1186.0  1.000000  1.313402e+01\n",
      "1186   1187.0  1.000000  1.247359e+01\n",
      "1187   1188.0  1.000000  1.473142e+01\n",
      "1188   1189.0  1.000000  1.392254e+01\n",
      "1189   1190.0  1.000000  9.861179e+00\n",
      "1190   1191.0  1.000000  8.375971e+00\n",
      "1191   1192.0  1.000000  6.010994e+00\n",
      "1192   1193.0  1.000000  1.495183e+01\n",
      "1193   1194.0  1.000000  1.338642e+01\n",
      "1194   1195.0  1.000000  1.172671e+01\n",
      "1195   1196.0  1.000000  1.465675e+01\n",
      "1196   1197.0  1.000000  1.428686e+01\n",
      "1197   1198.0  1.000000  1.269582e+01\n",
      "1198   1199.0  1.000000  8.781779e+00\n",
      "1199   1200.0  1.000000  1.378736e+01\n",
      "1200   1201.0  1.000000  1.046252e+01\n",
      "1201   1202.0  1.000000  1.553376e+01\n",
      "1202   1203.0  1.000000  1.238160e+01\n",
      "1203   1204.0  1.000000  1.233501e+01\n",
      "1204   1205.0  1.000000  1.315393e+01\n",
      "1205   1206.0  1.000000  1.349520e+01\n",
      "1206   1207.0  1.000000  1.307146e+01\n",
      "1207   1208.0  1.000000  1.294715e+01\n",
      "1208   1209.0  1.000000  1.063514e+01\n",
      "1209   1210.0  1.000000  6.996153e+00\n",
      "\n",
      "[1210 rows x 3 columns]\n"
     ]
    }
   ],
   "source": [
    "print(precover)"
   ]
  },
  {
   "cell_type": "code",
   "execution_count": null,
   "metadata": {},
   "outputs": [],
   "source": [
    "#print(precover['alpha'])"
   ]
  },
  {
   "cell_type": "code",
   "execution_count": null,
   "metadata": {},
   "outputs": [],
   "source": [
    "#alpha = pd.Series(precover['alpha'])\n",
    "#print(alpha)\n",
    "#alpha.plot.hist(grid=True, bins=10, rwidth=0.9,\n",
    "#                   color='#607c8e')\n",
    "#plt.title('Alpha for 100 Subjects, alpha = 0.2')\n",
    "#plt.xlabel('Alphas')\n",
    "#plt.ylabel('Counts')\n",
    "#plt.grid(axis=precover['a_gain'], alpha=0.75)"
   ]
  },
  {
   "cell_type": "code",
   "execution_count": null,
   "metadata": {},
   "outputs": [],
   "source": [
    "#print(precover['a_loss'])"
   ]
  },
  {
   "cell_type": "code",
   "execution_count": null,
   "metadata": {},
   "outputs": [],
   "source": [
    "#loss = pd.Series(precover['a_loss'])\n",
    "#print(loss)\n",
    "#loss.plot.hist(grid=True, bins=10, rwidth=0.9,\n",
    "#                   color='#607c8e')\n",
    "#plt.title('Alpha Loss for 100 Subjects, alpha = 0.2')\n",
    "#plt.xlabel('Alphas')\n",
    "#plt.ylabel('Counts')\n",
    "#plt.grid(axis=precover['a_loss'], alpha=0.75)"
   ]
  },
  {
   "cell_type": "code",
   "execution_count": null,
   "metadata": {},
   "outputs": [],
   "source": [
    "#print(precover['beta'])"
   ]
  },
  {
   "cell_type": "code",
   "execution_count": null,
   "metadata": {},
   "outputs": [],
   "source": [
    "#beta = pd.Series(precover['beta'])\n",
    "#print(beta)\n",
    "#beta.plot.hist(grid=True, bins=10, rwidth=0.9,\n",
    "#                   color='#607c8e')\n",
    "#plt.title('Beta for 100 Subjects, beta = 1')\n",
    "#plt.xlabel('Betas')\n",
    "#plt.ylabel('Counts')\n",
    "#plt.grid(axis=precover['beta'], beta=0.75)"
   ]
  },
  {
   "cell_type": "code",
   "execution_count": null,
   "metadata": {},
   "outputs": [],
   "source": []
  },
  {
   "cell_type": "code",
   "execution_count": null,
   "metadata": {},
   "outputs": [],
   "source": []
  }
 ],
 "metadata": {
  "kernelspec": {
   "display_name": "Python 3",
   "language": "python",
   "name": "python3"
  },
  "language_info": {
   "codemirror_mode": {
    "name": "ipython",
    "version": 3
   },
   "file_extension": ".py",
   "mimetype": "text/x-python",
   "name": "python",
   "nbconvert_exporter": "python",
   "pygments_lexer": "ipython3",
   "version": "3.7.3"
  }
 },
 "nbformat": 4,
 "nbformat_minor": 2
}
