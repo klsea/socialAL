{
 "cells": [
  {
   "cell_type": "markdown",
   "metadata": {},
   "source": [
    "### SocialAL Models\n",
    "# Data simulation and parameter recovery - multiple subjects\n",
    "KLS 8.30.19; update 3.5.22  \n",
    "Project info: https://osf.io/b48n2/\n",
    "\n",
    "Model modified from :\n",
    "Fareri, D. S., Chang, L. J., & Delgado, M. R. (2012). Effects of direct social experience on trust decisions and neural reward circuitry. Frontiers in Neuroscience, 6, 1–17. https://doi.org/10.3389/fnins.2012.00148"
   ]
  },
  {
   "cell_type": "markdown",
   "metadata": {},
   "source": [
    "### Python version"
   ]
  },
  {
   "cell_type": "code",
   "execution_count": 1,
   "metadata": {},
   "outputs": [
    {
     "name": "stdout",
     "output_type": "stream",
     "text": [
      "3.7.3 (default, Mar 27 2019, 16:54:48) \n",
      "[Clang 4.0.1 (tags/RELEASE_401/final)]\n"
     ]
    }
   ],
   "source": [
    "import sys\n",
    "print(sys.version)  "
   ]
  },
  {
   "cell_type": "markdown",
   "metadata": {},
   "source": [
    "### Load modules"
   ]
  },
  {
   "cell_type": "code",
   "execution_count": 2,
   "metadata": {},
   "outputs": [],
   "source": [
    "import numpy as np\n",
    "import random\n",
    "import math\n",
    "import pandas as pd\n",
    "from scipy.optimize import minimize\n",
    "import matplotlib.pyplot as plt\n",
    "import itertools"
   ]
  },
  {
   "cell_type": "markdown",
   "metadata": {},
   "source": [
    "## Pull in functions"
   ]
  },
  {
   "cell_type": "code",
   "execution_count": 3,
   "metadata": {},
   "outputs": [],
   "source": [
    "run common_functions.ipynb"
   ]
  },
  {
   "cell_type": "code",
   "execution_count": 4,
   "metadata": {},
   "outputs": [],
   "source": [
    "run single_alpha_functions.ipynb"
   ]
  },
  {
   "cell_type": "markdown",
   "metadata": {},
   "source": [
    "## Functions to simulate data"
   ]
  },
  {
   "cell_type": "code",
   "execution_count": 5,
   "metadata": {},
   "outputs": [],
   "source": [
    "def select_response(prob):     \n",
    "    n = random.uniform(0,1)\n",
    "    if n > prob:\n",
    "        response = 0\n",
    "    else:\n",
    "        response = 1\n",
    "    return response"
   ]
  },
  {
   "cell_type": "markdown",
   "metadata": {},
   "source": [
    "### Set constants"
   ]
  },
  {
   "cell_type": "code",
   "execution_count": 6,
   "metadata": {},
   "outputs": [],
   "source": [
    "recip_rates = {0: 0.93, 1:0.6, 2:0.07}"
   ]
  },
  {
   "cell_type": "markdown",
   "metadata": {},
   "source": [
    "### New function to simulate data for one sub"
   ]
  },
  {
   "cell_type": "code",
   "execution_count": 7,
   "metadata": {},
   "outputs": [],
   "source": [
    "def sim_data(tn, params):\n",
    "    # tn: number of trials desired\n",
    "    # params: ground truth of parameters\n",
    "    #a_gain = params[0]\n",
    "    #a_loss = params[1]\n",
    "    #beta = params[2]\n",
    "    \n",
    "    alpha = params[0]\n",
    "    beta = params[1]\n",
    "\n",
    "    \n",
    "    # initialize variables\n",
    "    Probs = [0.5, 0.5, 0.5]\n",
    "    EVs = [[9,9,9,9],[9,9,9,9],[9,9,9,9]]\n",
    "    param1=[]\n",
    "    param2=[]\n",
    "    \n",
    "    # generate trial sequence\n",
    "    trial_sequence = np.repeat([0,1,2], tn)\n",
    "    random.shuffle(trial_sequence) #print(trial_sequence)\n",
    "    \n",
    "    choices = []\n",
    "    responses = []\n",
    "    \n",
    "    for x in range(0,len(trial_sequence)):\n",
    "        t = trial_sequence[x] \n",
    "        \n",
    "        # Make a choice\n",
    "        choice = action_selection(get_action_selection_probs(beta, EVs[t]))\n",
    "        choices.append(choice) \n",
    "    \n",
    "        # Get a response\n",
    "        recip_rate = recip_rates.get(t) \n",
    "        \n",
    "        response = select_response(recip_rate) \n",
    "        responses.append(response)\n",
    "    \n",
    "        # after choice, update probability\n",
    "        if choice != 1:\n",
    "            #Probs[t] = update_prob(response, Probs[t], a_gain, a_loss) \n",
    "            Probs[t] = update_prob(response, Probs[t], alpha)\n",
    "        # then update value\n",
    "        EVs[t] = update_value(Probs[t]) \n",
    "        \n",
    "        # record params\n",
    "        param1.append(alpha)\n",
    "        param2.append(beta)\n",
    "    data = {'Stim_Sequence': trial_sequence, 'Choice' : choices, 'Trustee_Response': responses}    \n",
    "    return data"
   ]
  },
  {
   "cell_type": "code",
   "execution_count": 8,
   "metadata": {},
   "outputs": [],
   "source": [
    "#sim_data(45,[.2,2])"
   ]
  },
  {
   "cell_type": "markdown",
   "metadata": {},
   "source": [
    "### New function to sim data for multiple subjects"
   ]
  },
  {
   "cell_type": "code",
   "execution_count": 9,
   "metadata": {},
   "outputs": [],
   "source": [
    "def sim_mult_subject_data(n, tn, params):\n",
    "    data = pd.DataFrame(columns= ['Stim_Sequence', 'Choice', 'Trustee_Response', 'Subject', 'Alpha', 'Beta'])\n",
    "    for x in range(1, n+1):\n",
    "        sdt = sim_data(tn, params)\n",
    "        sdt = pd.DataFrame.from_dict(sdt)\n",
    "        sdt['Subject'] = [x for t in range(0,tn*3)]\n",
    "        sdt['Alpha'] = params[0]\n",
    "        sdt['Beta'] = params[1]\n",
    "        data = pd.concat([data,sdt])\n",
    "    return data"
   ]
  },
  {
   "cell_type": "markdown",
   "metadata": {},
   "source": [
    "### Create param space"
   ]
  },
  {
   "cell_type": "code",
   "execution_count": 10,
   "metadata": {},
   "outputs": [],
   "source": [
    "# create parameter space\n",
    "alphas = [round(x * 0.1,1) for x in range(0,11)]\n",
    "#print(alphas)\n",
    "\n",
    "betas = [x * 2 for x in range(0,11)]\n",
    "#print(betas)\n",
    "combos = itertools.product(alphas, betas)\n",
    "#for r in combos: print(r)"
   ]
  },
  {
   "cell_type": "code",
   "execution_count": 52,
   "metadata": {},
   "outputs": [],
   "source": [
    "data = pd.DataFrame(columns= ['Stim_Sequence', 'Choice', 'Trustee_Response', 'Subject', 'Alpha', 'Beta'])\n",
    "#for p in combos:\n",
    "#    dt = sim_mult_subject_data(100, 45, p)\n",
    "#    data = pd.concat([data, dt])\n",
    "#data\n",
    "\n",
    "data = sim_mult_subject_data(100, 45, [.2, 2])\n",
    "data\n",
    "data.to_csv(path_or_buf = '../../output/simulation/sim_alpha_model_data.csv', index = False)"
   ]
  },
  {
   "cell_type": "markdown",
   "metadata": {},
   "source": [
    "### New function to fit model to multiple subjects"
   ]
  },
  {
   "cell_type": "code",
   "execution_count": 53,
   "metadata": {},
   "outputs": [],
   "source": [
    "def model_fit_mult_subject(data):\n",
    "    #pdt = pd.DataFrame(columns = ['Subject', 'a_gain', 'a_loss', 'beta'])\n",
    "    pdt = pd.DataFrame(columns = ['Subject', 'alpha', 'beta'])\n",
    "    a = pd.unique(data['Subject'])\n",
    "    for sub in range(1,len(a)+1):\n",
    "        df = data[data['Subject']==sub]\n",
    "        dt = df.to_dict()\n",
    "        params = model_fit(dt)\n",
    "        #line = {'Subject': sub, 'a_gain': params[0], 'a_loss': params[1], 'beta':params[2]}\n",
    "        line = {'Subject': sub, 'alpha': params.x[0], 'beta': params.x[1]}\n",
    "        pdt = pdt.append(line, ignore_index=True)   \n",
    "    return(pdt)\n"
   ]
  },
  {
   "cell_type": "code",
   "execution_count": 54,
   "metadata": {},
   "outputs": [],
   "source": [
    "precover = model_fit_mult_subject(data)\n",
    "precover.to_csv(path_or_buf = '../../output/simulation/sim_alpha_model_data.csv', index = False)"
   ]
  },
  {
   "cell_type": "code",
   "execution_count": 55,
   "metadata": {},
   "outputs": [
    {
     "name": "stdout",
     "output_type": "stream",
     "text": [
      "    Subject     alpha          beta\n",
      "0       1.0  0.014621  2.000000e+01\n",
      "1       2.0  0.015904  2.000000e+01\n",
      "2       3.0  1.000000  1.080349e+01\n",
      "3       4.0  0.014620  2.000000e+01\n",
      "4       5.0  0.013832  2.000000e+01\n",
      "5       6.0  0.007770  2.000000e+01\n",
      "6       7.0  1.000000  1.398725e-01\n",
      "7       8.0  1.000000  9.829630e+00\n",
      "8       9.0  0.205083  2.178151e-01\n",
      "9      10.0  0.992238  8.774302e+00\n",
      "10     11.0  0.188007  8.371602e-01\n",
      "11     12.0  0.000000  1.000000e-10\n",
      "12     13.0  1.000000  1.190850e+01\n",
      "13     14.0  0.770218  1.816011e-01\n",
      "14     15.0  1.000000  4.427025e+00\n",
      "15     16.0  0.012085  2.000000e+01\n",
      "16     17.0  1.000000  1.229000e+01\n",
      "17     18.0  1.000000  7.143851e+00\n",
      "18     19.0  0.019951  2.000000e+01\n",
      "19     20.0  1.000000  1.628734e+01\n",
      "20     21.0  0.019951  2.000000e+01\n",
      "21     22.0  0.054560  2.000000e+01\n",
      "22     23.0  1.000000  1.218725e+01\n",
      "23     24.0  0.007624  2.000000e+01\n",
      "24     25.0  0.370676  1.486958e+01\n",
      "25     26.0  0.280918  9.179658e-01\n",
      "26     27.0  1.000000  4.422411e+00\n",
      "27     28.0  1.000000  7.695740e+00\n",
      "28     29.0  1.000000  7.858283e+00\n",
      "29     30.0  0.000000  1.000000e-10\n",
      "..      ...       ...           ...\n",
      "70     71.0  0.019951  2.000000e+01\n",
      "71     72.0  0.014621  2.000000e+01\n",
      "72     73.0  0.016532  2.000000e+01\n",
      "73     74.0  0.019654  2.000000e+01\n",
      "74     75.0  0.992512  8.956618e+00\n",
      "75     76.0  0.000000  1.000000e-10\n",
      "76     77.0  1.000000  4.434095e+00\n",
      "77     78.0  0.745739  6.017360e-01\n",
      "78     79.0  0.002256  2.000000e+01\n",
      "79     80.0  0.885492  1.930515e-01\n",
      "80     81.0  1.000000  7.282728e+00\n",
      "81     82.0  1.000000  9.326695e+00\n",
      "82     83.0  0.012085  2.000000e+01\n",
      "83     84.0  1.000000  7.452970e+00\n",
      "84     85.0  0.019951  2.000000e+01\n",
      "85     86.0  0.465763  7.242605e-01\n",
      "86     87.0  0.019951  2.000000e+01\n",
      "87     88.0  0.398992  1.124680e+00\n",
      "88     89.0  0.016631  2.000000e+01\n",
      "89     90.0  1.000000  1.290918e+01\n",
      "90     91.0  1.000000  2.000000e+01\n",
      "91     92.0  0.019951  2.000000e+01\n",
      "92     93.0  0.006940  2.000000e+01\n",
      "93     94.0  1.000000  6.844507e+00\n",
      "94     95.0  1.000000  1.512314e+01\n",
      "95     96.0  0.016713  2.000000e+01\n",
      "96     97.0  1.000000  1.183587e+01\n",
      "97     98.0  0.873862  1.250802e+01\n",
      "98     99.0  1.000000  1.064257e+01\n",
      "99    100.0  0.814485  1.717313e-01\n",
      "\n",
      "[100 rows x 3 columns]\n"
     ]
    }
   ],
   "source": [
    "print(precover)"
   ]
  },
  {
   "cell_type": "code",
   "execution_count": null,
   "metadata": {},
   "outputs": [],
   "source": [
    "#print(precover['alpha'])"
   ]
  },
  {
   "cell_type": "code",
   "execution_count": 48,
   "metadata": {},
   "outputs": [
    {
     "data": {
      "text/plain": [
       "Text(0, 0.5, 'Counts')"
      ]
     },
     "execution_count": 48,
     "metadata": {},
     "output_type": "execute_result"
    },
    {
     "data": {
      "image/png": "[encoded data removed]",
      "text/plain": [
       "<Figure size 432x288 with 1 Axes>"
      ]
     },
     "metadata": {
      "needs_background": "light"
     },
     "output_type": "display_data"
    }
   ],
   "source": [
    "alpha = pd.Series(precover['alpha'])\n",
    "#print(alpha)\n",
    "alpha.plot.hist(grid=True, bins=10, rwidth=0.9,\n",
    "                   color='#607c8e')\n",
    "plt.title('Alpha for 100 Subjects, alpha = 0.2')\n",
    "plt.xlabel('Alphas')\n",
    "plt.ylabel('Counts')\n",
    "#plt.grid(axis=precover['a_gain'], alpha=0.75)"
   ]
  },
  {
   "cell_type": "code",
   "execution_count": null,
   "metadata": {},
   "outputs": [],
   "source": [
    "#print(precover['a_loss'])"
   ]
  },
  {
   "cell_type": "code",
   "execution_count": null,
   "metadata": {},
   "outputs": [],
   "source": [
    "#loss = pd.Series(precover['a_loss'])\n",
    "#print(loss)\n",
    "#loss.plot.hist(grid=True, bins=10, rwidth=0.9,\n",
    "#                   color='#607c8e')\n",
    "#plt.title('Alpha Loss for 100 Subjects, alpha = 0.2')\n",
    "#plt.xlabel('Alphas')\n",
    "#plt.ylabel('Counts')\n",
    "#plt.grid(axis=precover['a_loss'], alpha=0.75)"
   ]
  },
  {
   "cell_type": "code",
   "execution_count": null,
   "metadata": {},
   "outputs": [],
   "source": [
    "#print(precover['beta'])"
   ]
  },
  {
   "cell_type": "code",
   "execution_count": null,
   "metadata": {},
   "outputs": [],
   "source": [
    "beta = pd.Series(precover['beta'])\n",
    "#print(beta)\n",
    "beta.plot.hist(grid=True, bins=10, rwidth=0.9,\n",
    "                   color='#607c8e')\n",
    "plt.title('Beta for 100 Subjects, beta = 1')\n",
    "plt.xlabel('Betas')\n",
    "plt.ylabel('Counts')\n",
    "#plt.grid(axis=precover['beta'], beta=0.75)"
   ]
  },
  {
   "cell_type": "code",
   "execution_count": null,
   "metadata": {},
   "outputs": [],
   "source": []
  },
  {
   "cell_type": "code",
   "execution_count": null,
   "metadata": {},
   "outputs": [],
   "source": []
  }
 ],
 "metadata": {
  "kernelspec": {
   "display_name": "Python 3",
   "language": "python",
   "name": "python3"
  },
  "language_info": {
   "codemirror_mode": {
    "name": "ipython",
    "version": 3
   },
   "file_extension": ".py",
   "mimetype": "text/x-python",
   "name": "python",
   "nbconvert_exporter": "python",
   "pygments_lexer": "ipython3",
   "version": "3.7.3"
  }
 },
 "nbformat": 4,
 "nbformat_minor": 2
}
