{
 "cells": [
  {
   "cell_type": "markdown",
   "metadata": {},
   "source": [
    "## SocialAL Model\n",
    "# Fit model to data - one subject with variable prior probability\n",
    "KLS 2.03.21  \n",
    "Project info: https://osf.io/b48n2/\n",
    "\n",
    "Model modified from :\n",
    "Fareri, D. S., Chang, L. J., & Delgado, M. R. (2012). Effects of direct social experience on trust decisions and neural reward circuitry. Frontiers in Neuroscience, 6, 1–17. https://doi.org/10.3389/fnins.2012.00148"
   ]
  },
  {
   "cell_type": "markdown",
   "metadata": {},
   "source": [
    "### Python Version"
   ]
  },
  {
   "cell_type": "code",
   "execution_count": 1,
   "metadata": {},
   "outputs": [
    {
     "name": "stdout",
     "output_type": "stream",
     "text": [
      "3.7.4 (default, Aug 13 2019, 15:17:50) \n",
      "[Clang 4.0.1 (tags/RELEASE_401/final)]\n"
     ]
    }
   ],
   "source": [
    "import sys\n",
    "print(sys.version)  "
   ]
  },
  {
   "cell_type": "markdown",
   "metadata": {},
   "source": [
    "### Load modules"
   ]
  },
  {
   "cell_type": "code",
   "execution_count": 2,
   "metadata": {},
   "outputs": [],
   "source": [
    "import numpy as np\n",
    "import random\n",
    "import math\n",
    "import pandas as pd\n",
    "from scipy.optimize import minimize\n",
    "import os\n",
    "from decimal import *"
   ]
  },
  {
   "cell_type": "markdown",
   "metadata": {},
   "source": [
    "### Define functions"
   ]
  },
  {
   "cell_type": "code",
   "execution_count": 3,
   "metadata": {},
   "outputs": [],
   "source": [
    "def update_value(Prob):\n",
    "    invest = [0,3,6,9]\n",
    "    retain = [9-x for x in invest] #print (\"Retain list is: \", retain)\n",
    "    shared = [2*x for x in invest] #print (\"Shared list is: \", shared)\n",
    "    EV = [(retain[x] + Prob*shared[x]) for x in range(0,4)]\n",
    "    return EV\n",
    "\n",
    "def update_prob(recip, Prob, a_gain, a_loss):\n",
    "    gain = max(recip - Prob, 0)\n",
    "    loss = min(recip - Prob, 0)\n",
    "    Prob = Prob + a_gain * gain + a_loss * loss\n",
    "    return Prob\n",
    "\n",
    "def get_action_selection_prob(beta, EV, choice):\n",
    "    actionProb = Decimal(np.exp(beta*EV[choice-1])/np.sum([np.exp(beta*x) for x in EV]))\n",
    "    return actionProb\n",
    "\n",
    "def get_action_selection_probs(beta, EV):\n",
    "    actionProbs = [get_action_selection_prob(beta, EV, x) for x in range(1,5)]\n",
    "    return actionProbs\n",
    "\n",
    "def get_likelihood_action(params, data):\n",
    "    a_gain = params[0]\n",
    "    a_loss = params[1]\n",
    "    beta = params[2]\n",
    "    prob = params[3:6]\n",
    "    \n",
    "    \n",
    "    # initialize variables\n",
    "    #prob = [0.5, 0.5, 0.5] allowed to vary for best-fit\n",
    "    #ev = [[9,9,9,9],[9,9,9,9],[9,9,9,9]]\n",
    "    ev = [update_value(prob[0]), update_value(prob[1]), update_value(prob[2])]\n",
    "    \n",
    "    totalLLH = 0 \n",
    "    for trial in range(0, len(data)):\n",
    "        print('Trial: ' + str(trial +1))\n",
    "        trustee = data['Stim_Sequence'][trial] # get trustee type\n",
    "        choice = data['Choice'][trial] # get choice made by participant\n",
    "        response = data['Trustee_Response'][trial] # get response from trustee\n",
    "        \n",
    "        # compute the probability of selecting each option for that trustee\n",
    "        probs = get_action_selection_probs(beta, ev[trustee])\n",
    "        \n",
    "        # use the probability of the selection (choice-probability) to update log likelihood\n",
    "        if choice != 0:\n",
    "            cprob = probs[choice-1] #print(cprob, isinstance(cprob, float))\n",
    "            #add to cumulative log likelihood\n",
    "            totalLLH += -(math.log(cprob))\n",
    "        \n",
    "            # update prob and value\n",
    "            if choice != 1:\n",
    "                prob[trustee] = update_prob(response, prob[trustee], a_gain, a_loss)\n",
    "            ev[trustee] = update_value(prob[trustee])\n",
    "            #print('choice prob: ', cprob)\n",
    "        #print(\"Choice: \", choice)\n",
    "        #print('Prob for each trustee: ', prob)\n",
    "        #print('EV for Trustee:', ev[trustee])\n",
    "        #print('EV for all:', ev)\n",
    "        #print('Probs: ', probs) \n",
    "        print('LLH: ', totalLLH)\n",
    "        #print('Trustee Prob: ', prob[trustee])\n",
    "        #print('Trustee Expected values: ', ev[trustee])\n",
    "        \n",
    "    return totalLLH"
   ]
  },
  {
   "cell_type": "markdown",
   "metadata": {},
   "source": [
    "### Load and clean data"
   ]
  },
  {
   "cell_type": "code",
   "execution_count": 4,
   "metadata": {},
   "outputs": [],
   "source": [
    "#os.listdir('../data/modeling') "
   ]
  },
  {
   "cell_type": "code",
   "execution_count": 5,
   "metadata": {},
   "outputs": [],
   "source": [
    "#dt = pd.read_csv('../data/modeling/sub-1004.csv')\n",
    "dt = pd.read_csv('../data/modeling/sub-1005.csv')\n",
    "#dt = pd.read_csv('../data/modeling/sub-1008.csv') #- try getting this sub to work\n",
    "#dt = pd.read_csv('../data/modeling/sub-2013.csv') #- try getting this sub to work\n",
    "#dt = pd.read_csv('../data/modeling/sub-2032.csv') #- try getting this sub to work\n",
    "# recode trial type into numbers for model\n",
    "def stims(trial_type):\n",
    "    if trial_type == \"Trustworthy\":\n",
    "        return 0\n",
    "    elif trial_type == \"Neutral\":\n",
    "        return 1\n",
    "    elif trial_type == \"Untrustworthy\":\n",
    "        return 2\n",
    "dt['Stim_Sequence'] = dt['trial_type'].apply(stims)\n",
    "# rename response_key to choice\n",
    "def choices(response_key):\n",
    "    if response_key == 'None':\n",
    "        return 0 \n",
    "    else:\n",
    "        return response_key  \n",
    "dt['Choice'] = dt['response_key'].apply(choices)\n",
    "dt['Choice'] = pd.to_numeric(dt['Choice'])\n",
    "# calculte the trustee response\n",
    "def resp(trial_earnings):\n",
    "    if trial_earnings >= 12:\n",
    "        return 1\n",
    "    else:\n",
    "        return 0\n",
    "dt['Trustee_Response'] = dt['trial_earnings'].apply(resp)\n",
    "data = dt[['Stim_Sequence','Choice', 'Trustee_Response']]"
   ]
  },
  {
   "cell_type": "code",
   "execution_count": 6,
   "metadata": {},
   "outputs": [
    {
     "name": "stdout",
     "output_type": "stream",
     "text": [
      "Trial: 1\n",
      "LLH:  0.5046431063277187\n",
      "Trial: 2\n",
      "LLH:  1.8911339438749883\n",
      "Trial: 3\n",
      "LLH:  2.2664196920040114\n",
      "Trial: 4\n",
      "LLH:  2.6417054401330344\n",
      "Trial: 5\n",
      "LLH:  4.328215273197873\n",
      "Trial: 6\n",
      "LLH:  6.0147251062641995\n",
      "Trial: 7\n",
      "LLH:  6.290995422332452\n",
      "Trial: 8\n",
      "LLH:  7.69011686035336\n",
      "Trial: 9\n",
      "LLH:  7.9663871764216125\n",
      "Trial: 10\n",
      "LLH:  9.48072338799718\n",
      "Trial: 11\n",
      "LLH:  11.16723322106427\n",
      "Trial: 12\n",
      "LLH:  12.683924182722299\n",
      "Trial: 13\n",
      "LLH:  12.960194498790377\n",
      "Trial: 14\n",
      "LLH:  15.017814685597315\n",
      "Trial: 15\n",
      "LLH:  15.899861395762882\n",
      "Trial: 16\n",
      "LLH:  16.803887181928957\n",
      "Trial: 17\n",
      "LLH:  18.66406062313092\n",
      "Trial: 18\n",
      "LLH:  20.329500567093206\n",
      "Trial: 19\n",
      "LLH:  21.65363526734948\n",
      "Trial: 20\n",
      "LLH:  23.92197370705096\n",
      "Trial: 21\n",
      "LLH:  24.466378252403565\n",
      "Trial: 22\n",
      "LLH:  24.742648568471644\n",
      "Trial: 23\n",
      "LLH:  26.14223628981519\n",
      "Trial: 24\n",
      "LLH:  27.579074821500072\n",
      "Trial: 25\n",
      "LLH:  29.09341100630865\n",
      "Trial: 26\n",
      "LLH:  29.5039309946139\n",
      "Trial: 27\n",
      "LLH:  31.00592289652962\n",
      "Trial: 28\n",
      "LLH:  32.33704624273145\n",
      "Trial: 29\n",
      "LLH:  34.02355607579893\n",
      "Trial: 30\n",
      "LLH:  35.5526954087255\n",
      "Trial: 31\n",
      "LLH:  35.828965724793484\n",
      "Trial: 32\n",
      "LLH:  37.11369859126028\n",
      "Trial: 33\n",
      "LLH:  37.6183417608904\n",
      "Trial: 34\n",
      "LLH:  37.96671616018176\n",
      "Trial: 35\n",
      "LLH:  38.24298647624975\n",
      "Trial: 36\n",
      "LLH:  38.57844208006701\n",
      "Trial: 37\n",
      "LLH:  39.083085249697135\n",
      "Trial: 38\n",
      "LLH:  39.35935556576512\n",
      "Trial: 39\n",
      "LLH:  39.63562588183311\n",
      "Trial: 40\n",
      "LLH:  40.14026905146323\n",
      "Trial: 41\n",
      "LLH:  40.416539367531215\n",
      "Trial: 42\n",
      "LLH:  40.6928096835992\n",
      "Trial: 43\n",
      "LLH:  40.96907999966719\n",
      "Trial: 44\n",
      "LLH:  41.294102136261635\n",
      "Trial: 45\n",
      "LLH:  41.6106468320843\n"
     ]
    },
    {
     "data": {
      "text/plain": [
       "41.6106468320843"
      ]
     },
     "execution_count": 6,
     "metadata": {},
     "output_type": "execute_result"
    }
   ],
   "source": [
    "# Input Parameters\n",
    "\n",
    "array = [1.61830799e-01, 4.86765198e-01, 4.70079839e-01, 4.91178652e-01, 1.87341150e-01, 1.56635508e-12]\n",
    "\n",
    "get_likelihood_action(array, data)"
   ]
  }
 ],
 "metadata": {
  "kernelspec": {
   "display_name": "Python 3",
   "language": "python",
   "name": "python3"
  },
  "language_info": {
   "codemirror_mode": {
    "name": "ipython",
    "version": 3
   },
   "file_extension": ".py",
   "mimetype": "text/x-python",
   "name": "python",
   "nbconvert_exporter": "python",
   "pygments_lexer": "ipython3",
   "version": "3.7.4"
  }
 },
 "nbformat": 4,
 "nbformat_minor": 2
}
