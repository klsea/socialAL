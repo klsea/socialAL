{
 "cells": [
  {
   "cell_type": "markdown",
   "metadata": {},
   "source": [
    "# SocialAL Model\n",
    "# Data simulation and parameter recovery - multiple subjects\n",
    "KLS 8.30.19  \n",
    "Project info: https://osf.io/b48n2/\n",
    "\n",
    "Model modified from :\n",
    "Fareri, D. S., Chang, L. J., & Delgado, M. R. (2012). Effects of direct social experience on trust decisions and neural reward circuitry. Frontiers in Neuroscience, 6, 1–17. https://doi.org/10.3389/fnins.2012.00148"
   ]
  },
  {
   "cell_type": "markdown",
   "metadata": {},
   "source": [
    "### Python version"
   ]
  },
  {
   "cell_type": "code",
   "execution_count": 1,
   "metadata": {},
   "outputs": [
    {
     "name": "stdout",
     "output_type": "stream",
     "text": [
      "3.7.3 (default, Mar 27 2019, 16:54:48) \n",
      "[Clang 4.0.1 (tags/RELEASE_401/final)]\n"
     ]
    }
   ],
   "source": [
    "import sys\n",
    "print(sys.version)  "
   ]
  },
  {
   "cell_type": "markdown",
   "metadata": {},
   "source": [
    "### Load modules"
   ]
  },
  {
   "cell_type": "code",
   "execution_count": 2,
   "metadata": {},
   "outputs": [],
   "source": [
    "import numpy as np\n",
    "import random\n",
    "import math\n",
    "import pandas as pd\n",
    "from scipy.optimize import minimize\n",
    "import matplotlib.pyplot as plt"
   ]
  },
  {
   "cell_type": "markdown",
   "metadata": {},
   "source": [
    "### Define functions (from model development notebook)"
   ]
  },
  {
   "cell_type": "code",
   "execution_count": 3,
   "metadata": {},
   "outputs": [],
   "source": [
    "def update_value(Prob, EV, choice, response):\n",
    "    invest = [0,3,6,9]\n",
    "    retain = [9-x for x in invest] #print (\"Retain list is: \", retain)\n",
    "    shared = [2*x for x in invest] #print (\"Shared list is: \", shared)\n",
    "    EV[choice-1] = retain[choice-1] + Prob*shared[choice-1]\n",
    "    return EV\n",
    "\n",
    "def update_prob(recip, Prob, a_gain, a_loss):\n",
    "    gain = max(recip - Prob, 0)\n",
    "    loss = min(recip - Prob, 0)\n",
    "    Prob = Prob + a_gain * gain + a_loss * loss\n",
    "    return Prob\n",
    "\n",
    "def get_action_selection_prob(beta, EV, choice):\n",
    "    numerator = np.exp(beta*EV[choice-1])\n",
    "    denominator = np.sum([np.exp(beta*x) for x in EV])\n",
    "    actionProb = numerator/denominator\n",
    "    return actionProb\n",
    "\n",
    "def get_action_selection_probs(beta, EV):\n",
    "    actionProbs = [get_action_selection_prob(beta, EV, x) for x in range(1,5)]\n",
    "    return actionProbs\n",
    "\n",
    "def action_selection(actionProb):\n",
    "    cumprob = np.cumsum(actionProb) # cumulative probability \n",
    "    num = random.uniform(0,1) # pick a random number between 0 and 1, see where it falls\n",
    "    if num < cumprob[0]: action = 1\n",
    "    elif num < cumprob[1]: action = 2\n",
    "    elif num < cumprob[2]: action = 3\n",
    "    else: action = 4   \n",
    "    return action"
   ]
  },
  {
   "cell_type": "code",
   "execution_count": 4,
   "metadata": {},
   "outputs": [],
   "source": [
    "def select_response(prob):     \n",
    "    n = random.uniform(0,1)\n",
    "    if n > prob:\n",
    "        response = 0\n",
    "    else:\n",
    "        response = 1\n",
    "    return response"
   ]
  },
  {
   "cell_type": "markdown",
   "metadata": {},
   "source": [
    "### Set constants"
   ]
  },
  {
   "cell_type": "code",
   "execution_count": 5,
   "metadata": {},
   "outputs": [],
   "source": [
    "recip_rates = {0: 0.93, 1:0.6, 2:0.07}"
   ]
  },
  {
   "cell_type": "markdown",
   "metadata": {},
   "source": [
    "### New function to simulate data for one sub"
   ]
  },
  {
   "cell_type": "code",
   "execution_count": 6,
   "metadata": {},
   "outputs": [],
   "source": [
    "def sim_data(tn, params):\n",
    "    a_gain = params[0]\n",
    "    a_loss = params[1]\n",
    "    beta = params[2]\n",
    "    \n",
    "    # initialize variables\n",
    "    Probs = [0.5, 0.5, 0.5]\n",
    "    EVs = [[9,9,9,9],[9,9,9,9],[9,9,9,9]]\n",
    "    \n",
    "    # generate trial sequence\n",
    "    trial_sequence = np.repeat([0,1,2], tn)\n",
    "    random.shuffle(trial_sequence) #print(trial_sequence)\n",
    "    \n",
    "    choices = []\n",
    "    responses = []\n",
    "    \n",
    "    for x in range(0,len(trial_sequence)):\n",
    "        t = trial_sequence[x] \n",
    "        \n",
    "        # Make a choice\n",
    "        choice = action_selection(get_action_selection_probs(beta, EVs[t]))\n",
    "        choices.append(choice) \n",
    "    \n",
    "        # Get a response\n",
    "        recip_rate = recip_rates.get(t) \n",
    "        \n",
    "        response = select_response(recip_rate) \n",
    "        responses.append(response)\n",
    "    \n",
    "        # after choice, update probability\n",
    "        Probs[t] = update_prob(response, Probs[t], a_gain, a_loss) \n",
    "    \n",
    "        # then update value\n",
    "        EVs[t] = update_value(Probs[t], EVs[t], choice, response) \n",
    "        \n",
    "    data = {'Stim_Sequence': trial_sequence, 'Choice' : choices, 'Trustee_Response': responses}    \n",
    "    return data"
   ]
  },
  {
   "cell_type": "markdown",
   "metadata": {},
   "source": [
    "### New function to calculate likelihood"
   ]
  },
  {
   "cell_type": "code",
   "execution_count": 7,
   "metadata": {},
   "outputs": [],
   "source": [
    "def get_likelihood_action(params, data):\n",
    "    a_gain = params[0]\n",
    "    a_loss = params[1]\n",
    "    beta = params[2]\n",
    "    \n",
    "    # initialize variables\n",
    "    prob = [0.5, 0.5, 0.5]\n",
    "    ev = [[9,9,9,9],[9,9,9,9],[9,9,9,9]]\n",
    "    \n",
    "    totalLLH = 0  \n",
    "    for trial in range(0, len(data)):\n",
    "        trustee = data['Stim_Sequence'][trial] # get trustee type\n",
    "        choice = data['Choice'][trial] # get choice made by participant\n",
    "        response = data['Trustee_Response'][trial] # get response from trustee\n",
    "        \n",
    "        # compute the probability of selecting each option for that trustee\n",
    "        probs = get_action_selection_probs(beta, ev[trustee])\n",
    "        \n",
    "        # use the probability of the selection (choice-probability) to update log likelihood\n",
    "        cprob = probs[choice-1]\n",
    "        \n",
    "        #add to cumulative log likelihood\n",
    "        totalLLH += -math.log(cprob)\n",
    "        \n",
    "        # update prob and value\n",
    "        prob[trustee] = update_prob(response, prob[trustee], a_gain, a_loss)\n",
    "        ev[trustee] = update_value(prob[trustee], ev[trustee], choice, response)\n",
    "        \n",
    "    return totalLLH"
   ]
  },
  {
   "cell_type": "markdown",
   "metadata": {},
   "source": [
    "### New function to fit model"
   ]
  },
  {
   "cell_type": "code",
   "execution_count": 8,
   "metadata": {},
   "outputs": [],
   "source": [
    "def model_fit(data):\n",
    "    \n",
    "    # initialize free parameters with randomly chosen numbers\n",
    "    a_gain=random.uniform(0, 1)\n",
    "    a_loss=random.uniform(0, 1)\n",
    "    beta=random.uniform(0, 1)\n",
    "    params = [a_gain, a_loss, beta]\n",
    "    \n",
    "    results = minimize(get_likelihood_action, params, args =(data), options = {'maxiter': 10000, 'disp': False})\n",
    "    return results.x\n",
    "    "
   ]
  },
  {
   "cell_type": "markdown",
   "metadata": {},
   "source": [
    "### New function to sim data for multiple subjects"
   ]
  },
  {
   "cell_type": "code",
   "execution_count": 9,
   "metadata": {},
   "outputs": [],
   "source": [
    "def sim_mult_subject_data(n, tn, params):\n",
    "    data = pd.DataFrame(columns= ['Stim_Sequence', 'Choice', 'Trustee_Response', 'Subject'])\n",
    "    for x in range(1, n+1):\n",
    "        sdt = sim_data(tn, params)\n",
    "        sdt = pd.DataFrame.from_dict(sdt)\n",
    "        sdt['Subject'] = [x for t in range(0,tn*3)]\n",
    "        data = pd.concat([data,sdt])\n",
    "    return data"
   ]
  },
  {
   "cell_type": "code",
   "execution_count": 10,
   "metadata": {},
   "outputs": [],
   "source": [
    "dt = sim_mult_subject_data(10,15,[0.2,0.2,1])"
   ]
  },
  {
   "cell_type": "markdown",
   "metadata": {},
   "source": [
    "### New function to fit model to multiple subjects"
   ]
  },
  {
   "cell_type": "code",
   "execution_count": 11,
   "metadata": {},
   "outputs": [],
   "source": [
    "def model_fit_mult_subject(data):\n",
    "    pdt = pd.DataFrame(columns = ['Subject', 'a_gain', 'a_loss', 'beta'])\n",
    "    a = pd.unique(data['Subject'])\n",
    "    for x in range(1,len(a)+1):\n",
    "        df = data[data['Subject']==x]\n",
    "        dt = df.to_dict()\n",
    "        params = model_fit(dt)\n",
    "        line = {'Subject': x, 'a_gain': params[0], 'a_loss': params[1], 'beta':params[2]}\n",
    "        pdt = pdt.append(line, ignore_index=True)   \n",
    "    return(pdt)\n"
   ]
  },
  {
   "cell_type": "code",
   "execution_count": 12,
   "metadata": {},
   "outputs": [],
   "source": [
    "precover = model_fit_mult_subject(dt)"
   ]
  },
  {
   "cell_type": "code",
   "execution_count": 13,
   "metadata": {},
   "outputs": [
    {
     "name": "stdout",
     "output_type": "stream",
     "text": [
      "0    0.900616\n",
      "1    0.950725\n",
      "2    0.001121\n",
      "3    2.277131\n",
      "4    0.412388\n",
      "5    0.287623\n",
      "6    0.474323\n",
      "7    0.252346\n",
      "8    0.945394\n",
      "9    0.388867\n",
      "Name: a_gain, dtype: float64\n"
     ]
    }
   ],
   "source": [
    "print(precover['a_gain'])"
   ]
  },
  {
   "cell_type": "code",
   "execution_count": 15,
   "metadata": {},
   "outputs": [
    {
     "name": "stdout",
     "output_type": "stream",
     "text": [
      "0    0.900616\n",
      "1    0.950725\n",
      "2    0.001121\n",
      "3    2.277131\n",
      "4    0.412388\n",
      "5    0.287623\n",
      "6    0.474323\n",
      "7    0.252346\n",
      "8    0.945394\n",
      "9    0.388867\n",
      "Name: a_gain, dtype: float64\n"
     ]
    },
    {
     "ename": "ValueError",
     "evalue": "The truth value of a Series is ambiguous. Use a.empty, a.bool(), a.item(), a.any() or a.all().",
     "output_type": "error",
     "traceback": [
      "\u001b[0;31m---------------------------------------------------------------------------\u001b[0m",
      "\u001b[0;31mValueError\u001b[0m                                Traceback (most recent call last)",
      "\u001b[0;32m<ipython-input-15-4ec9108a6b5f>\u001b[0m in \u001b[0;36m<module>\u001b[0;34m\u001b[0m\n\u001b[1;32m      6\u001b[0m \u001b[0mplt\u001b[0m\u001b[0;34m.\u001b[0m\u001b[0mxlabel\u001b[0m\u001b[0;34m(\u001b[0m\u001b[0;34m'Alphas'\u001b[0m\u001b[0;34m)\u001b[0m\u001b[0;34m\u001b[0m\u001b[0;34m\u001b[0m\u001b[0m\n\u001b[1;32m      7\u001b[0m \u001b[0mplt\u001b[0m\u001b[0;34m.\u001b[0m\u001b[0mylabel\u001b[0m\u001b[0;34m(\u001b[0m\u001b[0;34m'Counts'\u001b[0m\u001b[0;34m)\u001b[0m\u001b[0;34m\u001b[0m\u001b[0;34m\u001b[0m\u001b[0m\n\u001b[0;32m----> 8\u001b[0;31m \u001b[0mplt\u001b[0m\u001b[0;34m.\u001b[0m\u001b[0mgrid\u001b[0m\u001b[0;34m(\u001b[0m\u001b[0maxis\u001b[0m\u001b[0;34m=\u001b[0m\u001b[0mprecover\u001b[0m\u001b[0;34m[\u001b[0m\u001b[0;34m'a_gain'\u001b[0m\u001b[0;34m]\u001b[0m\u001b[0;34m,\u001b[0m \u001b[0malpha\u001b[0m\u001b[0;34m=\u001b[0m\u001b[0;36m0.75\u001b[0m\u001b[0;34m)\u001b[0m\u001b[0;34m\u001b[0m\u001b[0;34m\u001b[0m\u001b[0m\n\u001b[0m",
      "\u001b[0;32m~/anaconda3/lib/python3.7/site-packages/matplotlib/pyplot.py\u001b[0m in \u001b[0;36mgrid\u001b[0;34m(b, which, axis, **kwargs)\u001b[0m\n\u001b[1;32m   2599\u001b[0m \u001b[0;34m@\u001b[0m\u001b[0mdocstring\u001b[0m\u001b[0;34m.\u001b[0m\u001b[0mcopy\u001b[0m\u001b[0;34m(\u001b[0m\u001b[0mAxes\u001b[0m\u001b[0;34m.\u001b[0m\u001b[0mgrid\u001b[0m\u001b[0;34m)\u001b[0m\u001b[0;34m\u001b[0m\u001b[0;34m\u001b[0m\u001b[0m\n\u001b[1;32m   2600\u001b[0m \u001b[0;32mdef\u001b[0m \u001b[0mgrid\u001b[0m\u001b[0;34m(\u001b[0m\u001b[0mb\u001b[0m\u001b[0;34m=\u001b[0m\u001b[0;32mNone\u001b[0m\u001b[0;34m,\u001b[0m \u001b[0mwhich\u001b[0m\u001b[0;34m=\u001b[0m\u001b[0;34m'major'\u001b[0m\u001b[0;34m,\u001b[0m \u001b[0maxis\u001b[0m\u001b[0;34m=\u001b[0m\u001b[0;34m'both'\u001b[0m\u001b[0;34m,\u001b[0m \u001b[0;34m**\u001b[0m\u001b[0mkwargs\u001b[0m\u001b[0;34m)\u001b[0m\u001b[0;34m:\u001b[0m\u001b[0;34m\u001b[0m\u001b[0;34m\u001b[0m\u001b[0m\n\u001b[0;32m-> 2601\u001b[0;31m     \u001b[0;32mreturn\u001b[0m \u001b[0mgca\u001b[0m\u001b[0;34m(\u001b[0m\u001b[0;34m)\u001b[0m\u001b[0;34m.\u001b[0m\u001b[0mgrid\u001b[0m\u001b[0;34m(\u001b[0m\u001b[0mb\u001b[0m\u001b[0;34m=\u001b[0m\u001b[0mb\u001b[0m\u001b[0;34m,\u001b[0m \u001b[0mwhich\u001b[0m\u001b[0;34m=\u001b[0m\u001b[0mwhich\u001b[0m\u001b[0;34m,\u001b[0m \u001b[0maxis\u001b[0m\u001b[0;34m=\u001b[0m\u001b[0maxis\u001b[0m\u001b[0;34m,\u001b[0m \u001b[0;34m**\u001b[0m\u001b[0mkwargs\u001b[0m\u001b[0;34m)\u001b[0m\u001b[0;34m\u001b[0m\u001b[0;34m\u001b[0m\u001b[0m\n\u001b[0m\u001b[1;32m   2602\u001b[0m \u001b[0;34m\u001b[0m\u001b[0m\n\u001b[1;32m   2603\u001b[0m \u001b[0;34m\u001b[0m\u001b[0m\n",
      "\u001b[0;32m~/anaconda3/lib/python3.7/site-packages/matplotlib/axes/_base.py\u001b[0m in \u001b[0;36mgrid\u001b[0;34m(self, b, which, axis, **kwargs)\u001b[0m\n\u001b[1;32m   2779\u001b[0m         \u001b[0;32mif\u001b[0m \u001b[0mlen\u001b[0m\u001b[0;34m(\u001b[0m\u001b[0mkwargs\u001b[0m\u001b[0;34m)\u001b[0m\u001b[0;34m:\u001b[0m\u001b[0;34m\u001b[0m\u001b[0;34m\u001b[0m\u001b[0m\n\u001b[1;32m   2780\u001b[0m             \u001b[0mb\u001b[0m \u001b[0;34m=\u001b[0m \u001b[0;32mTrue\u001b[0m\u001b[0;34m\u001b[0m\u001b[0;34m\u001b[0m\u001b[0m\n\u001b[0;32m-> 2781\u001b[0;31m         \u001b[0mcbook\u001b[0m\u001b[0;34m.\u001b[0m\u001b[0m_check_in_list\u001b[0m\u001b[0;34m(\u001b[0m\u001b[0;34m[\u001b[0m\u001b[0;34m'x'\u001b[0m\u001b[0;34m,\u001b[0m \u001b[0;34m'y'\u001b[0m\u001b[0;34m,\u001b[0m \u001b[0;34m'both'\u001b[0m\u001b[0;34m]\u001b[0m\u001b[0;34m,\u001b[0m \u001b[0maxis\u001b[0m\u001b[0;34m=\u001b[0m\u001b[0maxis\u001b[0m\u001b[0;34m)\u001b[0m\u001b[0;34m\u001b[0m\u001b[0;34m\u001b[0m\u001b[0m\n\u001b[0m\u001b[1;32m   2782\u001b[0m         \u001b[0;32mif\u001b[0m \u001b[0maxis\u001b[0m \u001b[0;32min\u001b[0m \u001b[0;34m[\u001b[0m\u001b[0;34m'x'\u001b[0m\u001b[0;34m,\u001b[0m \u001b[0;34m'both'\u001b[0m\u001b[0;34m]\u001b[0m\u001b[0;34m:\u001b[0m\u001b[0;34m\u001b[0m\u001b[0;34m\u001b[0m\u001b[0m\n\u001b[1;32m   2783\u001b[0m             \u001b[0mself\u001b[0m\u001b[0;34m.\u001b[0m\u001b[0mxaxis\u001b[0m\u001b[0;34m.\u001b[0m\u001b[0mgrid\u001b[0m\u001b[0;34m(\u001b[0m\u001b[0mb\u001b[0m\u001b[0;34m,\u001b[0m \u001b[0mwhich\u001b[0m\u001b[0;34m=\u001b[0m\u001b[0mwhich\u001b[0m\u001b[0;34m,\u001b[0m \u001b[0;34m**\u001b[0m\u001b[0mkwargs\u001b[0m\u001b[0;34m)\u001b[0m\u001b[0;34m\u001b[0m\u001b[0;34m\u001b[0m\u001b[0m\n",
      "\u001b[0;32m~/anaconda3/lib/python3.7/site-packages/matplotlib/cbook/__init__.py\u001b[0m in \u001b[0;36m_check_in_list\u001b[0;34m(values, **kwargs)\u001b[0m\n\u001b[1;32m   2155\u001b[0m     \"\"\"\n\u001b[1;32m   2156\u001b[0m     \u001b[0;32mfor\u001b[0m \u001b[0mk\u001b[0m\u001b[0;34m,\u001b[0m \u001b[0mv\u001b[0m \u001b[0;32min\u001b[0m \u001b[0mkwargs\u001b[0m\u001b[0;34m.\u001b[0m\u001b[0mitems\u001b[0m\u001b[0;34m(\u001b[0m\u001b[0;34m)\u001b[0m\u001b[0;34m:\u001b[0m\u001b[0;34m\u001b[0m\u001b[0;34m\u001b[0m\u001b[0m\n\u001b[0;32m-> 2157\u001b[0;31m         \u001b[0;32mif\u001b[0m \u001b[0mv\u001b[0m \u001b[0;32mnot\u001b[0m \u001b[0;32min\u001b[0m \u001b[0mvalues\u001b[0m\u001b[0;34m:\u001b[0m\u001b[0;34m\u001b[0m\u001b[0;34m\u001b[0m\u001b[0m\n\u001b[0m\u001b[1;32m   2158\u001b[0m             raise ValueError(\n\u001b[1;32m   2159\u001b[0m                 \u001b[0;34m\"{!r} is not a valid value for {}; supported values are {}\"\u001b[0m\u001b[0;34m\u001b[0m\u001b[0;34m\u001b[0m\u001b[0m\n",
      "\u001b[0;32m~/anaconda3/lib/python3.7/site-packages/pandas/core/generic.py\u001b[0m in \u001b[0;36m__nonzero__\u001b[0;34m(self)\u001b[0m\n\u001b[1;32m   1476\u001b[0m         raise ValueError(\"The truth value of a {0} is ambiguous. \"\n\u001b[1;32m   1477\u001b[0m                          \u001b[0;34m\"Use a.empty, a.bool(), a.item(), a.any() or a.all().\"\u001b[0m\u001b[0;34m\u001b[0m\u001b[0;34m\u001b[0m\u001b[0m\n\u001b[0;32m-> 1478\u001b[0;31m                          .format(self.__class__.__name__))\n\u001b[0m\u001b[1;32m   1479\u001b[0m \u001b[0;34m\u001b[0m\u001b[0m\n\u001b[1;32m   1480\u001b[0m     \u001b[0m__bool__\u001b[0m \u001b[0;34m=\u001b[0m \u001b[0m__nonzero__\u001b[0m\u001b[0;34m\u001b[0m\u001b[0;34m\u001b[0m\u001b[0m\n",
      "\u001b[0;31mValueError\u001b[0m: The truth value of a Series is ambiguous. Use a.empty, a.bool(), a.item(), a.any() or a.all()."
     ]
    },
    {
     "data": {
      "image/png": "[encoded data removed]",
      "text/plain": [
       "<Figure size 432x288 with 1 Axes>"
      ]
     },
     "metadata": {
      "needs_background": "light"
     },
     "output_type": "display_data"
    }
   ],
   "source": [
    "gain = pd.Series(precover['a_gain'])\n",
    "print(gain)\n",
    "gain.plot.hist(grid=True, bins=10, rwidth=0.9,\n",
    "                   color='#607c8e')\n",
    "plt.title('Alpha Gain for 10 Subjects')\n",
    "plt.xlabel('Alphas')\n",
    "plt.ylabel('Counts')\n",
    "plt.grid(axis=precover['a_gain'], alpha=0.75)"
   ]
  },
  {
   "cell_type": "code",
   "execution_count": null,
   "metadata": {},
   "outputs": [],
   "source": []
  }
 ],
 "metadata": {
  "kernelspec": {
   "display_name": "Python 3",
   "language": "python",
   "name": "python3"
  },
  "language_info": {
   "codemirror_mode": {
    "name": "ipython",
    "version": 3
   },
   "file_extension": ".py",
   "mimetype": "text/x-python",
   "name": "python",
   "nbconvert_exporter": "python",
   "pygments_lexer": "ipython3",
   "version": "3.7.3"
  }
 },
 "nbformat": 4,
 "nbformat_minor": 2
}
