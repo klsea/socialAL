{
 "cells": [
  {
   "cell_type": "markdown",
   "metadata": {},
   "source": [
    "# SocialAL Model\n",
    "### KLS 5.30.19 updated 8.23.19\n",
    "\n",
    "#### Project info: https://osf.io/b48n2/\n",
    "#### Model modified from :\n",
    "\n",
    "Fareri, D. S., Chang, L. J., & Delgado, M. R. (2012). Effects of direct social experience on trust decisions and neural reward circuitry. Frontiers in Neuroscience, 6, 1–17. https://doi.org/10.3389/fnins.2012.00148\n",
    "\n",
    "### Python version:"
   ]
  },
  {
   "cell_type": "code",
   "execution_count": 1,
   "metadata": {},
   "outputs": [
    {
     "name": "stdout",
     "output_type": "stream",
     "text": [
      "3.7.3 (default, Mar 27 2019, 16:54:48) \n",
      "[Clang 4.0.1 (tags/RELEASE_401/final)]\n"
     ]
    }
   ],
   "source": [
    "import sys\n",
    "print(sys.version)  "
   ]
  },
  {
   "cell_type": "markdown",
   "metadata": {},
   "source": [
    "## Setup"
   ]
  },
  {
   "cell_type": "markdown",
   "metadata": {},
   "source": [
    "### Load modules"
   ]
  },
  {
   "cell_type": "code",
   "execution_count": 2,
   "metadata": {},
   "outputs": [],
   "source": [
    "import numpy as np\n",
    "import random\n",
    "import math"
   ]
  },
  {
   "cell_type": "markdown",
   "metadata": {},
   "source": [
    "### Initialize free parameters\n",
    "**a_gain**: gain learning rate (varies 0-1)  \n",
    "**a_loss**: loss learning rate (varies 0-1)  \n",
    "**beta**: inverse temperature paramter (varies 0-1)"
   ]
  },
  {
   "cell_type": "code",
   "execution_count": 3,
   "metadata": {},
   "outputs": [],
   "source": [
    "a_gain=0.2\n",
    "a_loss=0.2\n",
    "beta=1"
   ]
  },
  {
   "cell_type": "markdown",
   "metadata": {},
   "source": [
    "### Initialize other variables\n",
    "Three potential trustees: A, B, C [Trustworthy, Neutral, Untrustworthy?]  \n",
    "**ProbA, ProbB, ProbC** = Belief about likelihood of reciprocation  \n",
    "**actionProb** = Probability of a participant investing with the trustee  \n",
    "**EvA, EvB, EvC** = Expected value of each potential action towards a partner  \n",
    "**choice** = The choice (how much to entrust) taken by the participant  \n",
    "**recip** = Whether or not the trustee reciprocated (y in paper)"
   ]
  },
  {
   "cell_type": "code",
   "execution_count": 4,
   "metadata": {},
   "outputs": [],
   "source": [
    "ProbA = 0.5\n",
    "ProbB = 0.5\n",
    "ProbC = 0.5\n",
    "actionProb = 0.5\n",
    "EvA = [9,9,9,9]\n",
    "EvB = [9,9,9,9]\n",
    "EvC = [9,9,9,9]\n",
    "choice = 2\n",
    "recip = 0"
   ]
  },
  {
   "cell_type": "markdown",
   "metadata": {},
   "source": [
    "### Declare constants\n",
    "Four potential actions: 1, 2, 3, 4  \n",
    "1 = $\\$$0 money is entrusted with trustee  ( $\\$$9 retained, $\\$$0 potentially reciprocated)  \n",
    "2 = $\\$$3 is entrusted with trustee ( $\\$$6 retained, $\\$$6 potentially reciprocated)  \n",
    "3 = $\\$$6 is entrusted with trustee ( $\\$$3 retained, $\\$$12 potentially reciprocated)  \n",
    "4 = $\\$$9 is entrusted with trustee ( $\\$$0 retained, $\\$$18 potentially reciprocated)"
   ]
  },
  {
   "cell_type": "code",
   "execution_count": 5,
   "metadata": {},
   "outputs": [
    {
     "name": "stdout",
     "output_type": "stream",
     "text": [
      "Retain list is:  [9, 6, 3, 0]\n",
      "Shared list is:  [0, 6, 12, 18]\n"
     ]
    }
   ],
   "source": [
    "invest = [0,3,6,9]\n",
    "retain = [9-x for x in invest]\n",
    "print (\"Retain list is: \", retain)\n",
    "shared = [2*x for x in invest]\n",
    "print (\"Shared list is: \", shared)"
   ]
  },
  {
   "cell_type": "markdown",
   "metadata": {},
   "source": [
    "## Define update functions"
   ]
  },
  {
   "cell_type": "markdown",
   "metadata": {},
   "source": [
    "### Update Values"
   ]
  },
  {
   "cell_type": "code",
   "execution_count": 20,
   "metadata": {},
   "outputs": [],
   "source": [
    "def update_value(Prob, EV, choice):\n",
    "    invest = [0,3,6,9]\n",
    "    retain = [9-x for x in invest] #print (\"Retain list is: \", retain)\n",
    "    shared = [2*x for x in invest] #print (\"Shared list is: \", shared)\n",
    "  \n",
    "    EV[choice-1] = retain[choice-1] + Prob*shared[choice-1]\n",
    "    return EV"
   ]
  },
  {
   "cell_type": "markdown",
   "metadata": {},
   "source": [
    "### Update probabilities"
   ]
  },
  {
   "cell_type": "code",
   "execution_count": 40,
   "metadata": {},
   "outputs": [],
   "source": [
    "def update_prob(recip, Prob, a_gain, a_loss):\n",
    "    gain = max(recip - Prob, 0)\n",
    "    loss = min(recip - Prob, 0)\n",
    "    Prob = Prob + a_gain * gain + a_loss * loss\n",
    "    return Prob"
   ]
  },
  {
   "cell_type": "markdown",
   "metadata": {},
   "source": [
    "## Test update functions\n",
    "\n",
    "### Test updating on Trustee A (reciprocates 93% of the time)"
   ]
  },
  {
   "cell_type": "code",
   "execution_count": null,
   "metadata": {},
   "outputs": [],
   "source": [
    "choice = [1,2,3,4,1,2,3,4,1,2,3,4,2,3,4]\n",
    "random.shuffle(choice)\n",
    "recip = [1,1,1,1,1,1,1,1,1,1,1,1,1,1,0]\n",
    "random.shuffle(recip)\n",
    "\n",
    "for i in range(1,len(choice)):\n",
    "    ProbA = update_prob(recip[i],ProbA, a_gain, a_loss)\n",
    "    EvA = update_value(ProbA, EvA, choice[i])\n",
    "    \n",
    "print(\"Ending probability for Trustee A is: \", ProbA)\n",
    "print(\"Ending expected values for Trustee A: \", EvA)"
   ]
  },
  {
   "cell_type": "markdown",
   "metadata": {},
   "source": [
    "### Test updating on Trustee B (reciprocates 60% of the time)"
   ]
  },
  {
   "cell_type": "code",
   "execution_count": null,
   "metadata": {},
   "outputs": [],
   "source": [
    "choice = [1,2,3,4,1,2,3,4,1,2,3,4,2,3,4]\n",
    "random.shuffle(choice)\n",
    "recip = [1,1,1,1,1,1,1,1,1,0,0,0,0,0,0]\n",
    "random.shuffle(recip)\n",
    "\n",
    "for i in range(1,len(choice)):\n",
    "    ProbB = update_prob(recip[i],ProbB, a_gain, a_loss)\n",
    "    EvB = update_value(ProbB, EvB, choice[i])\n",
    "print(\"Ending probability for Trustee B is: \", ProbB)\n",
    "print(\"Ending expected values for Trustee B: \", EvB)"
   ]
  },
  {
   "cell_type": "markdown",
   "metadata": {},
   "source": [
    "### Test updating on Trustee C (reciprocates 7% of the time)"
   ]
  },
  {
   "cell_type": "code",
   "execution_count": null,
   "metadata": {},
   "outputs": [],
   "source": [
    "choice = [1,2,3,4,1,2,3,4,1,2,3,4,2,3,4]\n",
    "random.shuffle(choice)\n",
    "recip = [0,0,0,0,0,0,0,0,0,0,0,0,0,0,1]\n",
    "random.shuffle(recip)\n",
    "\n",
    "for i in range(1,len(choice)):\n",
    "    ProbC = update_prob(recip[i],ProbC, a_gain, a_loss)\n",
    "    EvC = update_value(ProbC, EvC, choice[i])\n",
    "    \n",
    "print(\"Ending probability for Trustee B is: \", ProbC)\n",
    "print(\"Ending expected values for Trustee B: \", EvC)"
   ]
  },
  {
   "cell_type": "markdown",
   "metadata": {},
   "source": [
    "## Define action selection functions"
   ]
  },
  {
   "cell_type": "markdown",
   "metadata": {},
   "source": [
    "### Softmax action selection\n",
    "_update with code from Jess_"
   ]
  },
  {
   "cell_type": "code",
   "execution_count": null,
   "metadata": {},
   "outputs": [],
   "source": [
    "def get_action_selection_prob(beta, EV, choice):\n",
    "    numerator = np.exp(beta*EV[choice-1])\n",
    "    #print \"Numerator is: \", numerator\n",
    "    denominator = np.sum([np.exp(beta*x) for x in EV])\n",
    "    #print \"Denominator is:\", denominator\n",
    "    actionProb = numerator/denominator\n",
    "    #print (\"Action is:\", choice)\n",
    "    #print (\"Probability of investing: \", actionProb)\n",
    "    return actionProb"
   ]
  },
  {
   "cell_type": "code",
   "execution_count": null,
   "metadata": {},
   "outputs": [],
   "source": [
    "def get_action_selection_probs(beta, EV):\n",
    "    actionProbs = [get_action_selection_prob(beta, EV, x) for x in range(1,5)]\n",
    "    return actionProbs"
   ]
  },
  {
   "cell_type": "code",
   "execution_count": null,
   "metadata": {},
   "outputs": [],
   "source": [
    "def action_selection(actionProb):\n",
    "    cumprob = np.cumsum(actionProb) # cumulative probability \n",
    "    num = random.uniform(0,1)# pick a random number between 0 and 1, see where it falls\n",
    "    if num < cumprob[0]: action = 1\n",
    "    elif num < cumprob[1]: action = 2\n",
    "    elif num < cumprob[2]: action = 3\n",
    "    else: action = 4   \n",
    "    return action"
   ]
  },
  {
   "cell_type": "markdown",
   "metadata": {},
   "source": [
    "### Test action selection functions"
   ]
  },
  {
   "cell_type": "code",
   "execution_count": null,
   "metadata": {},
   "outputs": [],
   "source": [
    "#print(beta)\n",
    "ev = EvB # Change between EvA, EvB, and EvC to see the probability for different partners\n",
    "print(\"Choice 1 probability is: \", get_action_selection_prob(beta, ev, 1))\n",
    "print(\"Choice 2 probability is: \", get_action_selection_prob(beta, ev, 2))\n",
    "print(\"Choice 3 probability is: \", get_action_selection_prob(beta, ev, 3))\n",
    "print(\"Choice 4 probability is: \", get_action_selection_prob(beta, ev, 4))\n"
   ]
  },
  {
   "cell_type": "code",
   "execution_count": null,
   "metadata": {},
   "outputs": [],
   "source": [
    "probsA = get_action_selection_probs(beta, EvA)\n",
    "print(probsA)\n",
    "probsB = get_action_selection_probs(beta, EvB)\n",
    "print(probsB)\n",
    "probsC = get_action_selection_probs(beta, EvC)\n",
    "print(probsC)"
   ]
  },
  {
   "cell_type": "code",
   "execution_count": null,
   "metadata": {},
   "outputs": [],
   "source": [
    "actionA = action_selection(probsA)\n",
    "print(\"Action for Person A = \", actionA)\n",
    "actionB = action_selection(probsB)\n",
    "print(\"Action for Person B = \", actionB)\n",
    "actionC = action_selection(probsC)\n",
    "print(\"Action for Person C = \", actionC)"
   ]
  },
  {
   "cell_type": "markdown",
   "metadata": {},
   "source": [
    "### Calculate likelihood"
   ]
  },
  {
   "cell_type": "markdown",
   "metadata": {},
   "source": [
    "**totalLLH** = total log likelihood for function"
   ]
  },
  {
   "cell_type": "code",
   "execution_count": null,
   "metadata": {},
   "outputs": [],
   "source": [
    "totalLLH = 0"
   ]
  },
  {
   "cell_type": "code",
   "execution_count": null,
   "metadata": {},
   "outputs": [],
   "source": [
    "def get_likelihood_action(choice, EV, beta, Probs, totalLLH):\n",
    "    prob = Probs[choice-1]\n",
    "    totalLLH += -math.log(prob)\n",
    "    return totalLLH"
   ]
  },
  {
   "cell_type": "code",
   "execution_count": null,
   "metadata": {},
   "outputs": [],
   "source": [
    "def get_likelihood(choices, EV, beta, Probs, totalLLH):\n",
    "    trials = range(0,len(choices))\n",
    "    for t in trials:\n",
    "        totalLLH = get_likelihood_action(choices[t], EV, beta, Probs, totalLLH)\n",
    "    return totalLLH"
   ]
  },
  {
   "cell_type": "markdown",
   "metadata": {},
   "source": [
    "### Test likelihood functions"
   ]
  },
  {
   "cell_type": "code",
   "execution_count": null,
   "metadata": {},
   "outputs": [],
   "source": [
    "totalLLH = get_likelihood_action(1, EvA, beta, probsA, totalLLH)\n",
    "print(totalLLH)"
   ]
  },
  {
   "cell_type": "code",
   "execution_count": null,
   "metadata": {},
   "outputs": [],
   "source": [
    "totalLLH = 0\n",
    "choice = [1,2,3,4,1,2,3,4,1,2,3,4,2,3,4]\n",
    "LL = get_likelihood(choice, EvA, beta, probsA, totalLLH)\n",
    "print(LL)"
   ]
  },
  {
   "cell_type": "markdown",
   "metadata": {},
   "source": [
    "### Calculate LL \n",
    "need to rewrite Jess's code for alternative"
   ]
  },
  {
   "cell_type": "code",
   "execution_count": null,
   "metadata": {},
   "outputs": [],
   "source": [
    "def logsumexp(b,dim):\n",
    "    # s = logsumexp(b) by Tom Minka, from Jess Cooper\n",
    "    # Returns s(i) = log(sum(exp(b(:,i)))) while avoiding numerical underflow.\n",
    "    # s = logsumexp(b, dim) sums over dimension 'dim' instead of summing over rows\n",
    "  "
   ]
  },
  {
   "cell_type": "code",
   "execution_count": null,
   "metadata": {},
   "outputs": [],
   "source": [
    "def update_likelihood(lik, val, action, beta):\n",
    "    lik = lik + val[action] - logsumexp(val*beta,2)\n",
    "    "
   ]
  }
 ],
 "metadata": {
  "kernelspec": {
   "display_name": "Python 3",
   "language": "python",
   "name": "python3"
  },
  "language_info": {
   "codemirror_mode": {
    "name": "ipython",
    "version": 3
   },
   "file_extension": ".py",
   "mimetype": "text/x-python",
   "name": "python",
   "nbconvert_exporter": "python",
   "pygments_lexer": "ipython3",
   "version": "3.7.3"
  }
 },
 "nbformat": 4,
 "nbformat_minor": 2
}
