{
 "cells": [
  {
   "cell_type": "markdown",
   "metadata": {},
   "source": [
    "# SocialAL Model\n",
    "### KLS 5.30.19 updated 8.23.19 and 9.11.19\n",
    "\n",
    "#### Project info: https://osf.io/b48n2/\n",
    "#### Model modified from :\n",
    "\n",
    "Fareri, D. S., Chang, L. J., & Delgado, M. R. (2012). Effects of direct social experience on trust decisions and neural reward circuitry. Frontiers in Neuroscience, 6, 1–17. https://doi.org/10.3389/fnins.2012.00148\n",
    "\n",
    "### Python version:"
   ]
  },
  {
   "cell_type": "code",
   "execution_count": null,
   "metadata": {},
   "outputs": [],
   "source": [
    "import sys\n",
    "print(sys.version)  "
   ]
  },
  {
   "cell_type": "markdown",
   "metadata": {},
   "source": [
    "## Setup"
   ]
  },
  {
   "cell_type": "markdown",
   "metadata": {},
   "source": [
    "### Load modules"
   ]
  },
  {
   "cell_type": "code",
   "execution_count": null,
   "metadata": {},
   "outputs": [],
   "source": [
    "import numpy as np\n",
    "import random\n",
    "import math"
   ]
  },
  {
   "cell_type": "markdown",
   "metadata": {},
   "source": [
    "### Initialize free parameters\n",
    "**a_gain**: gain learning rate (varies 0-1)  \n",
    "**a_loss**: loss learning rate (varies 0-1)  \n",
    "**beta**: inverse temperature paramter (varies 0-1)"
   ]
  },
  {
   "cell_type": "code",
   "execution_count": null,
   "metadata": {},
   "outputs": [],
   "source": [
    "a_gain=0.2\n",
    "a_loss=0.2\n",
    "beta=1"
   ]
  },
  {
   "cell_type": "markdown",
   "metadata": {},
   "source": [
    "### Initialize other variables\n",
    "Three potential trustees: A, B, C [Trustworthy, Neutral, Untrustworthy?]  \n",
    "**Probs** = Belief about likelihood of reciprocation for each trustee [A, B, C]  \n",
    "**actionProb** = Probability of a participant investing with the trustee  \n",
    "**Evs** = Expected value of each potential action towards a partner for [[A1,A2,A3,A4], [B1,B2,B3,B4], [C1,C2,C3,C4]]  \n",
    "**choice** = The choice (how much to entrust) taken by the participant  \n",
    "**recip** = Whether or not the trustee reciprocated (y in paper)"
   ]
  },
  {
   "cell_type": "code",
   "execution_count": null,
   "metadata": {},
   "outputs": [],
   "source": [
    "Probs = [0.5, 0.5, 0.5]\n",
    "actionProb = 0.5\n",
    "Evs = [[9,9,9,9], [9,9,9,9],[9,9,9,9]]\n",
    "choice = 2\n",
    "recip = 0"
   ]
  },
  {
   "cell_type": "markdown",
   "metadata": {},
   "source": [
    "### Declare constants\n",
    "Four potential actions: 1, 2, 3, 4  \n",
    "1 = $\\$$0 money is entrusted with trustee  ( $\\$$9 retained, $\\$$0 potentially reciprocated)  \n",
    "2 = $\\$$3 is entrusted with trustee ( $\\$$6 retained, $\\$$6 potentially reciprocated)  \n",
    "3 = $\\$$6 is entrusted with trustee ( $\\$$3 retained, $\\$$12 potentially reciprocated)  \n",
    "4 = $\\$$9 is entrusted with trustee ( $\\$$0 retained, $\\$$18 potentially reciprocated)"
   ]
  },
  {
   "cell_type": "code",
   "execution_count": null,
   "metadata": {},
   "outputs": [],
   "source": [
    "invest = [0,3,6,9]\n",
    "retain = [9-x for x in invest]\n",
    "print (\"Retain list is: \", retain)\n",
    "shared = [2*x for x in invest]\n",
    "print (\"Shared list is: \", shared)"
   ]
  },
  {
   "cell_type": "markdown",
   "metadata": {},
   "source": [
    "## Define update functions"
   ]
  },
  {
   "cell_type": "markdown",
   "metadata": {},
   "source": [
    "### Update Values"
   ]
  },
  {
   "cell_type": "code",
   "execution_count": null,
   "metadata": {},
   "outputs": [],
   "source": [
    "def update_value(Prob, EV, choice):\n",
    "    # here Prob is the probability that the trustee will reciprocate; e.g. Probs[0] for trustee A\n",
    "    # here EV is the expected value of each action for that trustee; e.g. EVs[0] for trustee A\n",
    "    # reminder: Python starts indexing at 0 instead of 1\n",
    "    invest = [0,3,6,9]\n",
    "    retain = [9-x for x in invest] #print (\"Retain list is: \", retain)\n",
    "    shared = [2*x for x in invest] #print (\"Shared list is: \", shared)\n",
    "  \n",
    "    EV[choice-1] = retain[choice-1] + Prob*shared[choice-1]\n",
    "    return EV"
   ]
  },
  {
   "cell_type": "markdown",
   "metadata": {},
   "source": [
    "### Update probabilities"
   ]
  },
  {
   "cell_type": "code",
   "execution_count": null,
   "metadata": {},
   "outputs": [],
   "source": [
    "def update_prob(recip, Prob, a_gain, a_loss):\n",
    "    # here Prob is the probability that the trustee will reciprocate; e.g. Probs[0] for trustee A\n",
    "    gain = max(recip - Prob, 0)\n",
    "    loss = min(recip - Prob, 0)\n",
    "    Prob = Prob + a_gain * gain + a_loss * loss\n",
    "    return Prob"
   ]
  },
  {
   "cell_type": "markdown",
   "metadata": {},
   "source": [
    "## Test update functions\n",
    "\n",
    "### Test updating on Trustee A (reciprocates 93% of the time)"
   ]
  },
  {
   "cell_type": "code",
   "execution_count": null,
   "metadata": {},
   "outputs": [],
   "source": [
    "choice = [1,2,3,4,1,2,3,4,1,2,3,4,2,3,4]\n",
    "random.shuffle(choice)\n",
    "recip = [1,1,1,1,1,1,1,1,1,1,1,1,1,1,0]\n",
    "random.shuffle(recip)\n",
    "\n",
    "for i in range(1,len(choice)):\n",
    "    Probs[0] = update_prob(recip[i],Probs[0], a_gain, a_loss)\n",
    "    Evs[0] = update_value(Probs[0], Evs[0], choice[i])\n",
    "    \n",
    "print(\"Ending probability for Trustee A is: \", Probs[0])\n",
    "print(\"Ending expected values for Trustee A: \", Evs[0])"
   ]
  },
  {
   "cell_type": "markdown",
   "metadata": {},
   "source": [
    "### Test updating on Trustee B (reciprocates 60% of the time)"
   ]
  },
  {
   "cell_type": "code",
   "execution_count": null,
   "metadata": {},
   "outputs": [],
   "source": [
    "choice = [1,2,3,4,1,2,3,4,1,2,3,4,2,3,4]\n",
    "random.shuffle(choice)\n",
    "recip = [1,1,1,1,1,1,1,1,1,0,0,0,0,0,0]\n",
    "random.shuffle(recip)\n",
    "\n",
    "for i in range(1,len(choice)):\n",
    "    Probs[1] = update_prob(recip[i],Probs[1], a_gain, a_loss)\n",
    "    Evs[1] = update_value(Probs[1], Evs[1], choice[i])\n",
    "print(\"Ending probability for Trustee B is: \", Probs[1])\n",
    "print(\"Ending expected values for Trustee B: \", Evs[1])"
   ]
  },
  {
   "cell_type": "markdown",
   "metadata": {},
   "source": [
    "### Test updating on Trustee C (reciprocates 7% of the time)"
   ]
  },
  {
   "cell_type": "code",
   "execution_count": null,
   "metadata": {},
   "outputs": [],
   "source": [
    "choice = [1,2,3,4,1,2,3,4,1,2,3,4,2,3,4]\n",
    "random.shuffle(choice)\n",
    "recip = [0,0,0,0,0,0,0,0,0,0,0,0,0,0,1]\n",
    "random.shuffle(recip)\n",
    "\n",
    "for i in range(1,len(choice)):\n",
    "    Probs[2] = update_prob(recip[i],Probs[2], a_gain, a_loss)\n",
    "    Evs[2] = update_value(Probs[2], Evs[2], choice[i])\n",
    "    \n",
    "print(\"Ending probability for Trustee B is: \", Probs[2])\n",
    "print(\"Ending expected values for Trustee B: \", Evs[2])"
   ]
  },
  {
   "cell_type": "markdown",
   "metadata": {},
   "source": [
    "## Define action selection functions"
   ]
  },
  {
   "cell_type": "markdown",
   "metadata": {},
   "source": [
    "### Softmax action selection\n",
    "_update with code from Jess_"
   ]
  },
  {
   "cell_type": "code",
   "execution_count": null,
   "metadata": {},
   "outputs": [],
   "source": [
    "def get_action_selection_prob(beta, EV, choice):\n",
    "    # this function calculates the probability of an action using softmax action selection\n",
    "    # here Prob is the probability that the trustee will reciprocate; e.g. Probs[0] for trustee A\n",
    "    # here EV is the expected value of each action for that trustee; e.g. EVs[0] for trustee A\n",
    "    # reminder: Python starts indexing at 0 instead of 1\n",
    "    numerator = np.exp(beta*EV[choice-1])\n",
    "    #print \"Numerator is: \", numerator\n",
    "    denominator = np.sum([np.exp(beta*x) for x in EV])\n",
    "    #print \"Denominator is:\", denominator\n",
    "    actionProb = numerator/denominator\n",
    "    #print (\"Action is:\", choice)\n",
    "    #print (\"Probability of investing: \", actionProb)\n",
    "    return actionProb"
   ]
  },
  {
   "cell_type": "code",
   "execution_count": null,
   "metadata": {},
   "outputs": [],
   "source": [
    "def get_action_selection_probs(beta, EV):\n",
    "    # this function calls the previous function to get all the action probabilities for a particular trustee\n",
    "    actionProbs = [get_action_selection_prob(beta, EV, x) for x in range(1,5)]\n",
    "    return actionProbs"
   ]
  },
  {
   "cell_type": "code",
   "execution_count": null,
   "metadata": {},
   "outputs": [],
   "source": [
    "def action_selection(actionProb):\n",
    "    # this function calls the previous function and uses it to select an action\n",
    "    cumprob = np.cumsum(actionProb) # cumulative probability \n",
    "    num = random.uniform(0,1)# pick a random number between 0 and 1, see where it falls\n",
    "    if num < cumprob[0]: action = 1\n",
    "    elif num < cumprob[1]: action = 2\n",
    "    elif num < cumprob[2]: action = 3\n",
    "    else: action = 4   \n",
    "    return action"
   ]
  },
  {
   "cell_type": "markdown",
   "metadata": {},
   "source": [
    "### Test action selection functions"
   ]
  },
  {
   "cell_type": "code",
   "execution_count": null,
   "metadata": {},
   "outputs": [],
   "source": [
    "#print(beta)\n",
    "ev = Evs[2] # Change between Evs[0], Evs[1], and Evs[2] to see the probability for different partners\n",
    "print(\"Choice 1 probability is: \", get_action_selection_prob(beta, ev, 1))\n",
    "print(\"Choice 2 probability is: \", get_action_selection_prob(beta, ev, 2))\n",
    "print(\"Choice 3 probability is: \", get_action_selection_prob(beta, ev, 3))\n",
    "print(\"Choice 4 probability is: \", get_action_selection_prob(beta, ev, 4))\n"
   ]
  },
  {
   "cell_type": "code",
   "execution_count": null,
   "metadata": {},
   "outputs": [],
   "source": [
    "probsA = get_action_selection_probs(beta, Evs[0])\n",
    "print(probsA)\n",
    "probsB = get_action_selection_probs(beta, Evs[1])\n",
    "print(probsB)\n",
    "probsC = get_action_selection_probs(beta, Evs[2])\n",
    "print(probsC)"
   ]
  },
  {
   "cell_type": "code",
   "execution_count": null,
   "metadata": {},
   "outputs": [],
   "source": [
    "actionA = action_selection(probsA)\n",
    "print(\"Action for Person A = \", actionA)\n",
    "actionB = action_selection(probsB)\n",
    "print(\"Action for Person B = \", actionB)\n",
    "actionC = action_selection(probsC)\n",
    "print(\"Action for Person C = \", actionC)"
   ]
  },
  {
   "cell_type": "code",
   "execution_count": null,
   "metadata": {},
   "outputs": [],
   "source": []
  }
 ],
 "metadata": {
  "kernelspec": {
   "display_name": "Python 3",
   "language": "python",
   "name": "python3"
  },
  "language_info": {
   "codemirror_mode": {
    "name": "ipython",
    "version": 3
   },
   "file_extension": ".py",
   "mimetype": "text/x-python",
   "name": "python",
   "nbconvert_exporter": "python",
   "pygments_lexer": "ipython3",
   "version": "3.7.3"
  }
 },
 "nbformat": 4,
 "nbformat_minor": 2
}
