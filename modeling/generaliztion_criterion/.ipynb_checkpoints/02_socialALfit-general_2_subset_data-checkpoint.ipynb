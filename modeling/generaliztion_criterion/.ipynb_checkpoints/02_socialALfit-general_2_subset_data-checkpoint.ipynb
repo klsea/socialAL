{
 "cells": [
  {
   "cell_type": "markdown",
   "metadata": {},
   "source": [
    "### SocialAL Models\n",
    "# Fit general learning model to subset of data\n",
    "KLS 12.19.22\n",
    "Project info: https://osf.io/b48n2/\n",
    "\n",
    "Model modified from :\n",
    "Fareri, D. S., Chang, L. J., & Delgado, M. R. (2012). Effects of direct social experience on trust decisions and neural reward circuitry. Frontiers in Neuroscience, 6, 1–17. https://doi.org/10.3389/fnins.2012.00148"
   ]
  },
  {
   "cell_type": "markdown",
   "metadata": {},
   "source": [
    "### Python version"
   ]
  },
  {
   "cell_type": "code",
   "execution_count": 1,
   "metadata": {},
   "outputs": [
    {
     "name": "stdout",
     "output_type": "stream",
     "text": [
      "3.11.0 (v3.11.0:deaf509e8f, Oct 24 2022, 14:43:23) [Clang 13.0.0 (clang-1300.0.29.30)]\n"
     ]
    }
   ],
   "source": [
    "import sys\n",
    "print(sys.version)  "
   ]
  },
  {
   "cell_type": "markdown",
   "metadata": {},
   "source": [
    "### Load modules"
   ]
  },
  {
   "cell_type": "code",
   "execution_count": 2,
   "metadata": {},
   "outputs": [],
   "source": [
    "import numpy as np\n",
    "import random\n",
    "import math\n",
    "import pandas as pd\n",
    "from scipy.optimize import minimize\n",
    "import matplotlib.pyplot as plt\n",
    "import itertools\n",
    "import os\n",
    "import csv"
   ]
  },
  {
   "cell_type": "markdown",
   "metadata": {},
   "source": [
    "## Pull in functions"
   ]
  },
  {
   "cell_type": "code",
   "execution_count": 3,
   "metadata": {},
   "outputs": [],
   "source": [
    "run common_functions.ipynb"
   ]
  },
  {
   "cell_type": "code",
   "execution_count": 4,
   "metadata": {},
   "outputs": [],
   "source": [
    "run single_alpha_functions.ipynb"
   ]
  },
  {
   "cell_type": "markdown",
   "metadata": {},
   "source": [
    "### New function to fit model to multiple subjects"
   ]
  },
  {
   "cell_type": "code",
   "execution_count": 5,
   "metadata": {},
   "outputs": [],
   "source": [
    "def model_fit_mult_subject(data):\n",
    "    pdt = pd.DataFrame(columns = ['Subject','alpha', 'beta', 'llh'])\n",
    "    a = pd.unique(data['Subject'])\n",
    "    #print(a)\n",
    "    for sub in range(len(a)):\n",
    "        print('Subject: ', a[sub])\n",
    "        df = data[data['Subject']==a[sub]]\n",
    "        df.dropna()\n",
    "        df.reset_index(drop=True, inplace=True)\n",
    "        dt = df.to_dict()\n",
    "        params = model_fit(dt)\n",
    "        #print('Params: ', params)\n",
    "        line = {'Subject': sub, 'alpha':params[0], 'beta':params[1], 'llh':params[2]}\n",
    "        pdt = pdt.append(line, ignore_index=True)   \n",
    "    return(pdt)\n"
   ]
  },
  {
   "cell_type": "markdown",
   "metadata": {},
   "source": [
    "### Load and clean data"
   ]
  },
  {
   "cell_type": "code",
   "execution_count": 6,
   "metadata": {},
   "outputs": [],
   "source": [
    "files = os.listdir('../../data/modeling')\n",
    "files.remove('.DS_Store')\n",
    "files.remove('missing')\n",
    "#print(files)"
   ]
  },
  {
   "cell_type": "code",
   "execution_count": 7,
   "metadata": {},
   "outputs": [
    {
     "name": "stdout",
     "output_type": "stream",
     "text": [
      "number of participants:  63\n"
     ]
    }
   ],
   "source": [
    "n_part = len(files)\n",
    "print('number of participants: ', n_part)"
   ]
  },
  {
   "cell_type": "code",
   "execution_count": 8,
   "metadata": {},
   "outputs": [],
   "source": [
    "def load_and_clean(file):\n",
    "    path = os.path.join('../../data/modeling', file)\n",
    "    dt = pd.read_csv(path)\n",
    "    # recode trial type into numbers for model\n",
    "    def stims(trial_type):\n",
    "        if trial_type == \"Trustworthy\":\n",
    "            return 0\n",
    "        elif trial_type == \"Neutral\":\n",
    "            return 1\n",
    "        elif trial_type == \"Untrustworthy\":\n",
    "            return 2\n",
    "    dt['Stim_Sequence'] = dt['trial_type'].apply(stims)\n",
    "    # rename response_key to choice\n",
    "    def choices(response_key):\n",
    "        if response_key == 'None':\n",
    "            return 0 \n",
    "        else:\n",
    "            return response_key  \n",
    "    dt['Choice'] = dt['response_key'].apply(choices)\n",
    "    dt['Choice'] = pd.to_numeric(dt['Choice'])\n",
    "    # calculte the trustee response\n",
    "    def resp(trial_earnings):\n",
    "        if trial_earnings >= 12:\n",
    "            return 1\n",
    "        else:\n",
    "            return 0\n",
    "    dt['Trustee_Response'] = dt['trial_earnings'].apply(resp)\n",
    "    data = dt[['Stim_Sequence','Choice', 'Trustee_Response']]\n",
    "    # remove neutral trials\n",
    "    data = data[data['Stim_Sequence'] != 1]\n",
    "    data.reset_index(drop=True, inplace=True)\n",
    "    return(data)"
   ]
  },
  {
   "cell_type": "code",
   "execution_count": 9,
   "metadata": {},
   "outputs": [],
   "source": [
    "# data = load_and_clean(files[0])\n",
    "# data.head(5)"
   ]
  },
  {
   "cell_type": "code",
   "execution_count": 18,
   "metadata": {},
   "outputs": [
    {
     "name": "stdout",
     "output_type": "stream",
     "text": [
      "loop: 0\n",
      "sub-2013\n",
      "loading data\n",
      "fitting model\n",
      "['sub-2013', 0.002493050528497652, 20.0, 32.43983571576071]\n",
      "loop: 1\n",
      "sub-2007\n",
      "loading data\n",
      "fitting model\n",
      "['sub-2007', 0.19693477100270998, 0.3220602672076752, 35.90056329347814]\n"
     ]
    }
   ],
   "source": [
    "# create csv file\n",
    "file = open('../../output/generalization_criterion/a1_fit2_2cond_part.csv', 'w')\n",
    "\n",
    "# add header\n",
    "headerList = ['id', 'alpha', 'beta', 'llh']\n",
    "with open('../../output/generalization_criterion/a1_fit2_2cond_part.csv', 'a') as f_object: \n",
    "    dw = csv.DictWriter(f_object, delimiter = ',', fieldnames = headerList)\n",
    "    dw.writeheader()\n",
    "\n",
    "#loop thru participants\n",
    "for x in range(2): #range(n_part):\n",
    "    print('loop:', x)\n",
    "    subject = files[x][:-4]\n",
    "    print(subject)\n",
    "    \n",
    "    # load and clean data\n",
    "    print('loading data')\n",
    "    data = load_and_clean(files[x])\n",
    "    \n",
    "    # fit model\n",
    "    print('fitting model')\n",
    "    a1mf = model_fit(data)\n",
    "    a1 = np.array(a1mf.x).tolist()\n",
    "    a1.insert(0,subject)\n",
    "    a1.append(a1mf.fun)\n",
    "    print(a1)\n",
    "    \n",
    "    # save results\n",
    "    print('saving results')\n",
    "    with open('../../output/generalization_criterion/a1_fit2_2cond_part.csv', 'a') as f_object: # create a file object\n",
    "        writer_object = csv.writer(f_object) # pass the file object to csv writer\n",
    "        writer_object.writerow(a1) #pass list as argument to writerow\n",
    "        f_object.close() # close the file object"
   ]
  },
  {
   "cell_type": "code",
   "execution_count": null,
   "metadata": {},
   "outputs": [],
   "source": []
  }
 ],
 "metadata": {
  "kernelspec": {
   "display_name": "Python 3 (ipykernel)",
   "language": "python",
   "name": "python3"
  },
  "language_info": {
   "codemirror_mode": {
    "name": "ipython",
    "version": 3
   },
   "file_extension": ".py",
   "mimetype": "text/x-python",
   "name": "python",
   "nbconvert_exporter": "python",
   "pygments_lexer": "ipython3",
   "version": "3.11.0"
  }
 },
 "nbformat": 4,
 "nbformat_minor": 2
}
