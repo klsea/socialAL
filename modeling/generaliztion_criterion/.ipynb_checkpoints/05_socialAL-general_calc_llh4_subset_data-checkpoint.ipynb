{
 "cells": [
  {
   "cell_type": "markdown",
   "metadata": {},
   "source": [
    "### SocialAL Models\n",
    "# Calc llh from general learning model for subset of data\n",
    "KLS 12.19.22\n",
    "Project info: https://osf.io/b48n2/\n",
    "\n",
    "Model modified from :\n",
    "Fareri, D. S., Chang, L. J., & Delgado, M. R. (2012). Effects of direct social experience on trust decisions and neural reward circuitry. Frontiers in Neuroscience, 6, 1–17. https://doi.org/10.3389/fnins.2012.00148"
   ]
  },
  {
   "cell_type": "markdown",
   "metadata": {},
   "source": [
    "### Python version"
   ]
  },
  {
   "cell_type": "code",
   "execution_count": 1,
   "metadata": {},
   "outputs": [
    {
     "name": "stdout",
     "output_type": "stream",
     "text": [
      "3.11.0 (v3.11.0:deaf509e8f, Oct 24 2022, 14:43:23) [Clang 13.0.0 (clang-1300.0.29.30)]\n"
     ]
    }
   ],
   "source": [
    "import sys\n",
    "print(sys.version)  "
   ]
  },
  {
   "cell_type": "markdown",
   "metadata": {},
   "source": [
    "### Load modules"
   ]
  },
  {
   "cell_type": "code",
   "execution_count": 2,
   "metadata": {},
   "outputs": [],
   "source": [
    "import numpy as np\n",
    "import random\n",
    "import math\n",
    "import pandas as pd\n",
    "from scipy.optimize import minimize\n",
    "import matplotlib.pyplot as plt\n",
    "import itertools\n",
    "import os\n",
    "import csv"
   ]
  },
  {
   "cell_type": "markdown",
   "metadata": {},
   "source": [
    "## Pull in functions"
   ]
  },
  {
   "cell_type": "code",
   "execution_count": 3,
   "metadata": {},
   "outputs": [],
   "source": [
    "run common_functions.ipynb"
   ]
  },
  {
   "cell_type": "code",
   "execution_count": 4,
   "metadata": {},
   "outputs": [],
   "source": [
    "run single_alpha_functions.ipynb"
   ]
  },
  {
   "cell_type": "markdown",
   "metadata": {},
   "source": [
    "### Pull in parameters fit to Trustworthy/Untrustworthy conditions"
   ]
  },
  {
   "cell_type": "code",
   "execution_count": 5,
   "metadata": {},
   "outputs": [
    {
     "data": {
      "text/html": [
       "<div>\n",
       "<style scoped>\n",
       "    .dataframe tbody tr th:only-of-type {\n",
       "        vertical-align: middle;\n",
       "    }\n",
       "\n",
       "    .dataframe tbody tr th {\n",
       "        vertical-align: top;\n",
       "    }\n",
       "\n",
       "    .dataframe thead th {\n",
       "        text-align: right;\n",
       "    }\n",
       "</style>\n",
       "<table border=\"1\" class=\"dataframe\">\n",
       "  <thead>\n",
       "    <tr style=\"text-align: right;\">\n",
       "      <th></th>\n",
       "      <th>id</th>\n",
       "      <th>alpha</th>\n",
       "      <th>beta</th>\n",
       "      <th>llh</th>\n",
       "    </tr>\n",
       "  </thead>\n",
       "  <tbody>\n",
       "    <tr>\n",
       "      <th>0</th>\n",
       "      <td>sub-2013</td>\n",
       "      <td>0.002493</td>\n",
       "      <td>20.00000</td>\n",
       "      <td>32.439836</td>\n",
       "    </tr>\n",
       "    <tr>\n",
       "      <th>1</th>\n",
       "      <td>sub-2007</td>\n",
       "      <td>0.196935</td>\n",
       "      <td>0.32206</td>\n",
       "      <td>35.900563</td>\n",
       "    </tr>\n",
       "  </tbody>\n",
       "</table>\n",
       "</div>"
      ],
      "text/plain": [
       "         id     alpha      beta        llh\n",
       "0  sub-2013  0.002493  20.00000  32.439836\n",
       "1  sub-2007  0.196935   0.32206  35.900563"
      ]
     },
     "execution_count": 5,
     "metadata": {},
     "output_type": "execute_result"
    }
   ],
   "source": [
    "pt = pd.read_csv('../../output/generalization_criterion/a1_fit2_2cond_part.csv')\n",
    "pt.head(5)"
   ]
  },
  {
   "cell_type": "markdown",
   "metadata": {},
   "source": [
    "### Load and clean data"
   ]
  },
  {
   "cell_type": "code",
   "execution_count": 6,
   "metadata": {},
   "outputs": [],
   "source": [
    "files = os.listdir('../../data/modeling')\n",
    "files.remove('.DS_Store')\n",
    "files.remove('missing')\n",
    "#print(files)"
   ]
  },
  {
   "cell_type": "code",
   "execution_count": 7,
   "metadata": {},
   "outputs": [
    {
     "name": "stdout",
     "output_type": "stream",
     "text": [
      "number of participants:  63\n"
     ]
    }
   ],
   "source": [
    "n_part = len(files)\n",
    "print('number of participants: ', n_part)"
   ]
  },
  {
   "cell_type": "code",
   "execution_count": 8,
   "metadata": {},
   "outputs": [],
   "source": [
    "def load_and_clean(file):\n",
    "    path = os.path.join('../../data/modeling', file)\n",
    "    dt = pd.read_csv(path)\n",
    "    # recode trial type into numbers for model\n",
    "    def stims(trial_type):\n",
    "        if trial_type == \"Trustworthy\":\n",
    "            return 0\n",
    "        elif trial_type == \"Neutral\":\n",
    "            return 1\n",
    "        elif trial_type == \"Untrustworthy\":\n",
    "            return 2\n",
    "    dt['Stim_Sequence'] = dt['trial_type'].apply(stims)\n",
    "    # rename response_key to choice\n",
    "    def choices(response_key):\n",
    "        if response_key == 'None':\n",
    "            return 0 \n",
    "        else:\n",
    "            return response_key  \n",
    "    dt['Choice'] = dt['response_key'].apply(choices)\n",
    "    dt['Choice'] = pd.to_numeric(dt['Choice'])\n",
    "    # calculte the trustee response\n",
    "    def resp(trial_earnings):\n",
    "        if trial_earnings >= 12:\n",
    "            return 1\n",
    "        else:\n",
    "            return 0\n",
    "    dt['Trustee_Response'] = dt['trial_earnings'].apply(resp)\n",
    "    data = dt[['Stim_Sequence','Choice', 'Trustee_Response']]\n",
    "    # limit to neutral trials only\n",
    "    data = data[data['Stim_Sequence'] == 1]\n",
    "    data.reset_index(drop=True, inplace=True)\n",
    "    return(data)"
   ]
  },
  {
   "cell_type": "code",
   "execution_count": 10,
   "metadata": {},
   "outputs": [],
   "source": [
    "# data = load_and_clean(files[0])\n",
    "# data.head(20) # should only have 15 trials"
   ]
  },
  {
   "cell_type": "code",
   "execution_count": 11,
   "metadata": {},
   "outputs": [
    {
     "name": "stdout",
     "output_type": "stream",
     "text": [
      "loop: 0\n",
      "sub-2013\n",
      "loading data\n",
      "pull parameters\n",
      "calculating llh\n",
      "['sub-2013', 14.961941507082955]\n",
      "saving results\n",
      "loop: 1\n",
      "sub-2007\n",
      "loading data\n",
      "pull parameters\n",
      "calculating llh\n",
      "['sub-2007', 15.776778464651114]\n",
      "saving results\n"
     ]
    }
   ],
   "source": [
    "# create csv file\n",
    "file = open('../../output/generalization_criterion/a1_llh4_1cond_part.csv', 'w')\n",
    "\n",
    "# add header\n",
    "headerList = ['id','a1_llh']\n",
    "with open('../../output/generalization_criterion/a1_llh4_1cond_part.csv', 'a') as f_object: \n",
    "    dw = csv.DictWriter(f_object, delimiter = ',', fieldnames = headerList)\n",
    "    dw.writeheader()\n",
    "\n",
    "#loop thru participants\n",
    "for x in range(n_part):\n",
    "    print('loop:', x)\n",
    "    subject = files[x][:-4]\n",
    "    print(subject)\n",
    "    \n",
    "    # load and clean data\n",
    "    print('loading data')\n",
    "    data = load_and_clean(files[x])\n",
    "    \n",
    "    # pull parameters\n",
    "    print('pull parameters')\n",
    "    params = pt.loc[pt['id'] == subject].values.flatten().tolist()\n",
    "    #print(params[1:4])\n",
    "    \n",
    "    # calculting llh\n",
    "    print('calculating llh')\n",
    "    llh = get_likelihood_action(params[1:4], data)\n",
    "    a2 = [subject, llh]\n",
    "    print(a2)\n",
    "    \n",
    "    # save results\n",
    "    print('saving results')\n",
    "    with open('../../output/generalization_criterion/a1_llh4_1cond_part.csv', 'a') as f_object: # create a file object\n",
    "        writer_object = csv.writer(f_object) # pass the file object to csv writer\n",
    "        writer_object.writerow(a2) #pass list as argument to writerow\n",
    "        f_object.close() # close the file object"
   ]
  },
  {
   "cell_type": "code",
   "execution_count": null,
   "metadata": {},
   "outputs": [],
   "source": []
  }
 ],
 "metadata": {
  "kernelspec": {
   "display_name": "Python 3 (ipykernel)",
   "language": "python",
   "name": "python3"
  },
  "language_info": {
   "codemirror_mode": {
    "name": "ipython",
    "version": 3
   },
   "file_extension": ".py",
   "mimetype": "text/x-python",
   "name": "python",
   "nbconvert_exporter": "python",
   "pygments_lexer": "ipython3",
   "version": "3.11.0"
  }
 },
 "nbformat": 4,
 "nbformat_minor": 2
}
