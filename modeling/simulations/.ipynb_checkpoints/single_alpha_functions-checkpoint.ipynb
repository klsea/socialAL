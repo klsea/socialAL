{
 "cells": [
  {
   "cell_type": "markdown",
   "metadata": {},
   "source": [
    "## single alpha functions\n",
    "\n",
    "### specialized functions for single alpha"
   ]
  },
  {
   "cell_type": "code",
   "execution_count": 1,
   "metadata": {},
   "outputs": [],
   "source": [
    "def update_prob(recip, Prob, alpha):\n",
    "    Prob = Prob + alpha*(recip-Prob)\n",
    "    return Prob\n",
    "\n",
    "def get_likelihood_action(params, data):\n",
    "    alpha = params[0]\n",
    "    beta = params[1]\n",
    "    \n",
    "    # initialize variables\n",
    "    prob = [0.5, 0.5, 0.5]\n",
    "    ev = [[9,9,9,9],[9,9,9,9],[9,9,9,9]]\n",
    "    \n",
    "    totalLLH = 0 \n",
    "    for trial in range(0, len(data['Choice'])):\n",
    "        trustee = data['Stim_Sequence'][trial] # get trustee type\n",
    "        choice = data['Choice'][trial] # get choice made by participant\n",
    "        response = data['Trustee_Response'][trial] # get response from trustee\n",
    "        \n",
    "        # compute the probability of selecting each option for that trustee\n",
    "        probs = get_action_selection_probs(beta, ev[trustee])\n",
    "        \n",
    "        # use the probability of the selection (choice-probability) to update log likelihood\n",
    "        if choice != 0:\n",
    "            cprob = probs[choice-1] \n",
    "            #print(cprob, isinstance(cprob, float))\n",
    "\n",
    "            #add to cumulative log likelihood\n",
    "            totalLLH += -(math.log(cprob))\n",
    "        \n",
    "            # update prob and value\n",
    "            if choice != 1:\n",
    "                prob[trustee] = update_prob(response, prob[trustee], alpha)\n",
    "            ev[trustee] = update_value(prob[trustee])\n",
    "        \n",
    "    return totalLLH\n",
    "\n",
    "def model_fit(data):\n",
    "    \n",
    "    tries = 100 #  number of tries to find the best-fit parameter\n",
    "    lowestLLH = math.inf \n",
    "    bestFit = 'NA'\n",
    "    \n",
    "    for i in range(tries):\n",
    "        \n",
    "        # initialize free parameters with randomly chosen numbers\n",
    "        alpha=random.uniform(0, 1)\n",
    "        beta=random.uniform(0, 1)\n",
    "        params = [alpha, beta]\n",
    "\n",
    "        # trying different solvers in the minimize call...\n",
    "        results = minimize(get_likelihood_action, \n",
    "                           params, args =(data), bounds = [(0, 1), (1e-10, 20)], \n",
    "                           options = {'maxiter': 10000, 'disp': False})\n",
    "        if (lowestLLH > results['fun'] and results['success']== True):\n",
    "            lowestLLH = results['fun']\n",
    "            bestFit = results\n",
    "            \n",
    "    return bestFit"
   ]
  },
  {
   "cell_type": "code",
   "execution_count": null,
   "metadata": {},
   "outputs": [],
   "source": []
  }
 ],
 "metadata": {
  "kernelspec": {
   "display_name": "Python 3 (ipykernel)",
   "language": "python",
   "name": "python3"
  },
  "language_info": {
   "codemirror_mode": {
    "name": "ipython",
    "version": 3
   },
   "file_extension": ".py",
   "mimetype": "text/x-python",
   "name": "python",
   "nbconvert_exporter": "python",
   "pygments_lexer": "ipython3",
   "version": "3.11.0"
  }
 },
 "nbformat": 4,
 "nbformat_minor": 2
}
