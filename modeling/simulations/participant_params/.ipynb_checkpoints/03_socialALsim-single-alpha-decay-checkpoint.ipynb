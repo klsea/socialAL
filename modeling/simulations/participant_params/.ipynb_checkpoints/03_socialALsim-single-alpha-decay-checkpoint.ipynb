{
 "cells": [
  {
   "cell_type": "markdown",
   "metadata": {},
   "source": [
    "### SocialAL Models\n",
    "# Data simulation using best-fit parameters - multiple subjects\n",
    "KLS 8.30.19; update 7.7.22; updated 10.31.22\n",
    "Project info: https://osf.io/b48n2/\n",
    "\n",
    "Model modified from :\n",
    "Fareri, D. S., Chang, L. J., & Delgado, M. R. (2012). Effects of direct social experience on trust decisions and neural reward circuitry. Frontiers in Neuroscience, 6, 1–17. https://doi.org/10.3389/fnins.2012.00148"
   ]
  },
  {
   "cell_type": "markdown",
   "metadata": {},
   "source": [
    "### Python version"
   ]
  },
  {
   "cell_type": "code",
   "execution_count": 1,
   "metadata": {},
   "outputs": [
    {
     "name": "stdout",
     "output_type": "stream",
     "text": [
      "3.11.0 (v3.11.0:deaf509e8f, Oct 24 2022, 14:43:23) [Clang 13.0.0 (clang-1300.0.29.30)]\n"
     ]
    }
   ],
   "source": [
    "import sys\n",
    "print(sys.version)  "
   ]
  },
  {
   "cell_type": "markdown",
   "metadata": {},
   "source": [
    "### Load modules"
   ]
  },
  {
   "cell_type": "code",
   "execution_count": 2,
   "metadata": {},
   "outputs": [],
   "source": [
    "import numpy as np\n",
    "import random\n",
    "import math\n",
    "import pandas as pd\n",
    "from scipy.optimize import minimize\n",
    "from scipy.stats import beta\n",
    "from scipy.stats import gamma\n",
    "from scipy.stats import norm\n",
    "import matplotlib.pyplot as plt\n",
    "import itertools"
   ]
  },
  {
   "cell_type": "markdown",
   "metadata": {},
   "source": [
    "## Pull in functions"
   ]
  },
  {
   "cell_type": "code",
   "execution_count": 3,
   "metadata": {},
   "outputs": [],
   "source": [
    "run ../common_functions.ipynb"
   ]
  },
  {
   "cell_type": "code",
   "execution_count": 4,
   "metadata": {},
   "outputs": [],
   "source": [
    "run ../single_alpha_decay_functions.ipynb"
   ]
  },
  {
   "cell_type": "markdown",
   "metadata": {},
   "source": [
    "## Functions to simulate data"
   ]
  },
  {
   "cell_type": "code",
   "execution_count": 5,
   "metadata": {},
   "outputs": [],
   "source": [
    "def select_response(prob):     \n",
    "    n = random.uniform(0,1)\n",
    "    if n > prob:\n",
    "        response = 0\n",
    "    else:\n",
    "        response = 1\n",
    "    return response"
   ]
  },
  {
   "cell_type": "markdown",
   "metadata": {},
   "source": [
    "### Set constants"
   ]
  },
  {
   "cell_type": "code",
   "execution_count": 6,
   "metadata": {},
   "outputs": [],
   "source": [
    "recip_rates = {0: 0.93, 1:0.6, 2:0.07}"
   ]
  },
  {
   "cell_type": "markdown",
   "metadata": {},
   "source": [
    "### New function to simulate data for one sub"
   ]
  },
  {
   "cell_type": "code",
   "execution_count": 7,
   "metadata": {},
   "outputs": [],
   "source": [
    "def sim_data(tn, params):\n",
    "    # tn: number of trials desired\n",
    "    # params: ground truth of parameters\n",
    "    \n",
    "    alpha = params[0]\n",
    "    beta = params[1]\n",
    "    decay = params[2]\n",
    "\n",
    "    \n",
    "    # initialize variables\n",
    "    Probs = [0.5, 0.5, 0.5]\n",
    "    EVs = [[9,9,9,9],[9,9,9,9],[9,9,9,9]]\n",
    "    \n",
    "    # generate trial sequence\n",
    "    trial_sequence = np.repeat([0,1,2], tn)\n",
    "    random.shuffle(trial_sequence) #print(trial_sequence)\n",
    "    \n",
    "    trial = []\n",
    "    choices = []\n",
    "    responses = []\n",
    "    \n",
    "    for x in range(0,len(trial_sequence)):\n",
    "        t = trial_sequence[x] \n",
    "        \n",
    "        # Trial\n",
    "        trial.append(x+1)\n",
    "        \n",
    "        # Make a choice\n",
    "        choice = action_selection(get_action_selection_probs(beta, EVs[t]))\n",
    "        choices.append(choice) \n",
    "    \n",
    "        # Get a response\n",
    "        recip_rate = recip_rates.get(t) \n",
    "        \n",
    "        response = select_response(recip_rate) \n",
    "        responses.append(response)\n",
    "    \n",
    "        # after choice, update probability\n",
    "        if choice != 1:\n",
    "            Probs[t] = update_prob(response, Probs[t], alpha)\n",
    "        # then update value\n",
    "        EVs[t] = update_value(Probs[t]) \n",
    "        \n",
    "        # decay prob and value for other possible trustees \n",
    "        options = [0, 1, 2]\n",
    "        if choice == 2 or choice == 3 or choice == 4:\n",
    "            options.pop(t)\n",
    "        for x in options:\n",
    "            Probs[x] = Probs[x] + decay * (0.5 - Probs[x])\n",
    "            EVs[x] =  update_value(Probs[x]) \n",
    "\n",
    "    data = {'Trial': trial, 'Stim_Sequence': trial_sequence, 'Choice' : choices, 'Trustee_Response': responses}    \n",
    "    return data"
   ]
  },
  {
   "cell_type": "code",
   "execution_count": 8,
   "metadata": {},
   "outputs": [],
   "source": [
    "# check simulation \n",
    "#sim_data(15,[.2, 2, .2])"
   ]
  },
  {
   "cell_type": "markdown",
   "metadata": {},
   "source": [
    "### Pull in best-fit parameters from participants"
   ]
  },
  {
   "cell_type": "code",
   "execution_count": 11,
   "metadata": {},
   "outputs": [
    {
     "name": "stdout",
     "output_type": "stream",
     "text": [
      "          id     alpha          beta     decay      X.LLH       -LLH\n",
      "0   sub-2013  0.004415  2.000000e+01  0.032207  46.686238        NaN\n",
      "1   sub-2007  0.212075  3.359906e-01  0.000000  51.644795        NaN\n",
      "2   sub-2006  0.000000  1.000000e-10  1.000000  60.996952        NaN\n",
      "3   sub-2012  1.000000  1.499341e-01  0.621076  61.447734        NaN\n",
      "4   sub-2004  0.173984  1.224196e+00  0.010163  35.031480        NaN\n",
      "..       ...       ...           ...       ...        ...        ...\n",
      "58  sub-2021  0.935232  1.868886e-01  0.000000        NaN  54.493332\n",
      "59  sub-2037  1.000000  2.674687e-01  0.070692        NaN  49.838614\n",
      "60  sub-2023  0.482881  6.157203e-01  0.000000        NaN  34.813597\n",
      "61  sub-2022  0.536960  8.943738e-03  1.000000        NaN  60.995161\n",
      "62  sub-2036  0.001895  2.000000e+01  1.000000        NaN  62.186124\n",
      "\n",
      "[63 rows x 6 columns]\n"
     ]
    }
   ],
   "source": [
    "dt1 = pd.read_csv('../../../output/single_alpha_with_decay_model_params.csv')\n",
    "dt2 = pd.read_csv('../../../output/missing_single_alpha_with_decay_model_params.csv')\n",
    "dt = pd.concat([dt1, dt2], ignore_index = True)\n",
    "print(dt)"
   ]
  },
  {
   "cell_type": "code",
   "execution_count": 12,
   "metadata": {},
   "outputs": [
    {
     "name": "stdout",
     "output_type": "stream",
     "text": [
      "0     0.032207\n",
      "1     0.000000\n",
      "2     1.000000\n",
      "3     0.621076\n",
      "4     0.010163\n",
      "        ...   \n",
      "58    0.000000\n",
      "59    0.070692\n",
      "60    0.000000\n",
      "61    1.000000\n",
      "62    1.000000\n",
      "Name: decay, Length: 63, dtype: float64\n"
     ]
    }
   ],
   "source": [
    "alphas = dt['alpha']\n",
    "betas = dt['beta']\n",
    "decays = dt['decay']\n",
    "parent_sub = dt['id']\n",
    "print(decays)"
   ]
  },
  {
   "cell_type": "markdown",
   "metadata": {},
   "source": [
    "### Simulate data"
   ]
  },
  {
   "cell_type": "code",
   "execution_count": 13,
   "metadata": {},
   "outputs": [],
   "source": [
    "data = pd.DataFrame(columns= ['Trial', 'Stim_Sequence', 'Choice', 'Trustee_Response', 'Subject', 'Alpha', 'Beta', 'Decay'])\n",
    "for p in range(len(alphas)):\n",
    "    for q in range(1,11):\n",
    "        dt = sim_data(15, [alphas[p], betas[p], decays[p]])\n",
    "        dt['Subject'] = parent_sub[p] + '_' + str(q)\n",
    "        dt['Alpha'] = [alphas[p]] * 45\n",
    "        dt['Beta'] = [betas[p]] * 45\n",
    "        dt['Decay'] = [decays[p]] * 45\n",
    "        dt = pd.DataFrame(dt)\n",
    "        data = pd.concat([data, dt])\n",
    "\n",
    "data.to_csv(path_or_buf = '../../../output/simulation/part_params/sim_1alpha_decay_model_data.csv', index = False)"
   ]
  },
  {
   "cell_type": "code",
   "execution_count": null,
   "metadata": {},
   "outputs": [],
   "source": []
  }
 ],
 "metadata": {
  "kernelspec": {
   "display_name": "Python 3 (ipykernel)",
   "language": "python",
   "name": "python3"
  },
  "language_info": {
   "codemirror_mode": {
    "name": "ipython",
    "version": 3
   },
   "file_extension": ".py",
   "mimetype": "text/x-python",
   "name": "python",
   "nbconvert_exporter": "python",
   "pygments_lexer": "ipython3",
   "version": "3.11.0"
  }
 },
 "nbformat": 4,
 "nbformat_minor": 2
}
