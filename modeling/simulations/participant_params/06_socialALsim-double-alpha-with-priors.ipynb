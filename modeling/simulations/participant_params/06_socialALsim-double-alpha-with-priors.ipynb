{
 "cells": [
  {
   "cell_type": "markdown",
   "metadata": {},
   "source": [
    "### SocialAL Models\n",
    "# Data simulation using best-fit parameters - multiple subjects\n",
    "KLS 8.30.19; update 7.7.22; updated 10.31.22  \n",
    "Project info: https://osf.io/b48n2/\n",
    "\n",
    "Model modified from :\n",
    "Fareri, D. S., Chang, L. J., & Delgado, M. R. (2012). Effects of direct social experience on trust decisions and neural reward circuitry. Frontiers in Neuroscience, 6, 1–17. https://doi.org/10.3389/fnins.2012.00148"
   ]
  },
  {
   "cell_type": "markdown",
   "metadata": {},
   "source": [
    "### Python version"
   ]
  },
  {
   "cell_type": "code",
   "execution_count": 1,
   "metadata": {},
   "outputs": [
    {
     "name": "stdout",
     "output_type": "stream",
     "text": [
      "3.11.0 (v3.11.0:deaf509e8f, Oct 24 2022, 14:43:23) [Clang 13.0.0 (clang-1300.0.29.30)]\n"
     ]
    }
   ],
   "source": [
    "import sys\n",
    "print(sys.version)  "
   ]
  },
  {
   "cell_type": "markdown",
   "metadata": {},
   "source": [
    "### Load modules"
   ]
  },
  {
   "cell_type": "code",
   "execution_count": 2,
   "metadata": {},
   "outputs": [],
   "source": [
    "import numpy as np\n",
    "import random\n",
    "import math\n",
    "import pandas as pd\n",
    "from scipy.optimize import minimize\n",
    "from scipy.stats import beta\n",
    "from scipy.stats import gamma\n",
    "from scipy.stats import uniform\n",
    "import matplotlib.pyplot as plt\n",
    "import itertools"
   ]
  },
  {
   "cell_type": "markdown",
   "metadata": {},
   "source": [
    "## Pull in functions"
   ]
  },
  {
   "cell_type": "code",
   "execution_count": 3,
   "metadata": {},
   "outputs": [],
   "source": [
    "run ../common_functions.ipynb"
   ]
  },
  {
   "cell_type": "code",
   "execution_count": 4,
   "metadata": {},
   "outputs": [],
   "source": [
    "run ../priors_functions.ipynb"
   ]
  },
  {
   "cell_type": "markdown",
   "metadata": {},
   "source": [
    "## Functions to simulate data"
   ]
  },
  {
   "cell_type": "code",
   "execution_count": 5,
   "metadata": {},
   "outputs": [],
   "source": [
    "def select_response(prob):     \n",
    "    n = random.uniform(0,1)\n",
    "    if n > prob:\n",
    "        response = 0\n",
    "    else:\n",
    "        response = 1\n",
    "    return response"
   ]
  },
  {
   "cell_type": "markdown",
   "metadata": {},
   "source": [
    "### Set constants"
   ]
  },
  {
   "cell_type": "code",
   "execution_count": 6,
   "metadata": {},
   "outputs": [],
   "source": [
    "recip_rates = {0: 0.93, 1:0.6, 2:0.07}"
   ]
  },
  {
   "cell_type": "markdown",
   "metadata": {},
   "source": [
    "### New function to simulate data for one sub"
   ]
  },
  {
   "cell_type": "code",
   "execution_count": 7,
   "metadata": {},
   "outputs": [],
   "source": [
    "def sim_data(tn, params):\n",
    "    # tn: number of trials desired\n",
    "    # params: ground truth of parameters\n",
    "    a_gain = params[0]\n",
    "    a_loss = params[1]\n",
    "    beta = params[2]\n",
    "    prob = params[3:6]\n",
    "    \n",
    "    # initialize variables\n",
    "    Probs = [0.5, 0.5, 0.5]\n",
    "    EVs = [[9,9,9,9],[9,9,9,9],[9,9,9,9]]\n",
    "    \n",
    "    # generate trial sequence\n",
    "    trial_sequence = np.repeat([0,1,2], tn)\n",
    "    random.shuffle(trial_sequence) #print(trial_sequence)\n",
    "    \n",
    "    trial = []\n",
    "    choices = []\n",
    "    responses = []\n",
    "    \n",
    "    for x in range(0,len(trial_sequence)):\n",
    "        t = trial_sequence[x] \n",
    "        \n",
    "        # Trial\n",
    "        trial.append(x+1)\n",
    "        \n",
    "        # Make a choice\n",
    "        choice = action_selection(get_action_selection_probs(beta, EVs[t]))\n",
    "        choices.append(choice) \n",
    "    \n",
    "        # Get a response\n",
    "        recip_rate = recip_rates.get(t) \n",
    "        \n",
    "        response = select_response(recip_rate) \n",
    "        responses.append(response)\n",
    "    \n",
    "        # after choice, update probability\n",
    "        if choice != 1:\n",
    "            Probs[t] = update_prob(response, Probs[t], a_gain, a_loss) \n",
    "        # then update value\n",
    "        EVs[t] = update_value(Probs[t]) \n",
    "\n",
    "    data = {'Trial': trial, 'Stim_Sequence': trial_sequence, 'Choice' : choices, 'Trustee_Response': responses}    \n",
    "    return data"
   ]
  },
  {
   "cell_type": "code",
   "execution_count": 9,
   "metadata": {},
   "outputs": [],
   "source": [
    "#sim_data(15,[.2,.3,2,.5, .8, .2])"
   ]
  },
  {
   "cell_type": "markdown",
   "metadata": {},
   "source": [
    "### Pull in best-fit parameters from participants"
   ]
  },
  {
   "cell_type": "code",
   "execution_count": 10,
   "metadata": {},
   "outputs": [
    {
     "name": "stdout",
     "output_type": "stream",
     "text": [
      "          id  alpha_gain  alpha_loss      beta  iProb_trust  iProb_neut  \\\n",
      "0   sub-1009    0.886495    0.012511  0.126113     0.987471    0.987153   \n",
      "1   sub-1021    0.139032    0.337882  0.532192     0.996336    0.522594   \n",
      "2   sub-1035    0.278623    0.423078  0.379328     0.692258    0.983758   \n",
      "3   sub-1034    0.298891    0.663975  0.434164     0.986609    0.766490   \n",
      "4   sub-1020    0.293184    0.748133  0.485972     1.000000    0.062512   \n",
      "..       ...         ...         ...       ...          ...         ...   \n",
      "58  sub-2009    0.003951    0.398593  0.090728     0.037509    0.018708   \n",
      "59  sub-2037    0.237740    0.858579  0.290348     0.133304    0.106669   \n",
      "60  sub-2023    0.166507    0.350909  0.704742     0.630379    0.559936   \n",
      "61  sub-2022    0.002954    0.662100  0.038958     0.027248    0.016404   \n",
      "62  sub-2036    0.712716    0.010051  0.144787     1.000000    0.999152   \n",
      "\n",
      "    iProb_untrust       -LLH  \n",
      "0    1.274585e-05  57.315963  \n",
      "1    2.059150e-02  37.246681  \n",
      "2    1.056108e-15  42.035076  \n",
      "3    2.087051e-09  40.799979  \n",
      "4    3.372012e-14  34.926014  \n",
      "..            ...        ...  \n",
      "58   0.000000e+00  60.494120  \n",
      "59   9.417845e-25  48.732444  \n",
      "60   2.036600e-02  32.032964  \n",
      "61   2.546448e-23  60.669682  \n",
      "62   5.748566e-01  60.820502  \n",
      "\n",
      "[63 rows x 8 columns]\n"
     ]
    }
   ],
   "source": [
    "dt1 = pd.read_csv('../../../output/prior_model_params_younger.csv')\n",
    "dt2 = pd.read_csv('../../../output/prior_model_params_older.csv')\n",
    "dt = pd.concat([dt1, dt2], ignore_index = True)\n",
    "print(dt)"
   ]
  },
  {
   "cell_type": "code",
   "execution_count": 13,
   "metadata": {},
   "outputs": [
    {
     "name": "stdout",
     "output_type": "stream",
     "text": [
      "0     0.886495\n",
      "1     0.139032\n",
      "2     0.278623\n",
      "3     0.298891\n",
      "4     0.293184\n",
      "        ...   \n",
      "58    0.003951\n",
      "59    0.237740\n",
      "60    0.166507\n",
      "61    0.002954\n",
      "62    0.712716\n",
      "Name: alpha_gain, Length: 63, dtype: float64\n"
     ]
    }
   ],
   "source": [
    "a_gains = dt['alpha_gain']\n",
    "a_losses = dt['alpha_loss']\n",
    "betas = dt['beta']\n",
    "iprobA = dt['iProb_trust']\n",
    "iprobB = dt['iProb_neut']\n",
    "iprobC = dt['iProb_untrust']\n",
    "parent_sub = dt['id']\n",
    "print(a_gains)"
   ]
  },
  {
   "cell_type": "markdown",
   "metadata": {},
   "source": [
    "### Simulate data"
   ]
  },
  {
   "cell_type": "code",
   "execution_count": 16,
   "metadata": {},
   "outputs": [],
   "source": [
    "data = pd.DataFrame(columns= ['Trial','Stim_Sequence', 'Choice', 'Trustee_Response', 'Subject', \n",
    "                              'Alpha_gain', 'Alpha_loss','Beta', 'iProbA', 'iProbB', 'iProbC'])\n",
    "for p in range(len(betas)):\n",
    "    for q in range(1,11):\n",
    "        dt = sim_data(15, [a_gains[p], a_losses[p], betas[p], iprobA[p], iprobB[p], iprobC[p]])\n",
    "        dt['Subject'] = parent_sub[p] + '_' + str(q)\n",
    "        dt['Alpha_gain'] = a_gains[p] \n",
    "        dt['Alpha_loss'] = a_losses[p]\n",
    "        dt['Beta'] = betas[p]\n",
    "        dt['iProbA'] = iprobA[p]\n",
    "        dt['iProbB'] =  iprobB[p]\n",
    "        dt['iProbC'] = iprobC[p]\n",
    "        dt = pd.DataFrame(dt)\n",
    "        data = pd.concat([data, dt])\n",
    "\n",
    "data.to_csv(path_or_buf = '../../../output/simulation/part_params/sim_2alpha_with_priors_model_data.csv', index = False)"
   ]
  },
  {
   "cell_type": "code",
   "execution_count": 15,
   "metadata": {},
   "outputs": [
    {
     "name": "stdout",
     "output_type": "stream",
     "text": [
      "   Trial Stim_Sequence Choice Trustee_Response      Subject  Alpha_gain  \\\n",
      "0      1             1      1                0   sub-1009_1    0.886495   \n",
      "1      2             0      1                1   sub-1009_1    0.886495   \n",
      "2      3             2      3                0   sub-1009_1    0.886495   \n",
      "3      4             0      1                1   sub-1009_1    0.886495   \n",
      "4      5             1      3                0   sub-1009_1    0.886495   \n",
      "..   ...           ...    ...              ...          ...         ...   \n",
      "40    41             2      4                0  sub-2036_10    0.712716   \n",
      "41    42             2      2                0  sub-2036_10    0.712716   \n",
      "42    43             2      4                0  sub-2036_10    0.712716   \n",
      "43    44             0      2                1  sub-2036_10    0.712716   \n",
      "44    45             1      3                1  sub-2036_10    0.712716   \n",
      "\n",
      "    Alpha_loss      Beta    iProbA    iProbB    iProbC  \n",
      "0     0.012511  0.126113  0.987471  0.987153  0.000013  \n",
      "1     0.012511  0.126113  0.987471  0.987153  0.000013  \n",
      "2     0.012511  0.126113  0.987471  0.987153  0.000013  \n",
      "3     0.012511  0.126113  0.987471  0.987153  0.000013  \n",
      "4     0.012511  0.126113  0.987471  0.987153  0.000013  \n",
      "..         ...       ...       ...       ...       ...  \n",
      "40    0.010051  0.144787  1.000000  0.999152  0.574857  \n",
      "41    0.010051  0.144787  1.000000  0.999152  0.574857  \n",
      "42    0.010051  0.144787  1.000000  0.999152  0.574857  \n",
      "43    0.010051  0.144787  1.000000  0.999152  0.574857  \n",
      "44    0.010051  0.144787  1.000000  0.999152  0.574857  \n",
      "\n",
      "[28350 rows x 11 columns]\n"
     ]
    }
   ],
   "source": [
    "print(data)"
   ]
  }
 ],
 "metadata": {
  "kernelspec": {
   "display_name": "Python 3 (ipykernel)",
   "language": "python",
   "name": "python3"
  },
  "language_info": {
   "codemirror_mode": {
    "name": "ipython",
    "version": 3
   },
   "file_extension": ".py",
   "mimetype": "text/x-python",
   "name": "python",
   "nbconvert_exporter": "python",
   "pygments_lexer": "ipython3",
   "version": "3.11.0"
  }
 },
 "nbformat": 4,
 "nbformat_minor": 2
}
