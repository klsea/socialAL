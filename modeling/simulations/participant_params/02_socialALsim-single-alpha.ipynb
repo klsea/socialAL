{
 "cells": [
  {
   "cell_type": "markdown",
   "metadata": {},
   "source": [
    "### SocialAL Models\n",
    "# Data simulation using best-fit parameters - multiple subjects\n",
    "KLS 8.30.19; update 7.7.22; update 10.31.22\n",
    "Project info: https://osf.io/b48n2/\n",
    "\n",
    "Model modified from :\n",
    "Fareri, D. S., Chang, L. J., & Delgado, M. R. (2012). Effects of direct social experience on trust decisions and neural reward circuitry. Frontiers in Neuroscience, 6, 1–17. https://doi.org/10.3389/fnins.2012.00148"
   ]
  },
  {
   "cell_type": "markdown",
   "metadata": {},
   "source": [
    "### Python version"
   ]
  },
  {
   "cell_type": "code",
   "execution_count": 1,
   "metadata": {},
   "outputs": [
    {
     "name": "stdout",
     "output_type": "stream",
     "text": [
      "3.11.0 (v3.11.0:deaf509e8f, Oct 24 2022, 14:43:23) [Clang 13.0.0 (clang-1300.0.29.30)]\n"
     ]
    }
   ],
   "source": [
    "import sys\n",
    "print(sys.version)  "
   ]
  },
  {
   "cell_type": "markdown",
   "metadata": {},
   "source": [
    "### Load modules"
   ]
  },
  {
   "cell_type": "code",
   "execution_count": 2,
   "metadata": {},
   "outputs": [],
   "source": [
    "import numpy as np\n",
    "import random\n",
    "import math\n",
    "import pandas as pd\n",
    "from scipy.optimize import minimize\n",
    "from scipy.stats import beta\n",
    "from scipy.stats import gamma\n",
    "import matplotlib.pyplot as plt\n",
    "import itertools"
   ]
  },
  {
   "cell_type": "markdown",
   "metadata": {},
   "source": [
    "## Pull in functions"
   ]
  },
  {
   "cell_type": "code",
   "execution_count": 3,
   "metadata": {},
   "outputs": [],
   "source": [
    "run ../common_functions.ipynb"
   ]
  },
  {
   "cell_type": "code",
   "execution_count": 4,
   "metadata": {},
   "outputs": [],
   "source": [
    "run ../single_alpha_functions.ipynb"
   ]
  },
  {
   "cell_type": "markdown",
   "metadata": {},
   "source": [
    "## Functions to simulate data"
   ]
  },
  {
   "cell_type": "code",
   "execution_count": 5,
   "metadata": {},
   "outputs": [],
   "source": [
    "def select_response(prob):     \n",
    "    n = random.uniform(0,1)\n",
    "    if n > prob:\n",
    "        response = 0\n",
    "    else:\n",
    "        response = 1\n",
    "    return response"
   ]
  },
  {
   "cell_type": "markdown",
   "metadata": {},
   "source": [
    "### Set constants"
   ]
  },
  {
   "cell_type": "code",
   "execution_count": 6,
   "metadata": {},
   "outputs": [],
   "source": [
    "recip_rates = {0: 0.93, 1:0.6, 2:0.07}"
   ]
  },
  {
   "cell_type": "markdown",
   "metadata": {},
   "source": [
    "### New function to simulate data for one sub"
   ]
  },
  {
   "cell_type": "code",
   "execution_count": 7,
   "metadata": {},
   "outputs": [],
   "source": [
    "def sim_data(tn, params):\n",
    "    # tn: number of trials desired\n",
    "    # params: ground truth of parameters\n",
    "    \n",
    "    alpha = params[0]\n",
    "    beta = params[1]\n",
    "\n",
    "    \n",
    "    # initialize variables\n",
    "    Probs = [0.5, 0.5, 0.5]\n",
    "    EVs = [[9,9,9,9],[9,9,9,9],[9,9,9,9]]\n",
    "    param1=[]\n",
    "    param2=[]\n",
    "    \n",
    "    # generate trial sequence\n",
    "    trial_sequence = np.repeat([0,1,2], tn)\n",
    "    random.shuffle(trial_sequence) #print(trial_sequence)\n",
    "    \n",
    "    trial = []\n",
    "    choices = []\n",
    "    responses = []\n",
    "    \n",
    "    for x in range(0,len(trial_sequence)):\n",
    "        t = trial_sequence[x] \n",
    "        \n",
    "        # Trial\n",
    "        trial.append(x+1)\n",
    "        \n",
    "        # Make a choice\n",
    "        choice = action_selection(get_action_selection_probs(beta, EVs[t]))\n",
    "        choices.append(choice) \n",
    "    \n",
    "        # Get a response\n",
    "        recip_rate = recip_rates.get(t) \n",
    "        \n",
    "        response = select_response(recip_rate) \n",
    "        responses.append(response)\n",
    "    \n",
    "        # after choice, update probability\n",
    "        if choice != 1: \n",
    "            Probs[t] = update_prob(response, Probs[t], alpha)\n",
    "        # then update value\n",
    "        EVs[t] = update_value(Probs[t]) \n",
    "\n",
    "    data = {'Trial': trial, 'Stim_Sequence': trial_sequence, 'Choice' : choices, 'Trustee_Response': responses, \n",
    "            'Alpha': [alpha]* tn * 3, 'Beta': [beta] * tn * 3}    \n",
    "    return data"
   ]
  },
  {
   "cell_type": "code",
   "execution_count": 8,
   "metadata": {},
   "outputs": [],
   "source": [
    "#sim_data(15,[.2,2])"
   ]
  },
  {
   "cell_type": "markdown",
   "metadata": {},
   "source": [
    "### Pull in best-fit parameters from participants"
   ]
  },
  {
   "cell_type": "code",
   "execution_count": 9,
   "metadata": {},
   "outputs": [
    {
     "name": "stdout",
     "output_type": "stream",
     "text": [
      "          id     alpha          beta      X.LLH\n",
      "0   sub-2013  0.003099  2.000000e+01  47.030085\n",
      "1   sub-2007  0.212075  3.359905e-01  51.644795\n",
      "2   sub-2006  0.000000  1.000000e-10  60.996952\n",
      "3   sub-2012  0.000000  1.000000e-10  62.383246\n",
      "4   sub-2004  0.180936  1.098443e+00  35.077751\n",
      "..       ...       ...           ...        ...\n",
      "58  sub-2009  0.000000  1.000000e-10  62.383246\n",
      "59  sub-2037  1.000000  2.120724e-01  50.237647\n",
      "60  sub-2023  0.482881  6.157203e-01  34.813597\n",
      "61  sub-2022  0.000000  1.000000e-10  60.996952\n",
      "62  sub-2036  0.000000  1.000000e-10  62.383246\n",
      "\n",
      "[63 rows x 4 columns]\n"
     ]
    }
   ],
   "source": [
    "dt = pd.read_csv('../../../output/single_alpha_model_params.csv')\n",
    "print(dt)"
   ]
  },
  {
   "cell_type": "code",
   "execution_count": 10,
   "metadata": {},
   "outputs": [
    {
     "name": "stdout",
     "output_type": "stream",
     "text": [
      "0     0.003099\n",
      "1     0.212075\n",
      "2     0.000000\n",
      "3     0.000000\n",
      "4     0.180936\n",
      "        ...   \n",
      "58    0.000000\n",
      "59    1.000000\n",
      "60    0.482881\n",
      "61    0.000000\n",
      "62    0.000000\n",
      "Name: alpha, Length: 63, dtype: float64\n"
     ]
    }
   ],
   "source": [
    "alphas = dt['alpha']\n",
    "betas = dt['beta']\n",
    "parent_sub = dt['id']\n",
    "print(alphas)"
   ]
  },
  {
   "cell_type": "markdown",
   "metadata": {},
   "source": [
    "### Simulate data"
   ]
  },
  {
   "cell_type": "code",
   "execution_count": 11,
   "metadata": {},
   "outputs": [],
   "source": [
    "data = pd.DataFrame(columns= ['Trial', 'Stim_Sequence', 'Choice', 'Trustee_Response', 'Alpha', 'Beta', 'Subject'])\n",
    "for p in range(len(alphas)):\n",
    "    for q in range(1,11):\n",
    "        dt = sim_data(15, [alphas[p], betas[p]])\n",
    "        dt['Subject'] = parent_sub[p] + '_' + str(q) #[p + 1] * 45\n",
    "        dt = pd.DataFrame(dt)\n",
    "        data = pd.concat([data, dt])\n",
    "    \n",
    "data.to_csv(path_or_buf = '../../../output/simulation/part_params/sim_1alpha_model_data.csv', index = False)"
   ]
  },
  {
   "cell_type": "code",
   "execution_count": 12,
   "metadata": {},
   "outputs": [
    {
     "name": "stdout",
     "output_type": "stream",
     "text": [
      "   Trial Stim_Sequence Choice Trustee_Response     Alpha          Beta  \\\n",
      "0      1             1      1                1  0.003099  2.000000e+01   \n",
      "1      2             2      1                0  0.003099  2.000000e+01   \n",
      "2      3             2      1                0  0.003099  2.000000e+01   \n",
      "3      4             1      2                1  0.003099  2.000000e+01   \n",
      "4      5             1      1                0  0.003099  2.000000e+01   \n",
      "..   ...           ...    ...              ...       ...           ...   \n",
      "40    41             0      2                0  0.000000  1.000000e-10   \n",
      "41    42             1      1                0  0.000000  1.000000e-10   \n",
      "42    43             1      4                0  0.000000  1.000000e-10   \n",
      "43    44             0      4                1  0.000000  1.000000e-10   \n",
      "44    45             2      1                0  0.000000  1.000000e-10   \n",
      "\n",
      "        Subject  \n",
      "0    sub-2013_1  \n",
      "1    sub-2013_1  \n",
      "2    sub-2013_1  \n",
      "3    sub-2013_1  \n",
      "4    sub-2013_1  \n",
      "..          ...  \n",
      "40  sub-2036_10  \n",
      "41  sub-2036_10  \n",
      "42  sub-2036_10  \n",
      "43  sub-2036_10  \n",
      "44  sub-2036_10  \n",
      "\n",
      "[28350 rows x 7 columns]\n"
     ]
    }
   ],
   "source": [
    "print(data)"
   ]
  },
  {
   "cell_type": "code",
   "execution_count": null,
   "metadata": {},
   "outputs": [],
   "source": []
  }
 ],
 "metadata": {
  "kernelspec": {
   "display_name": "Python 3 (ipykernel)",
   "language": "python",
   "name": "python3"
  },
  "language_info": {
   "codemirror_mode": {
    "name": "ipython",
    "version": 3
   },
   "file_extension": ".py",
   "mimetype": "text/x-python",
   "name": "python",
   "nbconvert_exporter": "python",
   "pygments_lexer": "ipython3",
   "version": "3.11.0"
  }
 },
 "nbformat": 4,
 "nbformat_minor": 2
}
