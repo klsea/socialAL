{
 "cells": [
  {
   "cell_type": "markdown",
   "metadata": {},
   "source": [
    "### SocialAL Models\n",
    "# Data simulation using best-fit parameters - multiple subjects\n",
    "KLS 8.30.19; update 7.7.22; 10.31.22  \n",
    "Project info: https://osf.io/b48n2/\n",
    "\n",
    "Model modified from :\n",
    "Fareri, D. S., Chang, L. J., & Delgado, M. R. (2012). Effects of direct social experience on trust decisions and neural reward circuitry. Frontiers in Neuroscience, 6, 1–17. https://doi.org/10.3389/fnins.2012.00148"
   ]
  },
  {
   "cell_type": "markdown",
   "metadata": {},
   "source": [
    "### Python version"
   ]
  },
  {
   "cell_type": "code",
   "execution_count": 1,
   "metadata": {},
   "outputs": [
    {
     "name": "stdout",
     "output_type": "stream",
     "text": [
      "3.11.0 (v3.11.0:deaf509e8f, Oct 24 2022, 14:43:23) [Clang 13.0.0 (clang-1300.0.29.30)]\n"
     ]
    }
   ],
   "source": [
    "import sys\n",
    "print(sys.version)  "
   ]
  },
  {
   "cell_type": "markdown",
   "metadata": {},
   "source": [
    "### Load modules"
   ]
  },
  {
   "cell_type": "code",
   "execution_count": 2,
   "metadata": {},
   "outputs": [],
   "source": [
    "import numpy as np\n",
    "import random\n",
    "import math\n",
    "import pandas as pd\n",
    "from scipy.optimize import minimize\n",
    "from scipy.stats import beta\n",
    "from scipy.stats import gamma\n",
    "from scipy.stats import norm\n",
    "import matplotlib.pyplot as plt\n",
    "import itertools"
   ]
  },
  {
   "cell_type": "markdown",
   "metadata": {},
   "source": [
    "## Pull in functions"
   ]
  },
  {
   "cell_type": "code",
   "execution_count": 3,
   "metadata": {},
   "outputs": [],
   "source": [
    "run ../common_functions.ipynb"
   ]
  },
  {
   "cell_type": "code",
   "execution_count": 4,
   "metadata": {},
   "outputs": [],
   "source": [
    "run ../double_alpha_decay_functions.ipynb"
   ]
  },
  {
   "cell_type": "markdown",
   "metadata": {},
   "source": [
    "## Functions to simulate data"
   ]
  },
  {
   "cell_type": "code",
   "execution_count": 5,
   "metadata": {},
   "outputs": [],
   "source": [
    "def select_response(prob):     \n",
    "    n = random.uniform(0,1)\n",
    "    if n > prob:\n",
    "        response = 0\n",
    "    else:\n",
    "        response = 1\n",
    "    return response"
   ]
  },
  {
   "cell_type": "markdown",
   "metadata": {},
   "source": [
    "### Set constants"
   ]
  },
  {
   "cell_type": "code",
   "execution_count": 6,
   "metadata": {},
   "outputs": [],
   "source": [
    "recip_rates = {0: 0.93, 1:0.6, 2:0.07}"
   ]
  },
  {
   "cell_type": "markdown",
   "metadata": {},
   "source": [
    "### New function to simulate data for one sub"
   ]
  },
  {
   "cell_type": "code",
   "execution_count": 7,
   "metadata": {},
   "outputs": [],
   "source": [
    "def sim_data(tn, params):\n",
    "    # tn: number of trials desired\n",
    "    # params: ground truth of parameters\n",
    "    a_gain = params[0]\n",
    "    a_loss = params[1]\n",
    "    beta = params[2]\n",
    "    decay = params[3]\n",
    "    \n",
    "    # initialize variables\n",
    "    Probs = [0.5, 0.5, 0.5]\n",
    "    EVs = [[9,9,9,9],[9,9,9,9],[9,9,9,9]]\n",
    "    \n",
    "    # generate trial sequence\n",
    "    trial_sequence = np.repeat([0,1,2], tn)\n",
    "    random.shuffle(trial_sequence) #print(trial_sequence)\n",
    "    \n",
    "    trial = []\n",
    "    choices = []\n",
    "    responses = []\n",
    "    \n",
    "    for x in range(0,len(trial_sequence)):\n",
    "        t = trial_sequence[x] \n",
    "        \n",
    "        # Trial\n",
    "        trial.append(x+1)\n",
    "        \n",
    "        # Make a choice\n",
    "        choice = action_selection(get_action_selection_probs(beta, EVs[t]))\n",
    "        choices.append(choice) \n",
    "    \n",
    "        # Get a response\n",
    "        recip_rate = recip_rates.get(t) \n",
    "        \n",
    "        response = select_response(recip_rate) \n",
    "        responses.append(response)\n",
    "    \n",
    "        # after choice, update probability\n",
    "        if choice != 1:\n",
    "            Probs[t] = update_prob(response, Probs[t], a_gain, a_loss) \n",
    "        # then update value\n",
    "        EVs[t] = update_value(Probs[t]) \n",
    "        \n",
    "        # decay prob and value for other possible trustees \n",
    "        options = [0, 1, 2]\n",
    "        if choice == 2 or choice == 3 or choice == 4:\n",
    "            options.pop(t)\n",
    "        for x in options:\n",
    "            Probs[x] = Probs[x] + decay * (0.5 - Probs[x])\n",
    "            EVs[x] =  update_value(Probs[x]) \n",
    "\n",
    "    data = {'Trial': trial, 'Stim_Sequence': trial_sequence, 'Choice' : choices, 'Trustee_Response': responses}    \n",
    "    return data"
   ]
  },
  {
   "cell_type": "code",
   "execution_count": 8,
   "metadata": {},
   "outputs": [],
   "source": [
    "#sim_data(15,[.2, .3, 2, .4])"
   ]
  },
  {
   "cell_type": "markdown",
   "metadata": {},
   "source": [
    "### Pull in best-fit parameters from participants"
   ]
  },
  {
   "cell_type": "code",
   "execution_count": 11,
   "metadata": {},
   "outputs": [
    {
     "name": "stdout",
     "output_type": "stream",
     "text": [
      "          id  alpha_gain  alpha_loss       beta     decay       -LLH\n",
      "0   sub-1009    0.001106    0.001341  20.000000  0.000000  57.040450\n",
      "1   sub-1021    0.009335    0.025581  20.000000  0.053900  30.456762\n",
      "2   sub-1035    1.000000    0.535426   0.387557  0.008331  41.896743\n",
      "3   sub-1034    0.093360    0.190526   2.336965  0.068830  35.488460\n",
      "4   sub-1020    0.004375    0.054778  20.000000  0.041766  29.820692\n",
      "..       ...         ...         ...        ...       ...        ...\n",
      "58  sub-2009    0.000000    0.002525  20.000000  0.134186  61.362892\n",
      "59  sub-2037    0.112370    1.000000   0.702037  0.137956  46.209416\n",
      "60  sub-2023    0.007256    0.017130  20.000000  0.003410  31.599882\n",
      "61  sub-2022    1.000000    0.000000   0.075135  1.000000  60.717200\n",
      "62  sub-2036    0.734792    0.000000   0.097911  0.000000  61.106887\n",
      "\n",
      "[63 rows x 6 columns]\n"
     ]
    }
   ],
   "source": [
    "dt1 = pd.read_csv('../../../output/two_alpha_with_decay_model_params_younger.csv')\n",
    "dt2 = pd.read_csv('../../../output/two_alpha_with_decay_model_params_older.csv')\n",
    "dt = pd.concat([dt1, dt2], ignore_index = True)\n",
    "print(dt)"
   ]
  },
  {
   "cell_type": "code",
   "execution_count": 12,
   "metadata": {},
   "outputs": [
    {
     "name": "stdout",
     "output_type": "stream",
     "text": [
      "0     0.001106\n",
      "1     0.009335\n",
      "2     1.000000\n",
      "3     0.093360\n",
      "4     0.004375\n",
      "        ...   \n",
      "58    0.000000\n",
      "59    0.112370\n",
      "60    0.007256\n",
      "61    1.000000\n",
      "62    0.734792\n",
      "Name: alpha_gain, Length: 63, dtype: float64\n"
     ]
    }
   ],
   "source": [
    "a_gains = dt['alpha_gain']\n",
    "a_losses = dt['alpha_loss']\n",
    "betas = dt['beta']\n",
    "decays = dt['decay']\n",
    "parent_sub = dt['id']\n",
    "print(a_gains)"
   ]
  },
  {
   "cell_type": "markdown",
   "metadata": {},
   "source": [
    "### Simulate data"
   ]
  },
  {
   "cell_type": "code",
   "execution_count": 17,
   "metadata": {},
   "outputs": [],
   "source": [
    "data = pd.DataFrame(columns= ['Trial','Stim_Sequence', 'Choice', 'Trustee_Response', 'Subject', 'Alpha_gain', 'Alpha_loss','Beta', 'Decay'])\n",
    "for p in range(len(decays)):\n",
    "    for q in range(1,11):\n",
    "        dt = sim_data(15, [a_gains[p], a_losses[p], betas[p], decays[p]])\n",
    "        dt['Subject'] = parent_sub[p] + '_' + str(q)\n",
    "        dt['Alpha_gain'] = [a_gains[p]] * 45\n",
    "        dt['Alpha_loss'] = [a_losses[p]] * 45\n",
    "        dt['Beta'] = [betas[p]] * 45\n",
    "        dt['Decay'] = [decays[p]] * 45\n",
    "        dt = pd.DataFrame(dt)\n",
    "        data = pd.concat([data, dt])\n",
    "\n",
    "data.to_csv(path_or_buf = '../../../output/simulation/part_params/sim_2alpha_decay_model_data.csv', index = False)\n"
   ]
  },
  {
   "cell_type": "code",
   "execution_count": 18,
   "metadata": {},
   "outputs": [
    {
     "name": "stdout",
     "output_type": "stream",
     "text": [
      "   Trial Stim_Sequence Choice Trustee_Response      Subject  Alpha_gain  \\\n",
      "0      1             1      1                0   sub-1009_1    0.001106   \n",
      "1      2             2      4                0   sub-1009_1    0.001106   \n",
      "2      3             0      4                1   sub-1009_1    0.001106   \n",
      "3      4             1      2                1   sub-1009_1    0.001106   \n",
      "4      5             0      3                1   sub-1009_1    0.001106   \n",
      "..   ...           ...    ...              ...          ...         ...   \n",
      "40    41             1      1                1  sub-2036_10    0.734792   \n",
      "41    42             0      3                1  sub-2036_10    0.734792   \n",
      "42    43             2      4                0  sub-2036_10    0.734792   \n",
      "43    44             1      4                1  sub-2036_10    0.734792   \n",
      "44    45             2      3                1  sub-2036_10    0.734792   \n",
      "\n",
      "    Alpha_loss       Beta  Decay  \n",
      "0     0.001341  20.000000    0.0  \n",
      "1     0.001341  20.000000    0.0  \n",
      "2     0.001341  20.000000    0.0  \n",
      "3     0.001341  20.000000    0.0  \n",
      "4     0.001341  20.000000    0.0  \n",
      "..         ...        ...    ...  \n",
      "40    0.000000   0.097911    0.0  \n",
      "41    0.000000   0.097911    0.0  \n",
      "42    0.000000   0.097911    0.0  \n",
      "43    0.000000   0.097911    0.0  \n",
      "44    0.000000   0.097911    0.0  \n",
      "\n",
      "[28350 rows x 9 columns]\n"
     ]
    }
   ],
   "source": [
    "print(data)"
   ]
  },
  {
   "cell_type": "code",
   "execution_count": null,
   "metadata": {},
   "outputs": [],
   "source": []
  }
 ],
 "metadata": {
  "kernelspec": {
   "display_name": "Python 3 (ipykernel)",
   "language": "python",
   "name": "python3"
  },
  "language_info": {
   "codemirror_mode": {
    "name": "ipython",
    "version": 3
   },
   "file_extension": ".py",
   "mimetype": "text/x-python",
   "name": "python",
   "nbconvert_exporter": "python",
   "pygments_lexer": "ipython3",
   "version": "3.11.0"
  }
 },
 "nbformat": 4,
 "nbformat_minor": 2
}
