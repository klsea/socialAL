{
 "cells": [
  {
   "cell_type": "markdown",
   "metadata": {},
   "source": [
    "## SocialAL Model\n",
    "# Fit model to data - one subject with variable prior probability\n",
    "KLS 2.03.21  \n",
    "Project info: https://osf.io/b48n2/\n",
    "\n",
    "Model modified from :\n",
    "Fareri, D. S., Chang, L. J., & Delgado, M. R. (2012). Effects of direct social experience on trust decisions and neural reward circuitry. Frontiers in Neuroscience, 6, 1–17. https://doi.org/10.3389/fnins.2012.00148"
   ]
  },
  {
   "cell_type": "markdown",
   "metadata": {},
   "source": [
    "### Python Version"
   ]
  },
  {
   "cell_type": "code",
   "execution_count": 1,
   "metadata": {},
   "outputs": [
    {
     "name": "stdout",
     "output_type": "stream",
     "text": [
      "3.7.4 (default, Aug 13 2019, 15:17:50) \n",
      "[Clang 4.0.1 (tags/RELEASE_401/final)]\n"
     ]
    }
   ],
   "source": [
    "import sys\n",
    "print(sys.version)  "
   ]
  },
  {
   "cell_type": "markdown",
   "metadata": {},
   "source": [
    "### Load modules"
   ]
  },
  {
   "cell_type": "code",
   "execution_count": 2,
   "metadata": {},
   "outputs": [],
   "source": [
    "import numpy as np\n",
    "import random\n",
    "import math\n",
    "import pandas as pd\n",
    "from scipy.optimize import minimize\n",
    "import os\n",
    "from decimal import *"
   ]
  },
  {
   "cell_type": "markdown",
   "metadata": {},
   "source": [
    "### Define functions"
   ]
  },
  {
   "cell_type": "code",
   "execution_count": 3,
   "metadata": {},
   "outputs": [],
   "source": [
    "def update_value(Prob):\n",
    "    invest = [0,3,6,9]\n",
    "    retain = [9-x for x in invest] #print (\"Retain list is: \", retain)\n",
    "    shared = [2*x for x in invest] #print (\"Shared list is: \", shared)\n",
    "    EV = [(retain[x] + Prob*shared[x]) for x in range(0,4)]\n",
    "    return EV\n",
    "\n",
    "def update_prob(recip, Prob, a_gain, a_loss):\n",
    "    gain = max(recip - Prob, 0)\n",
    "    loss = min(recip - Prob, 0)\n",
    "    Prob = Prob + a_gain * gain + a_loss * loss\n",
    "    return Prob\n",
    "\n",
    "def get_action_selection_prob(beta, EV, choice):\n",
    "    actionProb = Decimal(np.exp(beta*EV[choice-1])/np.sum([np.exp(beta*x) for x in EV]))\n",
    "    return actionProb\n",
    "\n",
    "def get_action_selection_probs(beta, EV):\n",
    "    actionProbs = [get_action_selection_prob(beta, EV, x) for x in range(1,5)]\n",
    "    return actionProbs\n",
    "\n",
    "def get_likelihood_action(params, data):\n",
    "    a_gain = params[0]\n",
    "    a_loss = params[1]\n",
    "    beta = params[2]\n",
    "    prob = params[3:6]\n",
    "    \n",
    "    \n",
    "    # initialize variables\n",
    "    #prob = [0.5, 0.5, 0.5] #allowed to vary for best-fit\n",
    "    #ev = [[9,9,9,9],[9,9,9,9],[9,9,9,9]] #allowed to vary for best-fit prob\n",
    "    ev = [update_value(prob[0]), update_value(prob[1]), update_value(prob[2])]\n",
    "    \n",
    "    totalLLH = 0 \n",
    "    for trial in range(0, len(data)):\n",
    "        #print('Trial: ' + str(trial +1))\n",
    "        trustee = data['Stim_Sequence'][trial] # get trustee type\n",
    "        choice = data['Choice'][trial] # get choice made by participant\n",
    "        response = data['Trustee_Response'][trial] # get response from trustee\n",
    "        \n",
    "        # compute the probability of selecting each option for that trustee\n",
    "        probs = get_action_selection_probs(beta, ev[trustee])\n",
    "        \n",
    "        # use the probability of the selection (choice-probability) to update log likelihood\n",
    "        if choice != 0:\n",
    "            cprob = probs[choice-1] #print(cprob, isinstance(cprob, float))\n",
    "            #add to cumulative log likelihood\n",
    "            totalLLH += -(math.log(cprob))\n",
    "        \n",
    "            # update prob and value\n",
    "            if choice != 1:\n",
    "                prob[trustee] = update_prob(response, prob[trustee], a_gain, a_loss)\n",
    "            ev[trustee] = update_value(prob[trustee])\n",
    "        #print(totalLLH)\n",
    "        #print(ev[trustee])\n",
    "        \n",
    "    return totalLLH\n",
    "\n",
    "def model_fit_once(data):\n",
    "        # initialize free parameters with randomly chosen numbers\n",
    "        a_gain=random.uniform(0, 1)\n",
    "        a_loss=random.uniform(0, 1)\n",
    "        beta=random.uniform(0, 1)\n",
    "        prob1=random.uniform(0,1)\n",
    "        prob2=random.uniform(0,1)\n",
    "        prob3=random.uniform(0,1)\n",
    "        params = [a_gain, a_loss, beta, prob1, prob2, prob3]\n",
    "        \n",
    "        #results = minimize(get_likelihood_action, \n",
    "                           #params, args =(data), method='BFGS', options = {'maxiter': 10000, 'disp': False})\n",
    "        results = minimize(get_likelihood_action, \n",
    "                       params, args =(data), bounds = [(0, 1), (0, 1), (1e-10, 100), (0, 1), (0, 1), (0, 1)], \n",
    "                       options = {'maxiter': 10000, 'disp': False})\n",
    "        return results\n",
    "\n",
    "def model_fit(data):\n",
    "    \n",
    "    tries = 10000 #  number of tries to find the best-fit parameter\n",
    "    lowestLLH = math.inf \n",
    "    bestFit = 'NA'\n",
    "    \n",
    "    for i in range(tries):\n",
    "        \n",
    "        # initialize free parameters with randomly chosen numbers\n",
    "        a_gain=random.uniform(0, 1)\n",
    "        a_loss=random.uniform(0, 1)\n",
    "        beta=random.uniform(0, 1)\n",
    "        prob1=random.uniform(0,1)\n",
    "        prob2=random.uniform(0,1)\n",
    "        prob3=random.uniform(0,1)\n",
    "        params = [a_gain, a_loss, beta, prob1, prob2, prob3]\n",
    "\n",
    "        # trying different solvers in the minimize call...\n",
    "        results = minimize(get_likelihood_action, \n",
    "                           params, args =(data), bounds = [(0, 1), (0, 1), (1e-10, 20), (0, 1), (0, 1), (0, 1)], \n",
    "                           options = {'maxiter': 10000, 'disp': False})\n",
    "        if (lowestLLH > results['fun'] and results['success']== True):\n",
    "            lowestLLH = results['fun']\n",
    "            bestFit = results\n",
    "    \n",
    "    return bestFit\n",
    "    "
   ]
  },
  {
   "cell_type": "markdown",
   "metadata": {},
   "source": [
    "### Load and clean data"
   ]
  },
  {
   "cell_type": "code",
   "execution_count": 4,
   "metadata": {},
   "outputs": [],
   "source": [
    "#os.listdir('../data/modeling') "
   ]
  },
  {
   "cell_type": "code",
   "execution_count": 5,
   "metadata": {},
   "outputs": [],
   "source": [
    "#dt = pd.read_csv('../data/modeling/sub-1004.csv')\n",
    "dt = pd.read_csv('../data/modeling/sub-1005.csv')\n",
    "#dt = pd.read_csv('../data/modeling/sub-1008.csv') #- try getting this sub to work\n",
    "#dt = pd.read_csv('../data/modeling/sub-2011.csv') #- try getting this sub to work\n",
    "#dt = pd.read_csv('../data/modeling/sub-2013.csv') #- try getting this sub to work\n",
    "#dt = pd.read_csv('../data/modeling/sub-2032.csv') #- try getting this sub to work\n",
    "# recode trial type into numbers for model\n",
    "def stims(trial_type):\n",
    "    if trial_type == \"Trustworthy\":\n",
    "        return 0\n",
    "    elif trial_type == \"Neutral\":\n",
    "        return 1\n",
    "    elif trial_type == \"Untrustworthy\":\n",
    "        return 2\n",
    "dt['Stim_Sequence'] = dt['trial_type'].apply(stims)\n",
    "# rename response_key to choice\n",
    "def choices(response_key):\n",
    "    if response_key == 'None':\n",
    "        return 0 \n",
    "    else:\n",
    "        return response_key  \n",
    "dt['Choice'] = dt['response_key'].apply(choices)\n",
    "dt['Choice'] = pd.to_numeric(dt['Choice'])\n",
    "# calculte the trustee response\n",
    "def resp(trial_earnings):\n",
    "    if trial_earnings >= 12:\n",
    "        return 1\n",
    "    else:\n",
    "        return 0\n",
    "dt['Trustee_Response'] = dt['trial_earnings'].apply(resp)\n",
    "data = dt[['Stim_Sequence','Choice', 'Trustee_Response']]"
   ]
  },
  {
   "cell_type": "code",
   "execution_count": 6,
   "metadata": {},
   "outputs": [
    {
     "name": "stdout",
     "output_type": "stream",
     "text": [
      "Context(prec=10000000, rounding=ROUND_HALF_EVEN, Emin=-999999, Emax=999999, capitals=1, clamp=0, flags=[], traps=[InvalidOperation, DivisionByZero, Overflow])\n"
     ]
    },
    {
     "data": {
      "text/plain": [
       "      fun: 38.36252926047759\n",
       " hess_inv: <6x6 LbfgsInvHessProduct with dtype=float64>\n",
       "      jac: array([2378.21769815, 2380.27362371, 2379.41740266, 2377.32076513,\n",
       "       2367.98332338, 2377.97894229])\n",
       "  message: b'CONVERGENCE: REL_REDUCTION_OF_F_<=_FACTR*EPSMCH'\n",
       "     nfev: 259\n",
       "      nit: 19\n",
       "   status: 0\n",
       "  success: True\n",
       "        x: array([0.02558206, 0.16614975, 0.89889051, 0.55454406, 0.39659296,\n",
       "       0.00256807])"
      ]
     },
     "execution_count": 6,
     "metadata": {},
     "output_type": "execute_result"
    }
   ],
   "source": [
    "getcontext().prec = 10000000 # increases the precision of data representation \n",
    "print(getcontext())\n",
    "params = model_fit(data)\n",
    "params\n"
   ]
  },
  {
   "cell_type": "code",
   "execution_count": 7,
   "metadata": {
    "scrolled": true
   },
   "outputs": [
    {
     "data": {
      "text/plain": [
       "array([2.55820635e-02, 1.66149747e-01, 8.98890510e-01, 5.54544064e-01,\n",
       "       3.96592958e-01, 2.56806609e-03, 3.83625293e+01])"
      ]
     },
     "execution_count": 7,
     "metadata": {},
     "output_type": "execute_result"
    }
   ],
   "source": [
    "line = np.append(params.x, params.fun)\n",
    "line"
   ]
  },
  {
   "cell_type": "code",
   "execution_count": null,
   "metadata": {},
   "outputs": [],
   "source": []
  }
 ],
 "metadata": {
  "kernelspec": {
   "display_name": "Python 3",
   "language": "python",
   "name": "python3"
  },
  "language_info": {
   "codemirror_mode": {
    "name": "ipython",
    "version": 3
   },
   "file_extension": ".py",
   "mimetype": "text/x-python",
   "name": "python",
   "nbconvert_exporter": "python",
   "pygments_lexer": "ipython3",
   "version": "3.7.4"
  }
 },
 "nbformat": 4,
 "nbformat_minor": 2
}
