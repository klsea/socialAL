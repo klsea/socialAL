{
 "cells": [
  {
   "cell_type": "markdown",
   "metadata": {},
   "source": [
    "# SocialAL Model\n",
    "### KLS 5.30.19\n",
    "\n",
    "Model modified from :\n",
    "\n",
    "Fareri, D. S., Chang, L. J., & Delgado, M. R. (2012). Effects of direct social experience on trust decisions and neural reward circuitry. Frontiers in Neuroscience, 6, 1–17. https://doi.org/10.3389/fnins.2012.00148"
   ]
  },
  {
   "cell_type": "markdown",
   "metadata": {},
   "source": [
    "## Setup"
   ]
  },
  {
   "cell_type": "markdown",
   "metadata": {},
   "source": [
    "### Load modules"
   ]
  },
  {
   "cell_type": "code",
   "execution_count": 1,
   "metadata": {},
   "outputs": [],
   "source": [
    "import numpy as np\n",
    "import random"
   ]
  },
  {
   "cell_type": "markdown",
   "metadata": {},
   "source": [
    "### Initialize free parameters\n",
    "**a_gain**: gain learning rate (varies 0-1)  \n",
    "**a_loss**: loss learning rate (varies 0-1)  \n",
    "**beta**: inverse temperature paramter (varies 0-1)"
   ]
  },
  {
   "cell_type": "code",
   "execution_count": 2,
   "metadata": {},
   "outputs": [],
   "source": [
    "a_gain=0.2\n",
    "a_loss=0.2\n",
    "beta=1"
   ]
  },
  {
   "cell_type": "markdown",
   "metadata": {},
   "source": [
    "### Initialize other variables\n",
    "Three potential trustees: A, B, C [Trustworthy, Neutral, Untrustworthy?]  \n",
    "**ProbA, ProbB, ProbC** = Belief about likelihood of reciprocation  \n",
    "**actionProb** = Probability of a participant investing with the trustee  \n",
    "**EvA, EvB, EvC** = Expected value of each potential action towards a partner  \n",
    "**choice** = The choice (how much to entrust) taken by the participant  \n",
    "**recip** = Whether or not the trustee reciprocated (y in paper)"
   ]
  },
  {
   "cell_type": "code",
   "execution_count": 3,
   "metadata": {},
   "outputs": [],
   "source": [
    "ProbA = 0.5\n",
    "ProbB = 0.5\n",
    "ProbC = 0.5\n",
    "actionProb = 0.5\n",
    "EvA = [9,9,9,9]\n",
    "EvB = [9,9,9,9]\n",
    "EvC = [9,9,9,9]\n",
    "choice = 2\n",
    "recip = 0\n"
   ]
  },
  {
   "cell_type": "markdown",
   "metadata": {},
   "source": [
    "### Declare constants\n",
    "Four potential actions: 1, 2, 3, 4  \n",
    "1 = $\\$$0 money is entrusted with trustee  ( $\\$$9 retained, $\\$$0 potentially reciprocated)  \n",
    "2 = $\\$$3 is entrusted with trustee ( $\\$$6 retained, $\\$$6 potentially reciprocated)  \n",
    "3 = $\\$$6 is entrusted with trustee ( $\\$$3 retained, $\\$$12 potentially reciprocated)  \n",
    "4 = $\\$$9 is entrusted with trustee ( $\\$$0 retained, $\\$$18 potentially reciprocated)"
   ]
  },
  {
   "cell_type": "code",
   "execution_count": 4,
   "metadata": {},
   "outputs": [
    {
     "name": "stdout",
     "output_type": "stream",
     "text": [
      "Retain list is:  [9, 6, 3, 0]\n",
      "Shared list is:  [0, 6, 12, 18]\n"
     ]
    }
   ],
   "source": [
    "invest = [0,3,6,9]\n",
    "retain = [9-x for x in invest]\n",
    "print \"Retain list is: \", retain\n",
    "shared = [2*x for x in invest]\n",
    "print \"Shared list is: \", shared\n"
   ]
  },
  {
   "cell_type": "markdown",
   "metadata": {},
   "source": [
    "## Define functions"
   ]
  },
  {
   "cell_type": "markdown",
   "metadata": {},
   "source": [
    "### Update probabilities"
   ]
  },
  {
   "cell_type": "code",
   "execution_count": 5,
   "metadata": {},
   "outputs": [],
   "source": [
    "def update_prob(recip, Prob, a_gain, a_loss):\n",
    "#    print \"Trustee response is: \", recip\n",
    "#    print \"Prob starts as: \" , Prob\n",
    "    gain = max(recip - Prob, 0)\n",
    "    loss = min(recip - Prob, 0)\n",
    "#    print \"Gain: \" , gain , \", Loss: \" , loss\n",
    "    Prob = Prob + a_gain * gain + a_loss * loss\n",
    "#    print \"Prob is now: \" , Prob\n",
    "    return Prob\n"
   ]
  },
  {
   "cell_type": "markdown",
   "metadata": {},
   "source": [
    "### Update Values"
   ]
  },
  {
   "cell_type": "code",
   "execution_count": 6,
   "metadata": {},
   "outputs": [],
   "source": [
    "def update_value(Prob, EV, choice):\n",
    "#    print \"Action is: \", choice\n",
    "#    print \"Values starts as: \", EV\n",
    "#    print \"Prob starts as: \" , Prob\n",
    "#    print 'Retain is: ', retain[action-1]\n",
    "    EV[choice-1] = retain[choice-1] + Prob*shared[choice-1]\n",
    "#    print \"Values change to: \", EV\n",
    "    return EV"
   ]
  },
  {
   "cell_type": "markdown",
   "metadata": {},
   "source": [
    "### Softmax action selection\n",
    "_update with code from Jess_"
   ]
  },
  {
   "cell_type": "code",
   "execution_count": 7,
   "metadata": {},
   "outputs": [],
   "source": [
    "def get_action_selection_prob(beta, EV, choice):\n",
    "    print \"Beta is: \", beta\n",
    "    print \"Expected value of option is: \", EV[choice-1]\n",
    "    numerator = np.exp(beta*EV[choice-1])\n",
    "    denominator = np.sum([np.exp(beta*x) for x in EV])\n",
    "    actionProb = numerator/denominator\n",
    "    print \"Probability of investing: \", actionProb\n",
    "    return actionProb\n"
   ]
  },
  {
   "cell_type": "markdown",
   "metadata": {},
   "source": [
    "## Test functions\n",
    "\n",
    "### Test updating on Trustee A (reciprocates 93% of the time)"
   ]
  },
  {
   "cell_type": "code",
   "execution_count": 8,
   "metadata": {},
   "outputs": [
    {
     "name": "stdout",
     "output_type": "stream",
     "text": [
      "Choice sequence is:  [3, 2, 1, 2, 4, 4, 2, 3, 3, 1]\n",
      "Response sequence is:  [1, 1, 1, 1, 1, 1, 1, 1, 0, 1]\n",
      "0.772891136\n",
      "[9.0, 11.213568, 11.59336704, 15.05088]\n"
     ]
    }
   ],
   "source": [
    "choice = [1,2,3,4,1,2,3,4,2,3]\n",
    "random.shuffle(choice)\n",
    "print 'Choice sequence is: ', choice\n",
    "recip = [1,1,0,1,1,1,1,1,1,1]\n",
    "random.shuffle(recip)\n",
    "print 'Response sequence is: ', recip\n",
    "\n",
    "for i in range(1,len(choice)):\n",
    "    ProbA = update_prob(recip[i],ProbA, a_gain, a_loss)\n",
    "    EvA = update_value(ProbA, EvA, choice[i])\n",
    "    \n",
    "print ProbA\n",
    "print EvA"
   ]
  },
  {
   "cell_type": "markdown",
   "metadata": {},
   "source": [
    "### Test updating on Trustee B (reciprocates 60% of the time)"
   ]
  },
  {
   "cell_type": "code",
   "execution_count": 9,
   "metadata": {},
   "outputs": [
    {
     "name": "stdout",
     "output_type": "stream",
     "text": [
      "Choice sequence is:  [2, 3, 1, 3, 2, 2, 1, 4, 4, 3]\n",
      "Response sequence is:  [1, 1, 1, 0, 1, 0, 1, 0, 0, 1]\n",
      "0.510542336\n",
      "[9.0, 9.04896, 9.126508032, 6.987202559999999]\n"
     ]
    }
   ],
   "source": [
    "choice = [1,2,3,4,1,2,3,4,2,3]\n",
    "random.shuffle(choice)\n",
    "print 'Choice sequence is: ', choice\n",
    "recip = [0,1,0,1,1,0,1,1,0,1]\n",
    "random.shuffle(recip)\n",
    "print 'Response sequence is: ', recip\n",
    "\n",
    "for i in range(1,len(choice)):\n",
    "    ProbB = update_prob(recip[i],ProbB, a_gain, a_loss)\n",
    "    EvB = update_value(ProbB, EvB, choice[i])\n",
    "print ProbB\n",
    "print EvB"
   ]
  },
  {
   "cell_type": "markdown",
   "metadata": {},
   "source": [
    "### Test updating on Trustee C (reciprocates 7% of the time)"
   ]
  },
  {
   "cell_type": "code",
   "execution_count": 10,
   "metadata": {},
   "outputs": [
    {
     "name": "stdout",
     "output_type": "stream",
     "text": [
      "Choice sequence is:  [3, 2, 1, 4, 3, 1, 2, 2, 3, 4]\n",
      "Response sequence is:  [0, 0, 0, 1, 0, 0, 0, 0, 0, 0]\n",
      "0.119537664\n",
      "[9.0, 7.1206656, 4.79306496, 2.151677952]\n"
     ]
    }
   ],
   "source": [
    "choice = [1,2,3,4,1,2,3,4,2,3]\n",
    "random.shuffle(choice)\n",
    "print 'Choice sequence is: ', choice\n",
    "recip = [0,0,0,1,0,0,0,0,0,0]\n",
    "random.shuffle(recip)\n",
    "print 'Response sequence is: ', recip\n",
    "\n",
    "for i in range(1,len(choice)):\n",
    "    ProbC = update_prob(recip[i],ProbC, a_gain, a_loss)\n",
    "    EvC = update_value(ProbC, EvC, choice[i])\n",
    "    \n",
    "print ProbC\n",
    "print EvC"
   ]
  },
  {
   "cell_type": "markdown",
   "metadata": {},
   "source": [
    "### Test action selection"
   ]
  },
  {
   "cell_type": "markdown",
   "metadata": {},
   "source": [
    "need to code"
   ]
  },
  {
   "cell_type": "markdown",
   "metadata": {},
   "source": [
    "### Calculate LL \n",
    "need to code"
   ]
  }
 ],
 "metadata": {
  "kernelspec": {
   "display_name": "Python 2",
   "language": "python",
   "name": "python2"
  },
  "language_info": {
   "codemirror_mode": {
    "name": "ipython",
    "version": 2
   },
   "file_extension": ".py",
   "mimetype": "text/x-python",
   "name": "python",
   "nbconvert_exporter": "python",
   "pygments_lexer": "ipython2",
   "version": "2.7.15"
  }
 },
 "nbformat": 4,
 "nbformat_minor": 2
}
