{
 "cells": [
  {
   "cell_type": "markdown",
   "metadata": {},
   "source": [
    "# SocialAL Model\n",
    "# Fit model to data - multiple subjects\n",
    "KLS 9.19.19  \n",
    "Project info: https://osf.io/b48n2/\n",
    "\n",
    "Model modified from :\n",
    "Fareri, D. S., Chang, L. J., & Delgado, M. R. (2012). Effects of direct social experience on trust decisions and neural reward circuitry. Frontiers in Neuroscience, 6, 1–17. https://doi.org/10.3389/fnins.2012.00148"
   ]
  },
  {
   "cell_type": "markdown",
   "metadata": {},
   "source": [
    "### Python Version"
   ]
  },
  {
   "cell_type": "code",
   "execution_count": 1,
   "metadata": {},
   "outputs": [
    {
     "name": "stdout",
     "output_type": "stream",
     "text": [
      "3.7.4 (default, Aug 13 2019, 15:17:50) \n",
      "[Clang 4.0.1 (tags/RELEASE_401/final)]\n"
     ]
    }
   ],
   "source": [
    "import sys\n",
    "print(sys.version)  "
   ]
  },
  {
   "cell_type": "markdown",
   "metadata": {},
   "source": [
    "### Load modules"
   ]
  },
  {
   "cell_type": "code",
   "execution_count": 2,
   "metadata": {},
   "outputs": [],
   "source": [
    "import numpy as np\n",
    "import random\n",
    "import math\n",
    "import pandas as pd\n",
    "from scipy.optimize import minimize\n",
    "import os\n",
    "from decimal import *\n",
    "getcontext().prec = 1000 # increases the precision of data representation "
   ]
  },
  {
   "cell_type": "markdown",
   "metadata": {},
   "source": [
    "### Define functions"
   ]
  },
  {
   "cell_type": "code",
   "execution_count": 3,
   "metadata": {},
   "outputs": [],
   "source": [
    "def update_value(Prob):\n",
    "    invest = [0,3,6,9]\n",
    "    retain = [9-x for x in invest] #print (\"Retain list is: \", retain)\n",
    "    shared = [2*x for x in invest] #print (\"Shared list is: \", shared)\n",
    "    EV = [(retain[x] + Prob*shared[x]) for x in range(0,4)]\n",
    "    return EV\n",
    "\n",
    "def update_prob(recip, Prob, a_gain, a_loss):\n",
    "    gain = max(recip - Prob, 0)\n",
    "    loss = min(recip - Prob, 0)\n",
    "    Prob = Prob + a_gain * gain + a_loss * loss\n",
    "    return Prob\n",
    "\n",
    "def get_action_selection_prob(beta, EV, choice):\n",
    "    actionProb = Decimal(np.exp(beta*EV[choice-1])/np.sum([np.exp(beta*x) for x in EV]))\n",
    "    return actionProb\n",
    "\n",
    "def get_action_selection_probs(beta, EV):\n",
    "    actionProbs = [get_action_selection_prob(beta, EV, x) for x in range(1,5)]\n",
    "    return actionProbs\n",
    "\n",
    "def get_likelihood_action(params, data):\n",
    "    a_gain = params[0]\n",
    "    a_loss = params[1]\n",
    "    beta = params[2]\n",
    "    \n",
    "    # initialize variables\n",
    "    prob = [0.5, 0.5, 0.5]\n",
    "    ev = [[9,9,9,9],[9,9,9,9],[9,9,9,9]]\n",
    "    \n",
    "    totalLLH = 0\n",
    "    for trial in range(0, len(data)):\n",
    "        trustee = data['Stim_Sequence'][trial] # get trustee type\n",
    "        choice = data['Choice'][trial] # get choice made by participant\n",
    "        response = data['Trustee_Response'][trial] # get response from trustee\n",
    "        \n",
    "        # compute the probability of selecting each option for that trustee\n",
    "        probs = get_action_selection_probs(beta, ev[trustee])\n",
    "        \n",
    "        if choice != 0:\n",
    "            # use the probability of the selection (choice-probability) to update log likelihood\n",
    "            cprob = probs[choice-1]\n",
    "        \n",
    "            #add to cumulative log likelihood\n",
    "            totalLLH += -math.log(cprob)\n",
    "        \n",
    "            # update prob and value\n",
    "            if choice != 1:\n",
    "                prob[trustee] = update_prob(response, prob[trustee], a_gain, a_loss)\n",
    "            ev[trustee] = update_value(prob[trustee])       \n",
    "    return totalLLH\n",
    "\n",
    "def model_fit(data):\n",
    "    \n",
    "    tries = 10000 #  number of tries to find the best-fit parameter\n",
    "    lowestLLH = math.inf \n",
    "    bestFit = 'NA'\n",
    "    \n",
    "    for i in range(tries):\n",
    "        \n",
    "        # initialize free parameters with randomly chosen numbers\n",
    "        a_gain=random.uniform(0, 1)\n",
    "        a_loss=random.uniform(0, 1)\n",
    "        beta=random.uniform(0, 1)\n",
    "        params = [a_gain, a_loss, beta]\n",
    "\n",
    "        # trying different solvers in the minimize call...\n",
    "        results = minimize(get_likelihood_action, \n",
    "                           params, args =(data), bounds = [(0, 1), (0, 1), (1e-10, 20)], \n",
    "                           options = {'maxiter': 10000, 'disp': False})\n",
    "        if (lowestLLH > results['fun'] and results['success']== True):\n",
    "            lowestLLH = results['fun']\n",
    "            bestFit = results\n",
    "        if bestFit == 'NA':\n",
    "            line = ['NA', 'NA', 'NA', 'NA']\n",
    "        else:\n",
    "            line = np.append(bestFit['x'], bestFit['fun'])\n",
    "      \n",
    "    return line"
   ]
  },
  {
   "cell_type": "markdown",
   "metadata": {},
   "source": [
    "### Load and clean data"
   ]
  },
  {
   "cell_type": "code",
   "execution_count": 4,
   "metadata": {},
   "outputs": [],
   "source": [
    "files = os.listdir('../data/modeling')"
   ]
  },
  {
   "cell_type": "code",
   "execution_count": 5,
   "metadata": {},
   "outputs": [],
   "source": [
    "def load_and_clean(file):\n",
    "    path = os.path.join('../data/modeling', file)\n",
    "    dt = pd.read_csv(path)\n",
    "    # recode trial type into numbers for model\n",
    "    def stims(trial_type):\n",
    "        if trial_type == \"Trustworthy\":\n",
    "            return 0\n",
    "        elif trial_type == \"Neutral\":\n",
    "            return 1\n",
    "        elif trial_type == \"Untrustworthy\":\n",
    "            return 2\n",
    "    dt['Stim_Sequence'] = dt['trial_type'].apply(stims)\n",
    "    # rename response_key to choice\n",
    "    def choices(response_key):\n",
    "        if response_key == 'None':\n",
    "            return 0 \n",
    "        else:\n",
    "            return response_key  \n",
    "    dt['Choice'] = dt['response_key'].apply(choices)\n",
    "    dt['Choice'] = pd.to_numeric(dt['Choice'])\n",
    "    # calculte the trustee response\n",
    "    def resp(trial_earnings):\n",
    "        if trial_earnings >= 12:\n",
    "            return 1\n",
    "        else:\n",
    "            return 0\n",
    "    dt['Trustee_Response'] = dt['trial_earnings'].apply(resp)\n",
    "    data = dt[['Stim_Sequence','Choice', 'Trustee_Response']]\n",
    "    return(data)"
   ]
  },
  {
   "cell_type": "code",
   "execution_count": 6,
   "metadata": {},
   "outputs": [
    {
     "name": "stdout",
     "output_type": "stream",
     "text": [
      "Context(prec=28, rounding=ROUND_HALF_EVEN, Emin=-999999, Emax=999999, capitals=1, clamp=0, flags=[], traps=[InvalidOperation, DivisionByZero, Overflow])\n"
     ]
    }
   ],
   "source": [
    "print(getcontext())\n",
    "params = [model_fit(load_and_clean(file)) for file in files]"
   ]
  },
  {
   "cell_type": "code",
   "execution_count": 7,
   "metadata": {},
   "outputs": [
    {
     "data": {
      "text/html": [
       "<div>\n",
       "<style scoped>\n",
       "    .dataframe tbody tr th:only-of-type {\n",
       "        vertical-align: middle;\n",
       "    }\n",
       "\n",
       "    .dataframe tbody tr th {\n",
       "        vertical-align: top;\n",
       "    }\n",
       "\n",
       "    .dataframe thead th {\n",
       "        text-align: right;\n",
       "    }\n",
       "</style>\n",
       "<table border=\"1\" class=\"dataframe\">\n",
       "  <thead>\n",
       "    <tr style=\"text-align: right;\">\n",
       "      <th></th>\n",
       "      <th>id</th>\n",
       "      <th>alpha_gain</th>\n",
       "      <th>alpha_loss</th>\n",
       "      <th>beta</th>\n",
       "      <th>-LLH</th>\n",
       "    </tr>\n",
       "  </thead>\n",
       "  <tbody>\n",
       "    <tr>\n",
       "      <td>0</td>\n",
       "      <td>sub-2013</td>\n",
       "      <td>0.003498</td>\n",
       "      <td>0.002143</td>\n",
       "      <td>20.000000</td>\n",
       "      <td>46.155479</td>\n",
       "    </tr>\n",
       "    <tr>\n",
       "      <td>1</td>\n",
       "      <td>sub-2007</td>\n",
       "      <td>0.289955</td>\n",
       "      <td>0.206801</td>\n",
       "      <td>0.303044</td>\n",
       "      <td>51.566509</td>\n",
       "    </tr>\n",
       "    <tr>\n",
       "      <td>2</td>\n",
       "      <td>sub-2006</td>\n",
       "      <td>0.000418</td>\n",
       "      <td>0.000000</td>\n",
       "      <td>19.110026</td>\n",
       "      <td>60.782458</td>\n",
       "    </tr>\n",
       "    <tr>\n",
       "      <td>3</td>\n",
       "      <td>sub-2012</td>\n",
       "      <td>0.018243</td>\n",
       "      <td>1.000000</td>\n",
       "      <td>0.416436</td>\n",
       "      <td>47.261224</td>\n",
       "    </tr>\n",
       "    <tr>\n",
       "      <td>4</td>\n",
       "      <td>sub-2004</td>\n",
       "      <td>0.070699</td>\n",
       "      <td>0.131740</td>\n",
       "      <td>2.112863</td>\n",
       "      <td>32.966208</td>\n",
       "    </tr>\n",
       "    <tr>\n",
       "      <td>...</td>\n",
       "      <td>...</td>\n",
       "      <td>...</td>\n",
       "      <td>...</td>\n",
       "      <td>...</td>\n",
       "      <td>...</td>\n",
       "    </tr>\n",
       "    <tr>\n",
       "      <td>68</td>\n",
       "      <td>sub-2009</td>\n",
       "      <td>0.000000</td>\n",
       "      <td>1.000000</td>\n",
       "      <td>0.071504</td>\n",
       "      <td>61.424165</td>\n",
       "    </tr>\n",
       "    <tr>\n",
       "      <td>69</td>\n",
       "      <td>sub-2037</td>\n",
       "      <td>0.001407</td>\n",
       "      <td>0.005477</td>\n",
       "      <td>20.000000</td>\n",
       "      <td>48.727043</td>\n",
       "    </tr>\n",
       "    <tr>\n",
       "      <td>70</td>\n",
       "      <td>sub-2023</td>\n",
       "      <td>0.007018</td>\n",
       "      <td>0.016642</td>\n",
       "      <td>20.000000</td>\n",
       "      <td>31.610172</td>\n",
       "    </tr>\n",
       "    <tr>\n",
       "      <td>71</td>\n",
       "      <td>sub-2022</td>\n",
       "      <td>0.000000</td>\n",
       "      <td>0.332208</td>\n",
       "      <td>0.034781</td>\n",
       "      <td>60.909432</td>\n",
       "    </tr>\n",
       "    <tr>\n",
       "      <td>72</td>\n",
       "      <td>sub-2036</td>\n",
       "      <td>0.734792</td>\n",
       "      <td>0.000000</td>\n",
       "      <td>0.097911</td>\n",
       "      <td>61.106887</td>\n",
       "    </tr>\n",
       "  </tbody>\n",
       "</table>\n",
       "<p>73 rows × 5 columns</p>\n",
       "</div>"
      ],
      "text/plain": [
       "          id  alpha_gain  alpha_loss       beta       -LLH\n",
       "0   sub-2013    0.003498    0.002143  20.000000  46.155479\n",
       "1   sub-2007    0.289955    0.206801   0.303044  51.566509\n",
       "2   sub-2006    0.000418    0.000000  19.110026  60.782458\n",
       "3   sub-2012    0.018243    1.000000   0.416436  47.261224\n",
       "4   sub-2004    0.070699    0.131740   2.112863  32.966208\n",
       "..       ...         ...         ...        ...        ...\n",
       "68  sub-2009    0.000000    1.000000   0.071504  61.424165\n",
       "69  sub-2037    0.001407    0.005477  20.000000  48.727043\n",
       "70  sub-2023    0.007018    0.016642  20.000000  31.610172\n",
       "71  sub-2022    0.000000    0.332208   0.034781  60.909432\n",
       "72  sub-2036    0.734792    0.000000   0.097911  61.106887\n",
       "\n",
       "[73 rows x 5 columns]"
      ]
     },
     "execution_count": 7,
     "metadata": {},
     "output_type": "execute_result"
    }
   ],
   "source": [
    "params = pd.DataFrame(params)\n",
    "params['id'] = [file[:-4] for file in files]\n",
    "# rename columns\n",
    "params = params.rename({0:'alpha_gain', 1:'alpha_loss', 2:'beta', 3:'-LLH', 'id':'id'}, axis='columns') \n",
    "cols = params.columns.tolist()\n",
    "cols = cols[-1:] + cols[:-1]\n",
    "params = params[cols]\n",
    "params"
   ]
  },
  {
   "cell_type": "code",
   "execution_count": 9,
   "metadata": {},
   "outputs": [],
   "source": [
    "# save parameters in text file\n",
    "params.to_csv(path_or_buf = '../output/two_alpha_model_params.csv', index = False)"
   ]
  },
  {
   "cell_type": "code",
   "execution_count": null,
   "metadata": {},
   "outputs": [],
   "source": []
  }
 ],
 "metadata": {
  "kernelspec": {
   "display_name": "Python 3",
   "language": "python",
   "name": "python3"
  },
  "language_info": {
   "codemirror_mode": {
    "name": "ipython",
    "version": 3
   },
   "file_extension": ".py",
   "mimetype": "text/x-python",
   "name": "python",
   "nbconvert_exporter": "python",
   "pygments_lexer": "ipython3",
   "version": "3.7.4"
  }
 },
 "nbformat": 4,
 "nbformat_minor": 2
}
